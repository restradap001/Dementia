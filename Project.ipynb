{
 "cells": [
  {
   "source": [
    "# Análisis de desórdenes mentales en el mundo."
   ],
   "cell_type": "markdown",
   "metadata": {}
  },
  {
   "source": [
    "## Introducción"
   ],
   "cell_type": "markdown",
   "metadata": {}
  },
  {
   "source": [
    "## Justificación\n",
    "El presente proyecto busca generar un análisis de la evolución de diversos desórdenes mentales en el mundo a lo largos de las últimas décadas. Para este proyecto se hace especial énfasis en la depresión, ya que se cuenta con una base de información extremadamente bien documentada sobre este fenómeno en particular y, por otro lado, este desorden en particular se encuentra como la mayor causa de discapacidad en el mundo, siendo entonces su estudio y comprensión de suma importancia para un mayor entendimiento de sus causas, consecuencias, así como de sus posibles soluciones.\n",
    "\n",
    "La OMS ha identificado fuertes vínculos entre la depresión y otros trastornos y enfermedades no transmisibles. La depresión aumenta el riesgo de trastornos por uso de sustancias y enfermedades como la diabetes y las enfermedades del corazón; lo contrario también es cierto, lo que significa que las personas con estas otras condiciones tienen un mayor riesgo de depresión.\n",
    "\n",
    "La depresión también es un factor de riesgo importante para el suicidio, que reclama cientos de miles de vidas cada año.\n",
    "\n",
    "Es por esta razón que un análisis que nos permita estudiarla resulta sumamente relevante."
   ],
   "cell_type": "markdown",
   "metadata": {}
  },
  {
   "source": [
    "## Preguntas clave\n",
    "- ¿A qué edad empiezan a manifestarse ciertos desórdenes?\n",
    "- ¿En qué zonas del mundo hay mayor prevalencia de desórdenes mentales?\n",
    "- ¿Qué tan prevalentes son estos desórdenes en países desarrollados? ¿Y en países en desarrollo?\n",
    "- ¿Qué tendencia tienen en su prevalencia a lo largo de los años?\n",
    "- ¿Está relacionada la depresión con el suicidio?"
   ],
   "cell_type": "markdown",
   "metadata": {}
  },
  {
   "cell_type": "markdown",
   "source": [
    "### Instalación de las librerías"
   ],
   "metadata": {
    "collapsed": false,
    "pycharm": {
     "name": "#%% md\n"
    }
   }
  },
  {
   "cell_type": "code",
   "execution_count": 121,
   "outputs": [],
   "source": [
    "#!pip install openpyxl\n",
    "#!pip install pandas\n",
    "#!pip install numpy"
   ],
   "metadata": {
    "collapsed": false,
    "pycharm": {
     "name": "#%%\n"
    }
   }
  },
  {
   "cell_type": "markdown",
   "source": [
    "### Importación de Librerías\n",
    "- Pandas"
   ],
   "metadata": {
    "collapsed": false
   }
  },
  {
   "cell_type": "code",
   "execution_count": 122,
   "outputs": [],
   "source": [
    "import pandas as pd"
   ],
   "metadata": {
    "collapsed": false,
    "pycharm": {
     "name": "#%%\n"
    }
   }
  },
  {
   "cell_type": "markdown",
   "source": [
    "### Lectura de datos"
   ],
   "metadata": {
    "collapsed": false,
    "pycharm": {
     "name": "#%% md\n"
    }
   }
  },
  {
   "cell_type": "code",
   "execution_count": 123,
   "outputs": [],
   "source": [
    "global_disorders = pd.read_excel(open('./data/depression.xlsx', 'rb'), sheet_name='prevalence-by-mental-and-substa')\n",
    "education_level = pd.read_excel(open('./data/depression.xlsx', 'rb'), sheet_name='depression-by-level-of-educatio')\n",
    "age_groups = pd.read_excel(open('./data/depression.xlsx', 'rb'), sheet_name='prevalence-of-depression-by-age')\n",
    "gender_groups = pd.read_excel(open('./data/depression.xlsx', 'rb'), sheet_name='prevalence-of-depression-males-')\n",
    "depression_and_suicide_rate = pd.read_excel(open('./data/depression.xlsx', 'rb'), sheet_name='suicide-rates-vs-prevalence-of-')\n",
    "affected = pd.read_excel(open('./data/depression.xlsx', 'rb'), sheet_name='number-with-depression-by-count')"
   ],
   "metadata": {
    "collapsed": false,
    "pycharm": {
     "name": "#%%\n"
    }
   }
  },
  {
   "cell_type": "markdown",
   "source": [
    "### Visualización las dimensiones de las tablas\n",
    "\n",
    "La uniformidad de los datos es importante, ya que nos permite concatenar fácilmente datos que están relacionados entre sí.\n",
    "\n",
    "Esto se puede realizar mediante la función <code>shape</code>."
   ],
   "metadata": {
    "collapsed": false,
    "pycharm": {
     "name": "#%% md\n"
    }
   }
  },
  {
   "cell_type": "code",
   "execution_count": 124,
   "outputs": [
    {
     "name": "stdout",
     "output_type": "stream",
     "text": [
      "global disorders:  (6468, 10)\n",
      "education levels (26, 15)\n",
      "age groups:  (6468, 13)\n",
      "gender groups:  (47807, 6)\n",
      "depression and suicide rate:  (47807, 6)\n",
      "affected:  (6468, 4)\n"
     ]
    }
   ],
   "source": [
    "print('global disorders: ', global_disorders.shape)\n",
    "print('education levels', education_level.shape)\n",
    "print('age groups: ', age_groups.shape)\n",
    "print('gender groups: ', gender_groups.shape)\n",
    "print('depression and suicide rate: ', depression_and_suicide_rate.shape)\n",
    "print('affected: ', affected.shape)"
   ],
   "metadata": {
    "collapsed": false,
    "pycharm": {
     "name": "#%%\n"
    }
   }
  },
  {
   "cell_type": "markdown",
   "source": [
    "### Nombre y tipos de datos\n",
    "\n",
    "La consistencia entre los metadatos de un conjunto de datos permite la correcta integración entre sí.\n",
    "\n",
    "Esto se puede realizar mediante la función <code>dtypes</code>."
   ],
   "metadata": {
    "collapsed": false,
    "pycharm": {
     "name": "#%% md\n"
    }
   }
  },
  {
   "cell_type": "markdown",
   "source": [
    "Tabla de índices de desórdenes globales"
   ],
   "metadata": {
    "collapsed": false,
    "pycharm": {
     "name": "#%% md\n"
    }
   }
  },
  {
   "cell_type": "code",
   "execution_count": 125,
   "outputs": [
    {
     "data": {
      "text/plain": "Entity                        object\nCode                          object\nYear                           int64\nSchizophrenia (%)            float64\nBipolar disorder (%)         float64\nEating disorders (%)         float64\nAnxiety disorders (%)        float64\nDrug use disorders (%)       float64\nDepression (%)               float64\nAlcohol use disorders (%)    float64\ndtype: object"
     },
     "execution_count": 125,
     "metadata": {},
     "output_type": "execute_result"
    }
   ],
   "source": [
    "global_disorders.dtypes"
   ],
   "metadata": {
    "collapsed": false,
    "pycharm": {
     "name": "#%%\n"
    }
   }
  },
  {
   "cell_type": "markdown",
   "source": [
    "Tabla de índices de depresión por nivel de educación"
   ],
   "metadata": {
    "collapsed": false,
    "pycharm": {
     "name": "#%% md\n"
    }
   }
  },
  {
   "cell_type": "code",
   "execution_count": 147,
   "outputs": [
    {
     "data": {
      "text/plain": "Entity                                                           object\nCode                                                             object\nYear                                                              int64\nAll levels (active) (%)                                         float64\nAll levels (employed) (%)                                       float64\nAll levels (total) (%)                                          float64\nBelow upper secondary (active) (%)                              float64\nBelow upper secondary (employed) (%)                            float64\nBelow upper secondary (total) (%)                               float64\nTertiary (active) (%)                                           float64\nTertiary (employed) (%)                                         float64\nTertiary (total) (%)                                            float64\nUpper secondary & post-secondary non-tertiary (active) (%)      float64\nUpper secondary & post-secondary non-tertiary (employed) (%)    float64\nUpper secondary & post-secondary non-tertiary (total) (%)       float64\ndtype: object"
     },
     "execution_count": 147,
     "metadata": {},
     "output_type": "execute_result"
    }
   ],
   "source": [
    "education_level.dtypes"
   ],
   "metadata": {
    "collapsed": false,
    "pycharm": {
     "name": "#%%\n"
    }
   }
  },
  {
   "cell_type": "markdown",
   "source": [
    "Tabla de índices de depresión por edad"
   ],
   "metadata": {
    "collapsed": false,
    "pycharm": {
     "name": "#%% md\n"
    }
   }
  },
  {
   "cell_type": "code",
   "execution_count": 126,
   "outputs": [
    {
     "data": {
      "text/plain": "Entity                   object\nCode                     object\nYear                      int64\n20-24 years old (%)     float64\n10-14 years old (%)     float64\nAll ages (%)            float64\n70+ years old (%)       float64\n30-34 years old (%)     float64\n15-19 years old (%)     float64\n25-29 years old (%)     float64\n50-69 years old (%)     float64\nAge-standardized (%)    float64\n15-49 years old (%)     float64\ndtype: object"
     },
     "execution_count": 126,
     "metadata": {},
     "output_type": "execute_result"
    }
   ],
   "source": [
    "age_groups.dtypes"
   ],
   "metadata": {
    "collapsed": false,
    "pycharm": {
     "name": "#%%\n"
    }
   }
  },
  {
   "cell_type": "markdown",
   "source": [
    "Tabla de índices de depresión por género"
   ],
   "metadata": {
    "collapsed": false,
    "pycharm": {
     "name": "#%% md\n"
    }
   }
  },
  {
   "cell_type": "code",
   "execution_count": 127,
   "outputs": [
    {
     "data": {
      "text/plain": "Entity                        object\nCode                          object\nYear                          object\nPrevalence in males (%)      float64\nPrevalence in females (%)    float64\nPopulation                   float64\ndtype: object"
     },
     "execution_count": 127,
     "metadata": {},
     "output_type": "execute_result"
    }
   ],
   "source": [
    "gender_groups.dtypes"
   ],
   "metadata": {
    "collapsed": false,
    "pycharm": {
     "name": "#%%\n"
    }
   }
  },
  {
   "cell_type": "markdown",
   "source": [
    "Tabla de índices de depresión y suicidio por cada 100,000 individuos"
   ],
   "metadata": {
    "collapsed": false,
    "pycharm": {
     "name": "#%% md\n"
    }
   }
  },
  {
   "cell_type": "code",
   "execution_count": 128,
   "outputs": [
    {
     "data": {
      "text/plain": "Entity                                                       object\nCode                                                         object\nYear                                                         object\nSuicide rate (deaths per 100,000 individuals)               float64\nDepressive disorder rates (number suffering per 100,000)    float64\nPopulation                                                  float64\ndtype: object"
     },
     "execution_count": 128,
     "metadata": {},
     "output_type": "execute_result"
    }
   ],
   "source": [
    "depression_and_suicide_rate.dtypes"
   ],
   "metadata": {
    "collapsed": false,
    "pycharm": {
     "name": "#%%\n"
    }
   }
  },
  {
   "cell_type": "markdown",
   "source": [
    "Tabla de población afectada por la depresión"
   ],
   "metadata": {
    "collapsed": false,
    "pycharm": {
     "name": "#%% md\n"
    }
   }
  },
  {
   "cell_type": "code",
   "execution_count": 129,
   "outputs": [
    {
     "data": {
      "text/plain": "Entity                                                                                                        object\nCode                                                                                                          object\nYear                                                                                                           int64\nPrevalence - Depressive disorders - Sex: Both - Age: All Ages (Number) (people suffering from depression)    float64\ndtype: object"
     },
     "execution_count": 129,
     "metadata": {},
     "output_type": "execute_result"
    }
   ],
   "source": [
    "affected.dtypes"
   ],
   "metadata": {
    "collapsed": false,
    "pycharm": {
     "name": "#%%\n"
    }
   }
  },
  {
   "cell_type": "markdown",
   "source": [
    "### Visualización de un conjunto de datos pequeño\n",
    "\n",
    "Explorar el conjunto de datos nos permite visualizar los posibles valores que adquiere cada columna y de esta forma, realizar un correcto procesamiento de datos.\n",
    "\n",
    "Esto se puede realizar mediante la función <code>head</code>."
   ],
   "metadata": {
    "collapsed": false
   }
  },
  {
   "cell_type": "markdown",
   "source": [
    "Tabla de índices de desórdenes globales"
   ],
   "metadata": {
    "collapsed": false
   }
  },
  {
   "cell_type": "code",
   "execution_count": 130,
   "outputs": [
    {
     "data": {
      "text/plain": "        Entity Code  Year  Schizophrenia (%)  Bipolar disorder (%)  \\\n0  Afghanistan  AFG  1990           0.160560              0.697779   \n1  Afghanistan  AFG  1991           0.160312              0.697961   \n2  Afghanistan  AFG  1992           0.160135              0.698107   \n3  Afghanistan  AFG  1993           0.160037              0.698257   \n4  Afghanistan  AFG  1994           0.160022              0.698469   \n\n   Eating disorders (%)  Anxiety disorders (%)  Drug use disorders (%)  \\\n0              0.101855               4.828830                1.677082   \n1              0.099313               4.829740                1.684746   \n2              0.096692               4.831108                1.694334   \n3              0.094336               4.830864                1.705320   \n4              0.092439               4.829423                1.716069   \n\n   Depression (%)  Alcohol use disorders (%)  \n0        4.071831                   0.672404  \n1        4.079531                   0.671768  \n2        4.088358                   0.670644  \n3        4.096190                   0.669738  \n4        4.099582                   0.669260  ",
      "text/html": "<div>\n<style scoped>\n    .dataframe tbody tr th:only-of-type {\n        vertical-align: middle;\n    }\n\n    .dataframe tbody tr th {\n        vertical-align: top;\n    }\n\n    .dataframe thead th {\n        text-align: right;\n    }\n</style>\n<table border=\"1\" class=\"dataframe\">\n  <thead>\n    <tr style=\"text-align: right;\">\n      <th></th>\n      <th>Entity</th>\n      <th>Code</th>\n      <th>Year</th>\n      <th>Schizophrenia (%)</th>\n      <th>Bipolar disorder (%)</th>\n      <th>Eating disorders (%)</th>\n      <th>Anxiety disorders (%)</th>\n      <th>Drug use disorders (%)</th>\n      <th>Depression (%)</th>\n      <th>Alcohol use disorders (%)</th>\n    </tr>\n  </thead>\n  <tbody>\n    <tr>\n      <th>0</th>\n      <td>Afghanistan</td>\n      <td>AFG</td>\n      <td>1990</td>\n      <td>0.160560</td>\n      <td>0.697779</td>\n      <td>0.101855</td>\n      <td>4.828830</td>\n      <td>1.677082</td>\n      <td>4.071831</td>\n      <td>0.672404</td>\n    </tr>\n    <tr>\n      <th>1</th>\n      <td>Afghanistan</td>\n      <td>AFG</td>\n      <td>1991</td>\n      <td>0.160312</td>\n      <td>0.697961</td>\n      <td>0.099313</td>\n      <td>4.829740</td>\n      <td>1.684746</td>\n      <td>4.079531</td>\n      <td>0.671768</td>\n    </tr>\n    <tr>\n      <th>2</th>\n      <td>Afghanistan</td>\n      <td>AFG</td>\n      <td>1992</td>\n      <td>0.160135</td>\n      <td>0.698107</td>\n      <td>0.096692</td>\n      <td>4.831108</td>\n      <td>1.694334</td>\n      <td>4.088358</td>\n      <td>0.670644</td>\n    </tr>\n    <tr>\n      <th>3</th>\n      <td>Afghanistan</td>\n      <td>AFG</td>\n      <td>1993</td>\n      <td>0.160037</td>\n      <td>0.698257</td>\n      <td>0.094336</td>\n      <td>4.830864</td>\n      <td>1.705320</td>\n      <td>4.096190</td>\n      <td>0.669738</td>\n    </tr>\n    <tr>\n      <th>4</th>\n      <td>Afghanistan</td>\n      <td>AFG</td>\n      <td>1994</td>\n      <td>0.160022</td>\n      <td>0.698469</td>\n      <td>0.092439</td>\n      <td>4.829423</td>\n      <td>1.716069</td>\n      <td>4.099582</td>\n      <td>0.669260</td>\n    </tr>\n  </tbody>\n</table>\n</div>"
     },
     "execution_count": 130,
     "metadata": {},
     "output_type": "execute_result"
    }
   ],
   "source": [
    "global_disorders.head()"
   ],
   "metadata": {
    "collapsed": false,
    "pycharm": {
     "name": "#%%\n"
    }
   }
  },
  {
   "cell_type": "markdown",
   "source": [
    "Tabla de índices de depresión por nivel de educación"
   ],
   "metadata": {
    "collapsed": false
   }
  },
  {
   "cell_type": "code",
   "execution_count": 148,
   "outputs": [
    {
     "data": {
      "text/plain": "           Entity Code  Year  All levels (active) (%)  \\\n0         Austria  AUT  2014                      6.5   \n1         Belgium  BEL  2014                      5.0   \n2  Czech Republic  CZE  2014                      3.0   \n3         Denmark  DNK  2014                      6.7   \n4         Estonia  EST  2014                      3.8   \n\n   All levels (employed) (%)  All levels (total) (%)  \\\n0                        4.7                     7.7   \n1                        4.1                     7.1   \n2                        2.6                     4.0   \n3                        5.7                     8.3   \n4                        3.8                     5.1   \n\n   Below upper secondary (active) (%)  Below upper secondary (employed) (%)  \\\n0                                15.5                                   9.0   \n1                                 7.1                                   4.8   \n2                                 2.1                                   2.5   \n3                                10.4                                   6.5   \n4                                 4.7                                   4.7   \n\n   Below upper secondary (total) (%)  Tertiary (active) (%)  \\\n0                               15.2                    4.3   \n1                               11.6                    3.7   \n2                                6.0                    1.7   \n3                               15.5                    5.7   \n4                                6.4                    3.6   \n\n   Tertiary (employed) (%)  Tertiary (total) (%)  \\\n0                      3.5                   5.5   \n1                      3.3                   4.2   \n2                      1.7                   2.0   \n3                      4.7                   6.7   \n4                      3.6                   4.3   \n\n   Upper secondary & post-secondary non-tertiary (active) (%)  \\\n0                                                5.5            \n1                                                5.7            \n2                                                3.5            \n3                                                7.4            \n4                                                3.7            \n\n   Upper secondary & post-secondary non-tertiary (employed) (%)  \\\n0                                                4.2              \n1                                                5.0              \n2                                                3.0              \n3                                                6.9              \n4                                                3.8              \n\n   Upper secondary & post-secondary non-tertiary (total) (%)  \n0                                                6.7          \n1                                                7.5          \n2                                                4.4          \n3                                                8.8          \n4                                                5.2          ",
      "text/html": "<div>\n<style scoped>\n    .dataframe tbody tr th:only-of-type {\n        vertical-align: middle;\n    }\n\n    .dataframe tbody tr th {\n        vertical-align: top;\n    }\n\n    .dataframe thead th {\n        text-align: right;\n    }\n</style>\n<table border=\"1\" class=\"dataframe\">\n  <thead>\n    <tr style=\"text-align: right;\">\n      <th></th>\n      <th>Entity</th>\n      <th>Code</th>\n      <th>Year</th>\n      <th>All levels (active) (%)</th>\n      <th>All levels (employed) (%)</th>\n      <th>All levels (total) (%)</th>\n      <th>Below upper secondary (active) (%)</th>\n      <th>Below upper secondary (employed) (%)</th>\n      <th>Below upper secondary (total) (%)</th>\n      <th>Tertiary (active) (%)</th>\n      <th>Tertiary (employed) (%)</th>\n      <th>Tertiary (total) (%)</th>\n      <th>Upper secondary &amp; post-secondary non-tertiary (active) (%)</th>\n      <th>Upper secondary &amp; post-secondary non-tertiary (employed) (%)</th>\n      <th>Upper secondary &amp; post-secondary non-tertiary (total) (%)</th>\n    </tr>\n  </thead>\n  <tbody>\n    <tr>\n      <th>0</th>\n      <td>Austria</td>\n      <td>AUT</td>\n      <td>2014</td>\n      <td>6.5</td>\n      <td>4.7</td>\n      <td>7.7</td>\n      <td>15.5</td>\n      <td>9.0</td>\n      <td>15.2</td>\n      <td>4.3</td>\n      <td>3.5</td>\n      <td>5.5</td>\n      <td>5.5</td>\n      <td>4.2</td>\n      <td>6.7</td>\n    </tr>\n    <tr>\n      <th>1</th>\n      <td>Belgium</td>\n      <td>BEL</td>\n      <td>2014</td>\n      <td>5.0</td>\n      <td>4.1</td>\n      <td>7.1</td>\n      <td>7.1</td>\n      <td>4.8</td>\n      <td>11.6</td>\n      <td>3.7</td>\n      <td>3.3</td>\n      <td>4.2</td>\n      <td>5.7</td>\n      <td>5.0</td>\n      <td>7.5</td>\n    </tr>\n    <tr>\n      <th>2</th>\n      <td>Czech Republic</td>\n      <td>CZE</td>\n      <td>2014</td>\n      <td>3.0</td>\n      <td>2.6</td>\n      <td>4.0</td>\n      <td>2.1</td>\n      <td>2.5</td>\n      <td>6.0</td>\n      <td>1.7</td>\n      <td>1.7</td>\n      <td>2.0</td>\n      <td>3.5</td>\n      <td>3.0</td>\n      <td>4.4</td>\n    </tr>\n    <tr>\n      <th>3</th>\n      <td>Denmark</td>\n      <td>DNK</td>\n      <td>2014</td>\n      <td>6.7</td>\n      <td>5.7</td>\n      <td>8.3</td>\n      <td>10.4</td>\n      <td>6.5</td>\n      <td>15.5</td>\n      <td>5.7</td>\n      <td>4.7</td>\n      <td>6.7</td>\n      <td>7.4</td>\n      <td>6.9</td>\n      <td>8.8</td>\n    </tr>\n    <tr>\n      <th>4</th>\n      <td>Estonia</td>\n      <td>EST</td>\n      <td>2014</td>\n      <td>3.8</td>\n      <td>3.8</td>\n      <td>5.1</td>\n      <td>4.7</td>\n      <td>4.7</td>\n      <td>6.4</td>\n      <td>3.6</td>\n      <td>3.6</td>\n      <td>4.3</td>\n      <td>3.7</td>\n      <td>3.8</td>\n      <td>5.2</td>\n    </tr>\n  </tbody>\n</table>\n</div>"
     },
     "execution_count": 148,
     "metadata": {},
     "output_type": "execute_result"
    }
   ],
   "source": [
    "education_level.head()"
   ],
   "metadata": {
    "collapsed": false,
    "pycharm": {
     "name": "#%%\n"
    }
   }
  },
  {
   "cell_type": "markdown",
   "source": [
    "Tabla de índices de depresión por edad"
   ],
   "metadata": {
    "collapsed": false
   }
  },
  {
   "cell_type": "code",
   "execution_count": 131,
   "outputs": [
    {
     "data": {
      "text/plain": "        Entity Code  Year  20-24 years old (%)  10-14 years old (%)  \\\n0  Afghanistan  AFG  1990             4.417802             1.594676   \n1  Afghanistan  AFG  1991             4.433524             1.588356   \n2  Afghanistan  AFG  1992             4.453689             1.577980   \n3  Afghanistan  AFG  1993             4.464517             1.577201   \n4  Afghanistan  AFG  1994             4.462960             1.570846   \n\n   All ages (%)  70+ years old (%)  30-34 years old (%)  15-19 years old (%)  \\\n0      3.218871           5.202803             5.799034             3.455708   \n1      3.203468           5.192849             5.814828             3.451880   \n2      3.156559           5.176872             5.829745             3.434982   \n3      3.120655           5.167355             5.853060             3.420210   \n4      3.082179           5.157549             5.852851             3.425222   \n\n   25-29 years old (%)  50-69 years old (%)  Age-standardized (%)  \\\n0             5.175856             5.917752              4.071831   \n1             5.176729             5.927093              4.079531   \n2             5.160249             5.945656              4.088358   \n3             5.148767             5.966915              4.096190   \n4             5.148227             5.975907              4.099582   \n\n   15-49 years old (%)  \n0             4.939766  \n1             4.902682  \n2             4.837097  \n3             4.813657  \n4             4.839340  ",
      "text/html": "<div>\n<style scoped>\n    .dataframe tbody tr th:only-of-type {\n        vertical-align: middle;\n    }\n\n    .dataframe tbody tr th {\n        vertical-align: top;\n    }\n\n    .dataframe thead th {\n        text-align: right;\n    }\n</style>\n<table border=\"1\" class=\"dataframe\">\n  <thead>\n    <tr style=\"text-align: right;\">\n      <th></th>\n      <th>Entity</th>\n      <th>Code</th>\n      <th>Year</th>\n      <th>20-24 years old (%)</th>\n      <th>10-14 years old (%)</th>\n      <th>All ages (%)</th>\n      <th>70+ years old (%)</th>\n      <th>30-34 years old (%)</th>\n      <th>15-19 years old (%)</th>\n      <th>25-29 years old (%)</th>\n      <th>50-69 years old (%)</th>\n      <th>Age-standardized (%)</th>\n      <th>15-49 years old (%)</th>\n    </tr>\n  </thead>\n  <tbody>\n    <tr>\n      <th>0</th>\n      <td>Afghanistan</td>\n      <td>AFG</td>\n      <td>1990</td>\n      <td>4.417802</td>\n      <td>1.594676</td>\n      <td>3.218871</td>\n      <td>5.202803</td>\n      <td>5.799034</td>\n      <td>3.455708</td>\n      <td>5.175856</td>\n      <td>5.917752</td>\n      <td>4.071831</td>\n      <td>4.939766</td>\n    </tr>\n    <tr>\n      <th>1</th>\n      <td>Afghanistan</td>\n      <td>AFG</td>\n      <td>1991</td>\n      <td>4.433524</td>\n      <td>1.588356</td>\n      <td>3.203468</td>\n      <td>5.192849</td>\n      <td>5.814828</td>\n      <td>3.451880</td>\n      <td>5.176729</td>\n      <td>5.927093</td>\n      <td>4.079531</td>\n      <td>4.902682</td>\n    </tr>\n    <tr>\n      <th>2</th>\n      <td>Afghanistan</td>\n      <td>AFG</td>\n      <td>1992</td>\n      <td>4.453689</td>\n      <td>1.577980</td>\n      <td>3.156559</td>\n      <td>5.176872</td>\n      <td>5.829745</td>\n      <td>3.434982</td>\n      <td>5.160249</td>\n      <td>5.945656</td>\n      <td>4.088358</td>\n      <td>4.837097</td>\n    </tr>\n    <tr>\n      <th>3</th>\n      <td>Afghanistan</td>\n      <td>AFG</td>\n      <td>1993</td>\n      <td>4.464517</td>\n      <td>1.577201</td>\n      <td>3.120655</td>\n      <td>5.167355</td>\n      <td>5.853060</td>\n      <td>3.420210</td>\n      <td>5.148767</td>\n      <td>5.966915</td>\n      <td>4.096190</td>\n      <td>4.813657</td>\n    </tr>\n    <tr>\n      <th>4</th>\n      <td>Afghanistan</td>\n      <td>AFG</td>\n      <td>1994</td>\n      <td>4.462960</td>\n      <td>1.570846</td>\n      <td>3.082179</td>\n      <td>5.157549</td>\n      <td>5.852851</td>\n      <td>3.425222</td>\n      <td>5.148227</td>\n      <td>5.975907</td>\n      <td>4.099582</td>\n      <td>4.839340</td>\n    </tr>\n  </tbody>\n</table>\n</div>"
     },
     "execution_count": 131,
     "metadata": {},
     "output_type": "execute_result"
    }
   ],
   "source": [
    "age_groups.head()"
   ],
   "metadata": {
    "collapsed": false,
    "pycharm": {
     "name": "#%%\n"
    }
   }
  },
  {
   "cell_type": "markdown",
   "source": [
    "Tabla de índices de depresión por género"
   ],
   "metadata": {
    "collapsed": false
   }
  },
  {
   "cell_type": "code",
   "execution_count": 132,
   "outputs": [
    {
     "data": {
      "text/plain": "        Entity Code  Year  Prevalence in males (%)  Prevalence in females (%)  \\\n0  Afghanistan  AFG  1800                      NaN                        NaN   \n1  Afghanistan  AFG  1801                      NaN                        NaN   \n2  Afghanistan  AFG  1802                      NaN                        NaN   \n3  Afghanistan  AFG  1803                      NaN                        NaN   \n4  Afghanistan  AFG  1804                      NaN                        NaN   \n\n   Population  \n0   3280000.0  \n1   3280000.0  \n2   3280000.0  \n3   3280000.0  \n4   3280000.0  ",
      "text/html": "<div>\n<style scoped>\n    .dataframe tbody tr th:only-of-type {\n        vertical-align: middle;\n    }\n\n    .dataframe tbody tr th {\n        vertical-align: top;\n    }\n\n    .dataframe thead th {\n        text-align: right;\n    }\n</style>\n<table border=\"1\" class=\"dataframe\">\n  <thead>\n    <tr style=\"text-align: right;\">\n      <th></th>\n      <th>Entity</th>\n      <th>Code</th>\n      <th>Year</th>\n      <th>Prevalence in males (%)</th>\n      <th>Prevalence in females (%)</th>\n      <th>Population</th>\n    </tr>\n  </thead>\n  <tbody>\n    <tr>\n      <th>0</th>\n      <td>Afghanistan</td>\n      <td>AFG</td>\n      <td>1800</td>\n      <td>NaN</td>\n      <td>NaN</td>\n      <td>3280000.0</td>\n    </tr>\n    <tr>\n      <th>1</th>\n      <td>Afghanistan</td>\n      <td>AFG</td>\n      <td>1801</td>\n      <td>NaN</td>\n      <td>NaN</td>\n      <td>3280000.0</td>\n    </tr>\n    <tr>\n      <th>2</th>\n      <td>Afghanistan</td>\n      <td>AFG</td>\n      <td>1802</td>\n      <td>NaN</td>\n      <td>NaN</td>\n      <td>3280000.0</td>\n    </tr>\n    <tr>\n      <th>3</th>\n      <td>Afghanistan</td>\n      <td>AFG</td>\n      <td>1803</td>\n      <td>NaN</td>\n      <td>NaN</td>\n      <td>3280000.0</td>\n    </tr>\n    <tr>\n      <th>4</th>\n      <td>Afghanistan</td>\n      <td>AFG</td>\n      <td>1804</td>\n      <td>NaN</td>\n      <td>NaN</td>\n      <td>3280000.0</td>\n    </tr>\n  </tbody>\n</table>\n</div>"
     },
     "execution_count": 132,
     "metadata": {},
     "output_type": "execute_result"
    }
   ],
   "source": [
    "gender_groups.head()"
   ],
   "metadata": {
    "collapsed": false,
    "pycharm": {
     "name": "#%%\n"
    }
   }
  },
  {
   "cell_type": "markdown",
   "source": [
    "Tabla de índices de depresión y suicidio por cada 100,000 individuos"
   ],
   "metadata": {
    "collapsed": false
   }
  },
  {
   "cell_type": "code",
   "execution_count": 133,
   "outputs": [
    {
     "data": {
      "text/plain": "        Entity Code  Year  Suicide rate (deaths per 100,000 individuals)  \\\n0  Afghanistan  AFG  1800                                            NaN   \n1  Afghanistan  AFG  1801                                            NaN   \n2  Afghanistan  AFG  1802                                            NaN   \n3  Afghanistan  AFG  1803                                            NaN   \n4  Afghanistan  AFG  1804                                            NaN   \n\n   Depressive disorder rates (number suffering per 100,000)  Population  \n0                                                NaN          3280000.0  \n1                                                NaN          3280000.0  \n2                                                NaN          3280000.0  \n3                                                NaN          3280000.0  \n4                                                NaN          3280000.0  ",
      "text/html": "<div>\n<style scoped>\n    .dataframe tbody tr th:only-of-type {\n        vertical-align: middle;\n    }\n\n    .dataframe tbody tr th {\n        vertical-align: top;\n    }\n\n    .dataframe thead th {\n        text-align: right;\n    }\n</style>\n<table border=\"1\" class=\"dataframe\">\n  <thead>\n    <tr style=\"text-align: right;\">\n      <th></th>\n      <th>Entity</th>\n      <th>Code</th>\n      <th>Year</th>\n      <th>Suicide rate (deaths per 100,000 individuals)</th>\n      <th>Depressive disorder rates (number suffering per 100,000)</th>\n      <th>Population</th>\n    </tr>\n  </thead>\n  <tbody>\n    <tr>\n      <th>0</th>\n      <td>Afghanistan</td>\n      <td>AFG</td>\n      <td>1800</td>\n      <td>NaN</td>\n      <td>NaN</td>\n      <td>3280000.0</td>\n    </tr>\n    <tr>\n      <th>1</th>\n      <td>Afghanistan</td>\n      <td>AFG</td>\n      <td>1801</td>\n      <td>NaN</td>\n      <td>NaN</td>\n      <td>3280000.0</td>\n    </tr>\n    <tr>\n      <th>2</th>\n      <td>Afghanistan</td>\n      <td>AFG</td>\n      <td>1802</td>\n      <td>NaN</td>\n      <td>NaN</td>\n      <td>3280000.0</td>\n    </tr>\n    <tr>\n      <th>3</th>\n      <td>Afghanistan</td>\n      <td>AFG</td>\n      <td>1803</td>\n      <td>NaN</td>\n      <td>NaN</td>\n      <td>3280000.0</td>\n    </tr>\n    <tr>\n      <th>4</th>\n      <td>Afghanistan</td>\n      <td>AFG</td>\n      <td>1804</td>\n      <td>NaN</td>\n      <td>NaN</td>\n      <td>3280000.0</td>\n    </tr>\n  </tbody>\n</table>\n</div>"
     },
     "execution_count": 133,
     "metadata": {},
     "output_type": "execute_result"
    }
   ],
   "source": [
    "depression_and_suicide_rate.head()"
   ],
   "metadata": {
    "collapsed": false,
    "pycharm": {
     "name": "#%%\n"
    }
   }
  },
  {
   "cell_type": "markdown",
   "source": [
    "Tabla de población afectada por la depresión"
   ],
   "metadata": {
    "collapsed": false
   }
  },
  {
   "cell_type": "code",
   "execution_count": 134,
   "outputs": [
    {
     "data": {
      "text/plain": "        Entity Code  Year  \\\n0  Afghanistan  AFG  1990   \n1  Afghanistan  AFG  1991   \n2  Afghanistan  AFG  1992   \n3  Afghanistan  AFG  1993   \n4  Afghanistan  AFG  1994   \n\n   Prevalence - Depressive disorders - Sex: Both - Age: All Ages (Number) (people suffering from depression)  \n0                                      318435.813670                                                          \n1                                      329044.773956                                                          \n2                                      382544.572895                                                          \n3                                      440381.507393                                                          \n4                                      456916.645489                                                          ",
      "text/html": "<div>\n<style scoped>\n    .dataframe tbody tr th:only-of-type {\n        vertical-align: middle;\n    }\n\n    .dataframe tbody tr th {\n        vertical-align: top;\n    }\n\n    .dataframe thead th {\n        text-align: right;\n    }\n</style>\n<table border=\"1\" class=\"dataframe\">\n  <thead>\n    <tr style=\"text-align: right;\">\n      <th></th>\n      <th>Entity</th>\n      <th>Code</th>\n      <th>Year</th>\n      <th>Prevalence - Depressive disorders - Sex: Both - Age: All Ages (Number) (people suffering from depression)</th>\n    </tr>\n  </thead>\n  <tbody>\n    <tr>\n      <th>0</th>\n      <td>Afghanistan</td>\n      <td>AFG</td>\n      <td>1990</td>\n      <td>318435.813670</td>\n    </tr>\n    <tr>\n      <th>1</th>\n      <td>Afghanistan</td>\n      <td>AFG</td>\n      <td>1991</td>\n      <td>329044.773956</td>\n    </tr>\n    <tr>\n      <th>2</th>\n      <td>Afghanistan</td>\n      <td>AFG</td>\n      <td>1992</td>\n      <td>382544.572895</td>\n    </tr>\n    <tr>\n      <th>3</th>\n      <td>Afghanistan</td>\n      <td>AFG</td>\n      <td>1993</td>\n      <td>440381.507393</td>\n    </tr>\n    <tr>\n      <th>4</th>\n      <td>Afghanistan</td>\n      <td>AFG</td>\n      <td>1994</td>\n      <td>456916.645489</td>\n    </tr>\n  </tbody>\n</table>\n</div>"
     },
     "execution_count": 134,
     "metadata": {},
     "output_type": "execute_result"
    }
   ],
   "source": [
    "affected.head()"
   ],
   "metadata": {
    "collapsed": false,
    "pycharm": {
     "name": "#%%\n"
    }
   }
  },
  {
   "cell_type": "markdown",
   "source": [
    "### Renombramiento\n",
    "Como pudimos observar, los nombres de las columnas no siguen la convención <code>Snake Case</code>, por lo que hay que renombrar cada columna para cada una de las tablas mediante la función <code>rename</code>."
   ],
   "metadata": {
    "collapsed": false,
    "pycharm": {
     "name": "#%% md\n"
    }
   }
  },
  {
   "cell_type": "code",
   "execution_count": 135,
   "outputs": [],
   "source": [
    "percentages_of_global_disorders = global_disorders.copy().rename(\n",
    "    columns={\n",
    "        'Entity': 'entity',\n",
    "        'Code': 'code',\n",
    "        'Year': 'year',\n",
    "        'Schizophrenia (%)': 'schizophrenia',\n",
    "        'Bipolar disorder (%)': 'bipolar_disorder',\n",
    "        'Eating disorders (%)': 'eating_disorder',\n",
    "        'Anxiety disorders (%)': 'anxiety',\n",
    "        'Drug use disorders (%)': 'drug_addiction',\n",
    "        'Depression (%)': 'depression',\n",
    "        'Alcohol use disorders (%)': 'alcoholism'\n",
    "    }\n",
    ")\n",
    "\n",
    "depression_rates_by_age = age_groups.copy().rename(\n",
    "    columns={\n",
    "        'Entity': 'entity',\n",
    "        'Code': 'code',\n",
    "        'Year': 'year',\n",
    "        'All ages (%)': 'all',\n",
    "        '10-14 years old (%)': 'from_10_to_14',\n",
    "        '15-19 years old (%)': 'from_15_to_19',\n",
    "        '20-24 years old (%)': 'from_20_to_24',\n",
    "        '25-29 years old (%)': 'from_25_to_29',\n",
    "        '30-34 years old (%)': 'from_30_to_34',\n",
    "        '15-49 years old (%)': 'from_15_to_49',\n",
    "        '50-69 years old (%)': 'from_50_to_69',\n",
    "        '70+ years old (%)': 'above_69',\n",
    "        'Age-standardized (%)': 'standardized'\n",
    "    }\n",
    ")\n",
    "\n",
    "depression_rates_by_gender = gender_groups.copy().rename(\n",
    "    columns = {\n",
    "        'Entity': 'entity',\n",
    "        'Code': 'code',\n",
    "        'Year': 'year',\n",
    "        'Prevalence in males (%)': 'prevalence_in_males',\n",
    "        'Prevalence in females (%)': 'prevalence_in_females',\n",
    "        'Population': 'population'\n",
    "    }\n",
    ")\n",
    "\n",
    "depression_and_suicide_rate_per_100000_individuals = depression_and_suicide_rate.copy().rename(\n",
    "    columns={\n",
    "        'Entity': 'entity',\n",
    "        'Code': 'code',\n",
    "        'Year': 'year',\n",
    "        'Suicide rate (deaths per 100,000 individuals)': 'suicide_rate',\n",
    "        'Depressive disorder rates (number suffering per 100,000)': 'depression_rate',\n",
    "        'Population': 'population'\n",
    "    }\n",
    ")\n",
    "\n",
    "depression_affected = affected.copy().rename(\n",
    "    columns={\n",
    "        'Entity': 'entity',\n",
    "        'Code': 'code',\n",
    "        'Year': 'year',\n",
    "        'Prevalence - Depressive disorders - Sex: Both - Age: All Ages (Number) (people suffering from depression)': 'depression_prevalence'\n",
    "    }\n",
    ")"
   ],
   "metadata": {
    "collapsed": false,
    "pycharm": {
     "name": "#%%\n"
    }
   }
  },
  {
   "cell_type": "markdown",
   "source": [
    "### Casting\n",
    "La columna <code>year</code> de las tablas <code>gender_groups</code> y <code>depression_and_suicide_rate</code> es de tipo <code>object</code> mientras que en las demás tablas es de tipo <code>int64</code>.\n",
    "\n",
    "1. Transformar los valores a números mediante la función <code>to_numeric</code>.\n",
    "2. Filtrar los registros que no tienen valores <code>NaN</code> mediante la función <code>isna</code>.\n",
    "3. Transformar los valores de <code>float64</code> a <code>int64</code> mediante la función <code>astype</code>."
   ],
   "metadata": {
    "collapsed": false,
    "pycharm": {
     "name": "#%% md\n"
    }
   }
  },
  {
   "cell_type": "code",
   "execution_count": 136,
   "outputs": [],
   "source": [
    "depression_rates_by_gender['year'] = pd.to_numeric(depression_rates_by_gender['year'], errors='coerce')\n",
    "depression_rates_by_gender = depression_rates_by_gender[depression_rates_by_gender['year'].isna() == False]\n",
    "depression_rates_by_gender['year'] = depression_rates_by_gender['year'].astype('int64')\n",
    "\n",
    "depression_and_suicide_rate_per_100000_individuals['year'] = pd.to_numeric(depression_and_suicide_rate_per_100000_individuals['year'], errors='coerce')\n",
    "depression_and_suicide_rate_per_100000_individuals = depression_and_suicide_rate_per_100000_individuals[depression_and_suicide_rate_per_100000_individuals['year'].isna() == False]\n",
    "depression_and_suicide_rate_per_100000_individuals['year'] = depression_and_suicide_rate_per_100000_individuals['year'].astype('int64')"
   ],
   "metadata": {
    "collapsed": false,
    "pycharm": {
     "name": "#%%\n"
    }
   }
  },
  {
   "cell_type": "markdown",
   "source": [
    "### Limpieza de datos"
   ],
   "metadata": {
    "collapsed": false,
    "pycharm": {
     "name": "#%% md\n"
    }
   }
  },
  {
   "cell_type": "markdown",
   "source": [
    "Para comenzar, necesitamos identificar las columnas que poseen valores <code>NaN</code>, ya que estos no permiten un correcto procesamiento de los datos.\n",
    "\n",
    "Esto se puede realizar mediante las funciones <code>isna</code> y <code>mean</code>."
   ],
   "metadata": {
    "collapsed": false,
    "pycharm": {
     "name": "#%% md\n"
    }
   }
  },
  {
   "cell_type": "markdown",
   "source": [
    "Tabla de índices de desórdenes globales"
   ],
   "metadata": {
    "collapsed": false
   }
  },
  {
   "cell_type": "code",
   "execution_count": 137,
   "outputs": [
    {
     "data": {
      "text/plain": "entity              0.000000\ncode                0.151515\nyear                0.000000\nschizophrenia       0.000000\nbipolar_disorder    0.000000\neating_disorder     0.000000\nanxiety             0.000000\ndrug_addiction      0.000000\ndepression          0.000000\nalcoholism          0.000000\ndtype: float64"
     },
     "execution_count": 137,
     "metadata": {},
     "output_type": "execute_result"
    }
   ],
   "source": [
    "percentages_of_global_disorders.isna().mean()"
   ],
   "metadata": {
    "collapsed": false,
    "pycharm": {
     "name": "#%%\n"
    }
   }
  },
  {
   "cell_type": "markdown",
   "source": [
    "Tabla de índices de depresión por edad"
   ],
   "metadata": {
    "collapsed": false
   }
  },
  {
   "cell_type": "code",
   "execution_count": 138,
   "outputs": [
    {
     "data": {
      "text/plain": "entity           0.000000\ncode             0.151515\nyear             0.000000\nfrom_20_to_24    0.000000\nfrom_10_to_14    0.000000\nall              0.000000\nabove_69         0.000000\nfrom_30_to_34    0.000000\nfrom_15_to_19    0.000000\nfrom_25_to_29    0.000000\nfrom_50_to_69    0.000000\nstandardized     0.000000\nfrom_15_to_49    0.000000\ndtype: float64"
     },
     "execution_count": 138,
     "metadata": {},
     "output_type": "execute_result"
    }
   ],
   "source": [
    "depression_rates_by_age.isna().mean()"
   ],
   "metadata": {
    "collapsed": false,
    "pycharm": {
     "name": "#%%\n"
    }
   }
  },
  {
   "cell_type": "markdown",
   "source": [
    "Tabla de índices de depresión por género"
   ],
   "metadata": {
    "collapsed": false
   }
  },
  {
   "cell_type": "code",
   "execution_count": 139,
   "outputs": [
    {
     "data": {
      "text/plain": "entity                   0.000000\ncode                     0.034900\nyear                     0.000000\nprevalence_in_males      0.864508\nprevalence_in_females    0.864508\npopulation               0.019356\ndtype: float64"
     },
     "execution_count": 139,
     "metadata": {},
     "output_type": "execute_result"
    }
   ],
   "source": [
    "depression_rates_by_gender.isna().mean()"
   ],
   "metadata": {
    "collapsed": false,
    "pycharm": {
     "name": "#%%\n"
    }
   }
  },
  {
   "cell_type": "markdown",
   "source": [
    "Tabla de índices de depresión y suicidio por cada 100,000 individuos"
   ],
   "metadata": {
    "collapsed": false
   }
  },
  {
   "cell_type": "code",
   "execution_count": 140,
   "outputs": [
    {
     "data": {
      "text/plain": "entity             0.000000\ncode               0.034900\nyear               0.000000\nsuicide_rate       0.864508\ndepression_rate    0.864508\npopulation         0.019356\ndtype: float64"
     },
     "execution_count": 140,
     "metadata": {},
     "output_type": "execute_result"
    }
   ],
   "source": [
    "depression_and_suicide_rate_per_100000_individuals.isna().mean()"
   ],
   "metadata": {
    "collapsed": false,
    "pycharm": {
     "name": "#%%\n"
    }
   }
  },
  {
   "cell_type": "markdown",
   "source": [
    "Tabla de población afectada por la depresión"
   ],
   "metadata": {
    "collapsed": false
   }
  },
  {
   "cell_type": "code",
   "execution_count": 141,
   "outputs": [
    {
     "data": {
      "text/plain": "entity                   0.000000\ncode                     0.151515\nyear                     0.000000\ndepression_prevalence    0.000000\ndtype: float64"
     },
     "execution_count": 141,
     "metadata": {},
     "output_type": "execute_result"
    }
   ],
   "source": [
    "depression_affected.isna().mean()\n"
   ],
   "metadata": {
    "collapsed": false,
    "pycharm": {
     "name": "#%%\n"
    }
   }
  },
  {
   "cell_type": "markdown",
   "source": [
    "Las tablas de nuestro conjunto de datos contienen regiones del mundo, las cuales contienen información parcial y no son de gran utilidad para este análisis.\n",
    "\n",
    "Todos estos registros pueden filtrarse mediante la función <code>isna</code> aplicada a la columna <code>code</code>, ya que esta columna no tiene valor alguno para estos registros."
   ],
   "metadata": {
    "collapsed": false,
    "pycharm": {
     "name": "#%% md\n"
    }
   }
  },
  {
   "cell_type": "code",
   "execution_count": 142,
   "outputs": [],
   "source": [
    "percentages_of_global_disorders = percentages_of_global_disorders.drop(percentages_of_global_disorders[percentages_of_global_disorders['code'].isna()].index)\n",
    "\n",
    "depression_rates_by_age = depression_rates_by_age.drop(depression_rates_by_age[depression_rates_by_age['code'].isna()].index)\n",
    "\n",
    "depression_rates_by_gender = depression_rates_by_gender.drop(depression_rates_by_gender[depression_rates_by_gender['code'].isna()].index)\n",
    "\n",
    "depression_and_suicide_rate_per_100000_individuals = depression_and_suicide_rate_per_100000_individuals.drop(depression_and_suicide_rate_per_100000_individuals[depression_and_suicide_rate_per_100000_individuals['code'].isna()].index)\n",
    "\n",
    "depression_affected = depression_affected.drop(depression_affected[depression_affected['code'].isna()].index)"
   ],
   "metadata": {
    "collapsed": false,
    "pycharm": {
     "name": "#%%\n"
    }
   }
  },
  {
   "cell_type": "markdown",
   "source": [
    "Existen registros donde la columna <code>code</code> no tiene valor alguno, por lo que se puede eliminar sin dañar la integridad de los datos.\n",
    "\n",
    "Esto se hace mediante la función <code>drop</code>."
   ],
   "metadata": {
    "collapsed": false,
    "pycharm": {
     "name": "#%% md\n"
    }
   }
  },
  {
   "cell_type": "code",
   "execution_count": 143,
   "outputs": [],
   "source": [
    "percentages_of_global_disorders = percentages_of_global_disorders.drop(columns=['code'])\n",
    "depression_rates_by_age = depression_rates_by_age.drop(columns=['code'])\n",
    "depression_rates_by_gender = depression_rates_by_gender.drop(columns=['code'])\n",
    "depression_and_suicide_rate_per_100000_individuals = depression_and_suicide_rate_per_100000_individuals.drop(columns=['code'])\n",
    "depression_affected = depression_affected.drop(columns=['code'])"
   ],
   "metadata": {
    "collapsed": false,
    "pycharm": {
     "name": "#%%\n"
    }
   }
  },
  {
   "cell_type": "markdown",
   "source": [
    "Una vez que la columna <code>year</code> de todas las tablas es de tipo <code>int64</code>, hay que filtrar los registros comprendidos entre los años <code>1990</code> y <code>2017</code> de las tablas <code>depression_rates_by_gender</code> y <code>depression_and_suicide_rate_per_100000_individuals</code>."
   ],
   "metadata": {
    "collapsed": false,
    "pycharm": {
     "name": "#%% md\n"
    }
   }
  },
  {
   "cell_type": "code",
   "execution_count": 145,
   "outputs": [],
   "source": [
    "depression_rates_by_gender = depression_rates_by_gender[depression_rates_by_gender['year'] >= 1990]\n",
    "depression_rates_by_gender = depression_rates_by_gender[depression_rates_by_gender['year'] <= 2017]\n",
    "\n",
    "depression_and_suicide_rate_per_100000_individuals = depression_and_suicide_rate_per_100000_individuals[depression_and_suicide_rate_per_100000_individuals['year'] >= 1990]\n",
    "depression_and_suicide_rate_per_100000_individuals = depression_and_suicide_rate_per_100000_individuals[depression_and_suicide_rate_per_100000_individuals['year'] <= 2017]"
   ],
   "metadata": {
    "collapsed": false,
    "pycharm": {
     "name": "#%%\n"
    }
   }
  },
  {
   "cell_type": "code",
   "execution_count": 146,
   "outputs": [
    {
     "name": "stdout",
     "output_type": "stream",
     "text": [
      "global disorders:  (5488, 9)\n",
      "age groups:  (5488, 12)\n",
      "gender groups:  (6580, 5)\n",
      "depression and suicide rate:  (6580, 5)\n",
      "affected:  (5488, 3)\n"
     ]
    }
   ],
   "source": [
    "print('global disorders: ', percentages_of_global_disorders.shape)\n",
    "print('age groups: ', depression_rates_by_age.shape)\n",
    "print('gender groups: ', depression_rates_by_gender.shape)\n",
    "print('depression and suicide rate: ', depression_and_suicide_rate_per_100000_individuals.shape)\n",
    "print('affected: ', depression_affected.shape)"
   ],
   "metadata": {
    "collapsed": false,
    "pycharm": {
     "name": "#%%\n"
    }
   }
  },
  {
   "source": [
    "## Nota: Añadir continente usando la API de kaggle\n",
    "https://www.kaggle.com/statchaitya/country-to-continent"
   ],
   "cell_type": "markdown",
   "metadata": {}
  }
 ],
 "metadata": {
  "kernelspec": {
   "display_name": "Python 3",
   "language": "python",
   "name": "python3"
  },
  "language_info": {
   "codemirror_mode": {
    "name": "ipython",
    "version": 2
   },
   "file_extension": ".py",
   "mimetype": "text/x-python",
   "name": "python",
   "nbconvert_exporter": "python",
   "pygments_lexer": "ipython2",
   "version": "2.7.6"
  }
 },
 "nbformat": 4,
 "nbformat_minor": 0
}