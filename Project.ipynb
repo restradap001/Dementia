{
 "cells": [
  {
   "source": [
    "# Análisis de desórdenes mentales en el mundo."
   ],
   "cell_type": "markdown",
   "metadata": {}
  },
  {
   "source": [
    "## Introducción"
   ],
   "cell_type": "markdown",
   "metadata": {}
  },
  {
   "source": [
    "## Justificación\n",
    "El presente proyecto busca generar un análisis de la evolución de diversos desórdenes mentales en el mundo a lo largos de las últimas décadas. Para este proyecto se hace especial énfasis en la depresión, ya que se cuenta con una base de información extremadamente bien documentada sobre este fenómeno en particular y, por otro lado, este desorden en particular se encuentra como la mayor causa de discapacidad en el mundo, siendo entonces su estudio y comprensión de suma importancia para un mayor entendimiento de sus causas, consecuencias, así como de sus posibles soluciones.\n",
    "\n",
    "La OMS ha identificado fuertes vínculos entre la depresión y otros trastornos y enfermedades no transmisibles. La depresión aumenta el riesgo de trastornos por uso de sustancias y enfermedades como la diabetes y las enfermedades del corazón; lo contrario también es cierto, lo que significa que las personas con estas otras condiciones tienen un mayor riesgo de depresión.\n",
    "\n",
    "La depresión también es un factor de riesgo importante para el suicidio, que reclama cientos de miles de vidas cada año.\n",
    "\n",
    "Es por esta razón que un análisis que nos permita estudiarla resulta sumamente relevante."
   ],
   "cell_type": "markdown",
   "metadata": {}
  },
  {
   "source": [
    "## Preguntas clave\n",
    "- ¿A qué edad empiezan a manifestarse ciertos desórdenes?\n",
    "- ¿En qué zonas del mundo hay mayor prevalencia de desórdenes mentales?\n",
    "- ¿Qué tan prevalentes son estos desórdenes en países desarrollados? ¿Y en países en desarrollo?\n",
    "- ¿Qué tendencia tienen en su prevalencia a lo largo de los años?\n",
    "- ¿Está relacionada la depresión con el suicidio?"
   ],
   "cell_type": "markdown",
   "metadata": {}
  },
  {
   "cell_type": "markdown",
   "source": [
    "### Instalación de las librerías"
   ],
   "metadata": {
    "collapsed": false,
    "pycharm": {
     "name": "#%% md\n"
    }
   }
  },
  {
   "cell_type": "code",
   "execution_count": 1,
   "outputs": [],
   "source": [
    "#!pip install openpyxl\n",
    "#!pip install pandas\n",
    "#!pip install numpy\n",
    "#!pip install kaggle\n",
    "#!pip install zipfile"
   ],
   "metadata": {
    "collapsed": false,
    "pycharm": {
     "name": "#%%\n"
    }
   }
  },
  {
   "cell_type": "markdown",
   "source": [
    "### Importación de Librerías\n",
    "- Pandas\n",
    "- zipfile"
   ],
   "metadata": {
    "collapsed": false
   }
  },
  {
   "cell_type": "code",
   "execution_count": 2,
   "outputs": [],
   "source": [
    "import pandas as pd\n",
    "from zipfile import ZipFile \n",
    "import os"
   ],
   "metadata": {
    "collapsed": false,
    "pycharm": {
     "name": "#%%\n"
    }
   }
  },
  {
   "cell_type": "markdown",
   "source": [
    "### Lectura de datos"
   ],
   "metadata": {
    "collapsed": false,
    "pycharm": {
     "name": "#%% md\n"
    }
   }
  },
  {
   "cell_type": "code",
   "execution_count": 3,
   "outputs": [],
   "source": [
    "global_disorders = pd.read_excel(open('./data/depression.xlsx', 'rb'), sheet_name='prevalence-by-mental-and-substa')\n",
    "education_level = pd.read_excel(open('./data/depression.xlsx', 'rb'), sheet_name='depression-by-level-of-educatio')\n",
    "age_groups = pd.read_excel(open('./data/depression.xlsx', 'rb'), sheet_name='prevalence-of-depression-by-age')\n",
    "gender_groups = pd.read_excel(open('./data/depression.xlsx', 'rb'), sheet_name='prevalence-of-depression-males-')\n",
    "depression_and_suicide_rate = pd.read_excel(open('./data/depression.xlsx', 'rb'), sheet_name='suicide-rates-vs-prevalence-of-')\n",
    "affected = pd.read_excel(open('./data/depression.xlsx', 'rb'), sheet_name='number-with-depression-by-count')"
   ],
   "metadata": {
    "collapsed": false,
    "pycharm": {
     "name": "#%%\n"
    }
   }
  },
  {
   "cell_type": "markdown",
   "source": [
    "### Visualización las dimensiones de las tablas\n",
    "\n",
    "La uniformidad de los datos es importante, ya que nos permite concatenar fácilmente datos que están relacionados entre sí.\n",
    "\n",
    "Esto se puede realizar mediante la función <code>shape</code>."
   ],
   "metadata": {
    "collapsed": false,
    "pycharm": {
     "name": "#%% md\n"
    }
   }
  },
  {
   "cell_type": "code",
   "execution_count": 4,
   "outputs": [
    {
     "output_type": "stream",
     "name": "stdout",
     "text": [
      "global disorders:  (6468, 10)\neducation levels (26, 15)\nage groups:  (6468, 13)\ngender groups:  (47807, 6)\ndepression and suicide rate:  (47807, 6)\naffected:  (6468, 4)\n"
     ]
    }
   ],
   "source": [
    "print('global disorders: ', global_disorders.shape)\n",
    "print('education levels', education_level.shape)\n",
    "print('age groups: ', age_groups.shape)\n",
    "print('gender groups: ', gender_groups.shape)\n",
    "print('depression and suicide rate: ', depression_and_suicide_rate.shape)\n",
    "print('affected: ', affected.shape)"
   ],
   "metadata": {
    "collapsed": false,
    "pycharm": {
     "name": "#%%\n"
    }
   }
  },
  {
   "cell_type": "markdown",
   "source": [
    "### Nombre y tipos de datos\n",
    "\n",
    "La consistencia entre los metadatos de un conjunto de datos permite la correcta integración entre sí.\n",
    "\n",
    "Esto se puede realizar mediante la función <code>dtypes</code>."
   ],
   "metadata": {
    "collapsed": false,
    "pycharm": {
     "name": "#%% md\n"
    }
   }
  },
  {
   "cell_type": "markdown",
   "source": [
    "Tabla de índices de desórdenes globales"
   ],
   "metadata": {
    "collapsed": false,
    "pycharm": {
     "name": "#%% md\n"
    }
   }
  },
  {
   "cell_type": "code",
   "execution_count": 5,
   "outputs": [
    {
     "output_type": "execute_result",
     "data": {
      "text/plain": [
       "Entity                        object\n",
       "Code                          object\n",
       "Year                           int64\n",
       "Schizophrenia (%)            float64\n",
       "Bipolar disorder (%)         float64\n",
       "Eating disorders (%)         float64\n",
       "Anxiety disorders (%)        float64\n",
       "Drug use disorders (%)       float64\n",
       "Depression (%)               float64\n",
       "Alcohol use disorders (%)    float64\n",
       "dtype: object"
      ]
     },
     "metadata": {},
     "execution_count": 5
    }
   ],
   "source": [
    "global_disorders.dtypes"
   ],
   "metadata": {
    "collapsed": false,
    "pycharm": {
     "name": "#%%\n"
    }
   }
  },
  {
   "cell_type": "markdown",
   "source": [
    "Tabla de índices de depresión por nivel de educación"
   ],
   "metadata": {
    "collapsed": false,
    "pycharm": {
     "name": "#%% md\n"
    }
   }
  },
  {
   "cell_type": "code",
   "execution_count": 6,
   "outputs": [
    {
     "output_type": "execute_result",
     "data": {
      "text/plain": [
       "Entity                                                           object\n",
       "Code                                                             object\n",
       "Year                                                              int64\n",
       "All levels (active) (%)                                         float64\n",
       "All levels (employed) (%)                                       float64\n",
       "All levels (total) (%)                                          float64\n",
       "Below upper secondary (active) (%)                              float64\n",
       "Below upper secondary (employed) (%)                            float64\n",
       "Below upper secondary (total) (%)                               float64\n",
       "Tertiary (active) (%)                                           float64\n",
       "Tertiary (employed) (%)                                         float64\n",
       "Tertiary (total) (%)                                            float64\n",
       "Upper secondary & post-secondary non-tertiary (active) (%)      float64\n",
       "Upper secondary & post-secondary non-tertiary (employed) (%)    float64\n",
       "Upper secondary & post-secondary non-tertiary (total) (%)       float64\n",
       "dtype: object"
      ]
     },
     "metadata": {},
     "execution_count": 6
    }
   ],
   "source": [
    "education_level.dtypes"
   ],
   "metadata": {
    "collapsed": false,
    "pycharm": {
     "name": "#%%\n"
    }
   }
  },
  {
   "cell_type": "markdown",
   "source": [
    "Tabla de índices de depresión por edad"
   ],
   "metadata": {
    "collapsed": false,
    "pycharm": {
     "name": "#%% md\n"
    }
   }
  },
  {
   "cell_type": "code",
   "execution_count": 7,
   "outputs": [
    {
     "output_type": "execute_result",
     "data": {
      "text/plain": [
       "Entity                   object\n",
       "Code                     object\n",
       "Year                      int64\n",
       "20-24 years old (%)     float64\n",
       "10-14 years old (%)     float64\n",
       "All ages (%)            float64\n",
       "70+ years old (%)       float64\n",
       "30-34 years old (%)     float64\n",
       "15-19 years old (%)     float64\n",
       "25-29 years old (%)     float64\n",
       "50-69 years old (%)     float64\n",
       "Age-standardized (%)    float64\n",
       "15-49 years old (%)     float64\n",
       "dtype: object"
      ]
     },
     "metadata": {},
     "execution_count": 7
    }
   ],
   "source": [
    "age_groups.dtypes"
   ],
   "metadata": {
    "collapsed": false,
    "pycharm": {
     "name": "#%%\n"
    }
   }
  },
  {
   "cell_type": "markdown",
   "source": [
    "Tabla de índices de depresión por género"
   ],
   "metadata": {
    "collapsed": false,
    "pycharm": {
     "name": "#%% md\n"
    }
   }
  },
  {
   "cell_type": "code",
   "execution_count": 8,
   "outputs": [
    {
     "output_type": "execute_result",
     "data": {
      "text/plain": [
       "Entity                        object\n",
       "Code                          object\n",
       "Year                          object\n",
       "Prevalence in males (%)      float64\n",
       "Prevalence in females (%)    float64\n",
       "Population                   float64\n",
       "dtype: object"
      ]
     },
     "metadata": {},
     "execution_count": 8
    }
   ],
   "source": [
    "gender_groups.dtypes"
   ],
   "metadata": {
    "collapsed": false,
    "pycharm": {
     "name": "#%%\n"
    }
   }
  },
  {
   "cell_type": "markdown",
   "source": [
    "Tabla de índices de depresión y suicidio por cada 100,000 individuos"
   ],
   "metadata": {
    "collapsed": false,
    "pycharm": {
     "name": "#%% md\n"
    }
   }
  },
  {
   "cell_type": "code",
   "execution_count": 9,
   "outputs": [
    {
     "output_type": "execute_result",
     "data": {
      "text/plain": [
       "Entity                                                       object\n",
       "Code                                                         object\n",
       "Year                                                         object\n",
       "Suicide rate (deaths per 100,000 individuals)               float64\n",
       "Depressive disorder rates (number suffering per 100,000)    float64\n",
       "Population                                                  float64\n",
       "dtype: object"
      ]
     },
     "metadata": {},
     "execution_count": 9
    }
   ],
   "source": [
    "depression_and_suicide_rate.dtypes"
   ],
   "metadata": {
    "collapsed": false,
    "pycharm": {
     "name": "#%%\n"
    }
   }
  },
  {
   "cell_type": "markdown",
   "source": [
    "Tabla de población afectada por la depresión"
   ],
   "metadata": {
    "collapsed": false,
    "pycharm": {
     "name": "#%% md\n"
    }
   }
  },
  {
   "cell_type": "code",
   "execution_count": 10,
   "outputs": [
    {
     "output_type": "execute_result",
     "data": {
      "text/plain": [
       "Entity                                                                                                        object\n",
       "Code                                                                                                          object\n",
       "Year                                                                                                           int64\n",
       "Prevalence - Depressive disorders - Sex: Both - Age: All Ages (Number) (people suffering from depression)    float64\n",
       "dtype: object"
      ]
     },
     "metadata": {},
     "execution_count": 10
    }
   ],
   "source": [
    "affected.dtypes"
   ],
   "metadata": {
    "collapsed": false,
    "pycharm": {
     "name": "#%%\n"
    }
   }
  },
  {
   "cell_type": "markdown",
   "source": [
    "### Visualización de un conjunto de datos pequeño\n",
    "\n",
    "Explorar el conjunto de datos nos permite visualizar los posibles valores que adquiere cada columna y de esta forma, realizar un correcto procesamiento de datos.\n",
    "\n",
    "Esto se puede realizar mediante la función <code>head</code>."
   ],
   "metadata": {
    "collapsed": false
   }
  },
  {
   "cell_type": "markdown",
   "source": [
    "Tabla de índices de desórdenes globales"
   ],
   "metadata": {
    "collapsed": false
   }
  },
  {
   "cell_type": "code",
   "execution_count": 11,
   "outputs": [
    {
     "output_type": "execute_result",
     "data": {
      "text/plain": [
       "        Entity Code  Year  Schizophrenia (%)  Bipolar disorder (%)  \\\n",
       "0  Afghanistan  AFG  1990           0.160560              0.697779   \n",
       "1  Afghanistan  AFG  1991           0.160312              0.697961   \n",
       "2  Afghanistan  AFG  1992           0.160135              0.698107   \n",
       "3  Afghanistan  AFG  1993           0.160037              0.698257   \n",
       "4  Afghanistan  AFG  1994           0.160022              0.698469   \n",
       "\n",
       "   Eating disorders (%)  Anxiety disorders (%)  Drug use disorders (%)  \\\n",
       "0              0.101855               4.828830                1.677082   \n",
       "1              0.099313               4.829740                1.684746   \n",
       "2              0.096692               4.831108                1.694334   \n",
       "3              0.094336               4.830864                1.705320   \n",
       "4              0.092439               4.829423                1.716069   \n",
       "\n",
       "   Depression (%)  Alcohol use disorders (%)  \n",
       "0        4.071831                   0.672404  \n",
       "1        4.079531                   0.671768  \n",
       "2        4.088358                   0.670644  \n",
       "3        4.096190                   0.669738  \n",
       "4        4.099582                   0.669260  "
      ],
      "text/html": "<div>\n<style scoped>\n    .dataframe tbody tr th:only-of-type {\n        vertical-align: middle;\n    }\n\n    .dataframe tbody tr th {\n        vertical-align: top;\n    }\n\n    .dataframe thead th {\n        text-align: right;\n    }\n</style>\n<table border=\"1\" class=\"dataframe\">\n  <thead>\n    <tr style=\"text-align: right;\">\n      <th></th>\n      <th>Entity</th>\n      <th>Code</th>\n      <th>Year</th>\n      <th>Schizophrenia (%)</th>\n      <th>Bipolar disorder (%)</th>\n      <th>Eating disorders (%)</th>\n      <th>Anxiety disorders (%)</th>\n      <th>Drug use disorders (%)</th>\n      <th>Depression (%)</th>\n      <th>Alcohol use disorders (%)</th>\n    </tr>\n  </thead>\n  <tbody>\n    <tr>\n      <th>0</th>\n      <td>Afghanistan</td>\n      <td>AFG</td>\n      <td>1990</td>\n      <td>0.160560</td>\n      <td>0.697779</td>\n      <td>0.101855</td>\n      <td>4.828830</td>\n      <td>1.677082</td>\n      <td>4.071831</td>\n      <td>0.672404</td>\n    </tr>\n    <tr>\n      <th>1</th>\n      <td>Afghanistan</td>\n      <td>AFG</td>\n      <td>1991</td>\n      <td>0.160312</td>\n      <td>0.697961</td>\n      <td>0.099313</td>\n      <td>4.829740</td>\n      <td>1.684746</td>\n      <td>4.079531</td>\n      <td>0.671768</td>\n    </tr>\n    <tr>\n      <th>2</th>\n      <td>Afghanistan</td>\n      <td>AFG</td>\n      <td>1992</td>\n      <td>0.160135</td>\n      <td>0.698107</td>\n      <td>0.096692</td>\n      <td>4.831108</td>\n      <td>1.694334</td>\n      <td>4.088358</td>\n      <td>0.670644</td>\n    </tr>\n    <tr>\n      <th>3</th>\n      <td>Afghanistan</td>\n      <td>AFG</td>\n      <td>1993</td>\n      <td>0.160037</td>\n      <td>0.698257</td>\n      <td>0.094336</td>\n      <td>4.830864</td>\n      <td>1.705320</td>\n      <td>4.096190</td>\n      <td>0.669738</td>\n    </tr>\n    <tr>\n      <th>4</th>\n      <td>Afghanistan</td>\n      <td>AFG</td>\n      <td>1994</td>\n      <td>0.160022</td>\n      <td>0.698469</td>\n      <td>0.092439</td>\n      <td>4.829423</td>\n      <td>1.716069</td>\n      <td>4.099582</td>\n      <td>0.669260</td>\n    </tr>\n  </tbody>\n</table>\n</div>"
     },
     "metadata": {},
     "execution_count": 11
    }
   ],
   "source": [
    "global_disorders.head()"
   ],
   "metadata": {
    "collapsed": false,
    "pycharm": {
     "name": "#%%\n"
    }
   }
  },
  {
   "cell_type": "markdown",
   "source": [
    "Tabla de índices de depresión por nivel de educación"
   ],
   "metadata": {
    "collapsed": false
   }
  },
  {
   "cell_type": "code",
   "execution_count": 12,
   "outputs": [
    {
     "output_type": "execute_result",
     "data": {
      "text/plain": [
       "           Entity Code  Year  All levels (active) (%)  \\\n",
       "0         Austria  AUT  2014                      6.5   \n",
       "1         Belgium  BEL  2014                      5.0   \n",
       "2  Czech Republic  CZE  2014                      3.0   \n",
       "3         Denmark  DNK  2014                      6.7   \n",
       "4         Estonia  EST  2014                      3.8   \n",
       "\n",
       "   All levels (employed) (%)  All levels (total) (%)  \\\n",
       "0                        4.7                     7.7   \n",
       "1                        4.1                     7.1   \n",
       "2                        2.6                     4.0   \n",
       "3                        5.7                     8.3   \n",
       "4                        3.8                     5.1   \n",
       "\n",
       "   Below upper secondary (active) (%)  Below upper secondary (employed) (%)  \\\n",
       "0                                15.5                                   9.0   \n",
       "1                                 7.1                                   4.8   \n",
       "2                                 2.1                                   2.5   \n",
       "3                                10.4                                   6.5   \n",
       "4                                 4.7                                   4.7   \n",
       "\n",
       "   Below upper secondary (total) (%)  Tertiary (active) (%)  \\\n",
       "0                               15.2                    4.3   \n",
       "1                               11.6                    3.7   \n",
       "2                                6.0                    1.7   \n",
       "3                               15.5                    5.7   \n",
       "4                                6.4                    3.6   \n",
       "\n",
       "   Tertiary (employed) (%)  Tertiary (total) (%)  \\\n",
       "0                      3.5                   5.5   \n",
       "1                      3.3                   4.2   \n",
       "2                      1.7                   2.0   \n",
       "3                      4.7                   6.7   \n",
       "4                      3.6                   4.3   \n",
       "\n",
       "   Upper secondary & post-secondary non-tertiary (active) (%)  \\\n",
       "0                                                5.5            \n",
       "1                                                5.7            \n",
       "2                                                3.5            \n",
       "3                                                7.4            \n",
       "4                                                3.7            \n",
       "\n",
       "   Upper secondary & post-secondary non-tertiary (employed) (%)  \\\n",
       "0                                                4.2              \n",
       "1                                                5.0              \n",
       "2                                                3.0              \n",
       "3                                                6.9              \n",
       "4                                                3.8              \n",
       "\n",
       "   Upper secondary & post-secondary non-tertiary (total) (%)  \n",
       "0                                                6.7          \n",
       "1                                                7.5          \n",
       "2                                                4.4          \n",
       "3                                                8.8          \n",
       "4                                                5.2          "
      ],
      "text/html": "<div>\n<style scoped>\n    .dataframe tbody tr th:only-of-type {\n        vertical-align: middle;\n    }\n\n    .dataframe tbody tr th {\n        vertical-align: top;\n    }\n\n    .dataframe thead th {\n        text-align: right;\n    }\n</style>\n<table border=\"1\" class=\"dataframe\">\n  <thead>\n    <tr style=\"text-align: right;\">\n      <th></th>\n      <th>Entity</th>\n      <th>Code</th>\n      <th>Year</th>\n      <th>All levels (active) (%)</th>\n      <th>All levels (employed) (%)</th>\n      <th>All levels (total) (%)</th>\n      <th>Below upper secondary (active) (%)</th>\n      <th>Below upper secondary (employed) (%)</th>\n      <th>Below upper secondary (total) (%)</th>\n      <th>Tertiary (active) (%)</th>\n      <th>Tertiary (employed) (%)</th>\n      <th>Tertiary (total) (%)</th>\n      <th>Upper secondary &amp; post-secondary non-tertiary (active) (%)</th>\n      <th>Upper secondary &amp; post-secondary non-tertiary (employed) (%)</th>\n      <th>Upper secondary &amp; post-secondary non-tertiary (total) (%)</th>\n    </tr>\n  </thead>\n  <tbody>\n    <tr>\n      <th>0</th>\n      <td>Austria</td>\n      <td>AUT</td>\n      <td>2014</td>\n      <td>6.5</td>\n      <td>4.7</td>\n      <td>7.7</td>\n      <td>15.5</td>\n      <td>9.0</td>\n      <td>15.2</td>\n      <td>4.3</td>\n      <td>3.5</td>\n      <td>5.5</td>\n      <td>5.5</td>\n      <td>4.2</td>\n      <td>6.7</td>\n    </tr>\n    <tr>\n      <th>1</th>\n      <td>Belgium</td>\n      <td>BEL</td>\n      <td>2014</td>\n      <td>5.0</td>\n      <td>4.1</td>\n      <td>7.1</td>\n      <td>7.1</td>\n      <td>4.8</td>\n      <td>11.6</td>\n      <td>3.7</td>\n      <td>3.3</td>\n      <td>4.2</td>\n      <td>5.7</td>\n      <td>5.0</td>\n      <td>7.5</td>\n    </tr>\n    <tr>\n      <th>2</th>\n      <td>Czech Republic</td>\n      <td>CZE</td>\n      <td>2014</td>\n      <td>3.0</td>\n      <td>2.6</td>\n      <td>4.0</td>\n      <td>2.1</td>\n      <td>2.5</td>\n      <td>6.0</td>\n      <td>1.7</td>\n      <td>1.7</td>\n      <td>2.0</td>\n      <td>3.5</td>\n      <td>3.0</td>\n      <td>4.4</td>\n    </tr>\n    <tr>\n      <th>3</th>\n      <td>Denmark</td>\n      <td>DNK</td>\n      <td>2014</td>\n      <td>6.7</td>\n      <td>5.7</td>\n      <td>8.3</td>\n      <td>10.4</td>\n      <td>6.5</td>\n      <td>15.5</td>\n      <td>5.7</td>\n      <td>4.7</td>\n      <td>6.7</td>\n      <td>7.4</td>\n      <td>6.9</td>\n      <td>8.8</td>\n    </tr>\n    <tr>\n      <th>4</th>\n      <td>Estonia</td>\n      <td>EST</td>\n      <td>2014</td>\n      <td>3.8</td>\n      <td>3.8</td>\n      <td>5.1</td>\n      <td>4.7</td>\n      <td>4.7</td>\n      <td>6.4</td>\n      <td>3.6</td>\n      <td>3.6</td>\n      <td>4.3</td>\n      <td>3.7</td>\n      <td>3.8</td>\n      <td>5.2</td>\n    </tr>\n  </tbody>\n</table>\n</div>"
     },
     "metadata": {},
     "execution_count": 12
    }
   ],
   "source": [
    "education_level.head()"
   ],
   "metadata": {
    "collapsed": false,
    "pycharm": {
     "name": "#%%\n"
    }
   }
  },
  {
   "cell_type": "markdown",
   "source": [
    "Tabla de índices de depresión por edad"
   ],
   "metadata": {
    "collapsed": false
   }
  },
  {
   "cell_type": "code",
   "execution_count": 13,
   "outputs": [
    {
     "output_type": "execute_result",
     "data": {
      "text/plain": [
       "        Entity Code  Year  20-24 years old (%)  10-14 years old (%)  \\\n",
       "0  Afghanistan  AFG  1990             4.417802             1.594676   \n",
       "1  Afghanistan  AFG  1991             4.433524             1.588356   \n",
       "2  Afghanistan  AFG  1992             4.453689             1.577980   \n",
       "3  Afghanistan  AFG  1993             4.464517             1.577201   \n",
       "4  Afghanistan  AFG  1994             4.462960             1.570846   \n",
       "\n",
       "   All ages (%)  70+ years old (%)  30-34 years old (%)  15-19 years old (%)  \\\n",
       "0      3.218871           5.202803             5.799034             3.455708   \n",
       "1      3.203468           5.192849             5.814828             3.451880   \n",
       "2      3.156559           5.176872             5.829745             3.434982   \n",
       "3      3.120655           5.167355             5.853060             3.420210   \n",
       "4      3.082179           5.157549             5.852851             3.425222   \n",
       "\n",
       "   25-29 years old (%)  50-69 years old (%)  Age-standardized (%)  \\\n",
       "0             5.175856             5.917752              4.071831   \n",
       "1             5.176729             5.927093              4.079531   \n",
       "2             5.160249             5.945656              4.088358   \n",
       "3             5.148767             5.966915              4.096190   \n",
       "4             5.148227             5.975907              4.099582   \n",
       "\n",
       "   15-49 years old (%)  \n",
       "0             4.939766  \n",
       "1             4.902682  \n",
       "2             4.837097  \n",
       "3             4.813657  \n",
       "4             4.839340  "
      ],
      "text/html": "<div>\n<style scoped>\n    .dataframe tbody tr th:only-of-type {\n        vertical-align: middle;\n    }\n\n    .dataframe tbody tr th {\n        vertical-align: top;\n    }\n\n    .dataframe thead th {\n        text-align: right;\n    }\n</style>\n<table border=\"1\" class=\"dataframe\">\n  <thead>\n    <tr style=\"text-align: right;\">\n      <th></th>\n      <th>Entity</th>\n      <th>Code</th>\n      <th>Year</th>\n      <th>20-24 years old (%)</th>\n      <th>10-14 years old (%)</th>\n      <th>All ages (%)</th>\n      <th>70+ years old (%)</th>\n      <th>30-34 years old (%)</th>\n      <th>15-19 years old (%)</th>\n      <th>25-29 years old (%)</th>\n      <th>50-69 years old (%)</th>\n      <th>Age-standardized (%)</th>\n      <th>15-49 years old (%)</th>\n    </tr>\n  </thead>\n  <tbody>\n    <tr>\n      <th>0</th>\n      <td>Afghanistan</td>\n      <td>AFG</td>\n      <td>1990</td>\n      <td>4.417802</td>\n      <td>1.594676</td>\n      <td>3.218871</td>\n      <td>5.202803</td>\n      <td>5.799034</td>\n      <td>3.455708</td>\n      <td>5.175856</td>\n      <td>5.917752</td>\n      <td>4.071831</td>\n      <td>4.939766</td>\n    </tr>\n    <tr>\n      <th>1</th>\n      <td>Afghanistan</td>\n      <td>AFG</td>\n      <td>1991</td>\n      <td>4.433524</td>\n      <td>1.588356</td>\n      <td>3.203468</td>\n      <td>5.192849</td>\n      <td>5.814828</td>\n      <td>3.451880</td>\n      <td>5.176729</td>\n      <td>5.927093</td>\n      <td>4.079531</td>\n      <td>4.902682</td>\n    </tr>\n    <tr>\n      <th>2</th>\n      <td>Afghanistan</td>\n      <td>AFG</td>\n      <td>1992</td>\n      <td>4.453689</td>\n      <td>1.577980</td>\n      <td>3.156559</td>\n      <td>5.176872</td>\n      <td>5.829745</td>\n      <td>3.434982</td>\n      <td>5.160249</td>\n      <td>5.945656</td>\n      <td>4.088358</td>\n      <td>4.837097</td>\n    </tr>\n    <tr>\n      <th>3</th>\n      <td>Afghanistan</td>\n      <td>AFG</td>\n      <td>1993</td>\n      <td>4.464517</td>\n      <td>1.577201</td>\n      <td>3.120655</td>\n      <td>5.167355</td>\n      <td>5.853060</td>\n      <td>3.420210</td>\n      <td>5.148767</td>\n      <td>5.966915</td>\n      <td>4.096190</td>\n      <td>4.813657</td>\n    </tr>\n    <tr>\n      <th>4</th>\n      <td>Afghanistan</td>\n      <td>AFG</td>\n      <td>1994</td>\n      <td>4.462960</td>\n      <td>1.570846</td>\n      <td>3.082179</td>\n      <td>5.157549</td>\n      <td>5.852851</td>\n      <td>3.425222</td>\n      <td>5.148227</td>\n      <td>5.975907</td>\n      <td>4.099582</td>\n      <td>4.839340</td>\n    </tr>\n  </tbody>\n</table>\n</div>"
     },
     "metadata": {},
     "execution_count": 13
    }
   ],
   "source": [
    "age_groups.head()"
   ],
   "metadata": {
    "collapsed": false,
    "pycharm": {
     "name": "#%%\n"
    }
   }
  },
  {
   "cell_type": "markdown",
   "source": [
    "Tabla de índices de depresión por género"
   ],
   "metadata": {
    "collapsed": false
   }
  },
  {
   "cell_type": "code",
   "execution_count": 14,
   "outputs": [
    {
     "output_type": "execute_result",
     "data": {
      "text/plain": [
       "        Entity Code  Year  Prevalence in males (%)  Prevalence in females (%)  \\\n",
       "0  Afghanistan  AFG  1800                      NaN                        NaN   \n",
       "1  Afghanistan  AFG  1801                      NaN                        NaN   \n",
       "2  Afghanistan  AFG  1802                      NaN                        NaN   \n",
       "3  Afghanistan  AFG  1803                      NaN                        NaN   \n",
       "4  Afghanistan  AFG  1804                      NaN                        NaN   \n",
       "\n",
       "   Population  \n",
       "0   3280000.0  \n",
       "1   3280000.0  \n",
       "2   3280000.0  \n",
       "3   3280000.0  \n",
       "4   3280000.0  "
      ],
      "text/html": "<div>\n<style scoped>\n    .dataframe tbody tr th:only-of-type {\n        vertical-align: middle;\n    }\n\n    .dataframe tbody tr th {\n        vertical-align: top;\n    }\n\n    .dataframe thead th {\n        text-align: right;\n    }\n</style>\n<table border=\"1\" class=\"dataframe\">\n  <thead>\n    <tr style=\"text-align: right;\">\n      <th></th>\n      <th>Entity</th>\n      <th>Code</th>\n      <th>Year</th>\n      <th>Prevalence in males (%)</th>\n      <th>Prevalence in females (%)</th>\n      <th>Population</th>\n    </tr>\n  </thead>\n  <tbody>\n    <tr>\n      <th>0</th>\n      <td>Afghanistan</td>\n      <td>AFG</td>\n      <td>1800</td>\n      <td>NaN</td>\n      <td>NaN</td>\n      <td>3280000.0</td>\n    </tr>\n    <tr>\n      <th>1</th>\n      <td>Afghanistan</td>\n      <td>AFG</td>\n      <td>1801</td>\n      <td>NaN</td>\n      <td>NaN</td>\n      <td>3280000.0</td>\n    </tr>\n    <tr>\n      <th>2</th>\n      <td>Afghanistan</td>\n      <td>AFG</td>\n      <td>1802</td>\n      <td>NaN</td>\n      <td>NaN</td>\n      <td>3280000.0</td>\n    </tr>\n    <tr>\n      <th>3</th>\n      <td>Afghanistan</td>\n      <td>AFG</td>\n      <td>1803</td>\n      <td>NaN</td>\n      <td>NaN</td>\n      <td>3280000.0</td>\n    </tr>\n    <tr>\n      <th>4</th>\n      <td>Afghanistan</td>\n      <td>AFG</td>\n      <td>1804</td>\n      <td>NaN</td>\n      <td>NaN</td>\n      <td>3280000.0</td>\n    </tr>\n  </tbody>\n</table>\n</div>"
     },
     "metadata": {},
     "execution_count": 14
    }
   ],
   "source": [
    "gender_groups.head()"
   ],
   "metadata": {
    "collapsed": false,
    "pycharm": {
     "name": "#%%\n"
    }
   }
  },
  {
   "cell_type": "markdown",
   "source": [
    "Tabla de índices de depresión y suicidio por cada 100,000 individuos"
   ],
   "metadata": {
    "collapsed": false
   }
  },
  {
   "cell_type": "code",
   "execution_count": 15,
   "outputs": [
    {
     "output_type": "execute_result",
     "data": {
      "text/plain": [
       "        Entity Code  Year  Suicide rate (deaths per 100,000 individuals)  \\\n",
       "0  Afghanistan  AFG  1800                                            NaN   \n",
       "1  Afghanistan  AFG  1801                                            NaN   \n",
       "2  Afghanistan  AFG  1802                                            NaN   \n",
       "3  Afghanistan  AFG  1803                                            NaN   \n",
       "4  Afghanistan  AFG  1804                                            NaN   \n",
       "\n",
       "   Depressive disorder rates (number suffering per 100,000)  Population  \n",
       "0                                                NaN          3280000.0  \n",
       "1                                                NaN          3280000.0  \n",
       "2                                                NaN          3280000.0  \n",
       "3                                                NaN          3280000.0  \n",
       "4                                                NaN          3280000.0  "
      ],
      "text/html": "<div>\n<style scoped>\n    .dataframe tbody tr th:only-of-type {\n        vertical-align: middle;\n    }\n\n    .dataframe tbody tr th {\n        vertical-align: top;\n    }\n\n    .dataframe thead th {\n        text-align: right;\n    }\n</style>\n<table border=\"1\" class=\"dataframe\">\n  <thead>\n    <tr style=\"text-align: right;\">\n      <th></th>\n      <th>Entity</th>\n      <th>Code</th>\n      <th>Year</th>\n      <th>Suicide rate (deaths per 100,000 individuals)</th>\n      <th>Depressive disorder rates (number suffering per 100,000)</th>\n      <th>Population</th>\n    </tr>\n  </thead>\n  <tbody>\n    <tr>\n      <th>0</th>\n      <td>Afghanistan</td>\n      <td>AFG</td>\n      <td>1800</td>\n      <td>NaN</td>\n      <td>NaN</td>\n      <td>3280000.0</td>\n    </tr>\n    <tr>\n      <th>1</th>\n      <td>Afghanistan</td>\n      <td>AFG</td>\n      <td>1801</td>\n      <td>NaN</td>\n      <td>NaN</td>\n      <td>3280000.0</td>\n    </tr>\n    <tr>\n      <th>2</th>\n      <td>Afghanistan</td>\n      <td>AFG</td>\n      <td>1802</td>\n      <td>NaN</td>\n      <td>NaN</td>\n      <td>3280000.0</td>\n    </tr>\n    <tr>\n      <th>3</th>\n      <td>Afghanistan</td>\n      <td>AFG</td>\n      <td>1803</td>\n      <td>NaN</td>\n      <td>NaN</td>\n      <td>3280000.0</td>\n    </tr>\n    <tr>\n      <th>4</th>\n      <td>Afghanistan</td>\n      <td>AFG</td>\n      <td>1804</td>\n      <td>NaN</td>\n      <td>NaN</td>\n      <td>3280000.0</td>\n    </tr>\n  </tbody>\n</table>\n</div>"
     },
     "metadata": {},
     "execution_count": 15
    }
   ],
   "source": [
    "depression_and_suicide_rate.head()"
   ],
   "metadata": {
    "collapsed": false,
    "pycharm": {
     "name": "#%%\n"
    }
   }
  },
  {
   "cell_type": "markdown",
   "source": [
    "Tabla de población afectada por la depresión"
   ],
   "metadata": {
    "collapsed": false
   }
  },
  {
   "cell_type": "code",
   "execution_count": 16,
   "outputs": [
    {
     "output_type": "execute_result",
     "data": {
      "text/plain": [
       "        Entity Code  Year  \\\n",
       "0  Afghanistan  AFG  1990   \n",
       "1  Afghanistan  AFG  1991   \n",
       "2  Afghanistan  AFG  1992   \n",
       "3  Afghanistan  AFG  1993   \n",
       "4  Afghanistan  AFG  1994   \n",
       "\n",
       "   Prevalence - Depressive disorders - Sex: Both - Age: All Ages (Number) (people suffering from depression)  \n",
       "0                                      318435.813670                                                          \n",
       "1                                      329044.773956                                                          \n",
       "2                                      382544.572895                                                          \n",
       "3                                      440381.507393                                                          \n",
       "4                                      456916.645489                                                          "
      ],
      "text/html": "<div>\n<style scoped>\n    .dataframe tbody tr th:only-of-type {\n        vertical-align: middle;\n    }\n\n    .dataframe tbody tr th {\n        vertical-align: top;\n    }\n\n    .dataframe thead th {\n        text-align: right;\n    }\n</style>\n<table border=\"1\" class=\"dataframe\">\n  <thead>\n    <tr style=\"text-align: right;\">\n      <th></th>\n      <th>Entity</th>\n      <th>Code</th>\n      <th>Year</th>\n      <th>Prevalence - Depressive disorders - Sex: Both - Age: All Ages (Number) (people suffering from depression)</th>\n    </tr>\n  </thead>\n  <tbody>\n    <tr>\n      <th>0</th>\n      <td>Afghanistan</td>\n      <td>AFG</td>\n      <td>1990</td>\n      <td>318435.813670</td>\n    </tr>\n    <tr>\n      <th>1</th>\n      <td>Afghanistan</td>\n      <td>AFG</td>\n      <td>1991</td>\n      <td>329044.773956</td>\n    </tr>\n    <tr>\n      <th>2</th>\n      <td>Afghanistan</td>\n      <td>AFG</td>\n      <td>1992</td>\n      <td>382544.572895</td>\n    </tr>\n    <tr>\n      <th>3</th>\n      <td>Afghanistan</td>\n      <td>AFG</td>\n      <td>1993</td>\n      <td>440381.507393</td>\n    </tr>\n    <tr>\n      <th>4</th>\n      <td>Afghanistan</td>\n      <td>AFG</td>\n      <td>1994</td>\n      <td>456916.645489</td>\n    </tr>\n  </tbody>\n</table>\n</div>"
     },
     "metadata": {},
     "execution_count": 16
    }
   ],
   "source": [
    "affected.head()"
   ],
   "metadata": {
    "collapsed": false,
    "pycharm": {
     "name": "#%%\n"
    }
   }
  },
  {
   "cell_type": "markdown",
   "source": [
    "La tabla <code>education_level</code> no nos brinda la información necesaria para poder relacionarla con las demás tablas, por lo que decidimos descartarla debido a multiples factores como:\n",
    "\n",
    "- Únicamente comprende el año 2014.\n",
    "- Contiene muy pocos registros, por lo que altera la uniformidad de los datos.\n",
    "- Comprende paises de una sola region."
   ],
   "metadata": {
    "collapsed": false,
    "pycharm": {
     "name": "#%% md\n"
    }
   }
  },
  {
   "cell_type": "markdown",
   "source": [
    "### Renombramiento\n",
    "Como pudimos observar, los nombres de las columnas no siguen la convención <code>Snake Case</code>, por lo que hay que renombrar cada columna para cada una de las tablas mediante la función <code>rename</code>."
   ],
   "metadata": {
    "collapsed": false,
    "pycharm": {
     "name": "#%% md\n"
    }
   }
  },
  {
   "cell_type": "code",
   "execution_count": 17,
   "outputs": [],
   "source": [
    "percentages_of_global_disorders = global_disorders.copy().rename(\n",
    "    columns={\n",
    "        'Entity': 'entity',\n",
    "        'Code': 'code',\n",
    "        'Year': 'year',\n",
    "        'Schizophrenia (%)': 'schizophrenia',\n",
    "        'Bipolar disorder (%)': 'bipolar_disorder',\n",
    "        'Eating disorders (%)': 'eating_disorder',\n",
    "        'Anxiety disorders (%)': 'anxiety',\n",
    "        'Drug use disorders (%)': 'drug_addiction',\n",
    "        'Depression (%)': 'depression',\n",
    "        'Alcohol use disorders (%)': 'alcoholism'\n",
    "    }\n",
    ")\n",
    "\n",
    "depression_rates_by_age = age_groups.copy().rename(\n",
    "    columns={\n",
    "        'Entity': 'entity',\n",
    "        'Code': 'code',\n",
    "        'Year': 'year',\n",
    "        'All ages (%)': 'all',\n",
    "        '10-14 years old (%)': 'from_10_to_14',\n",
    "        '15-19 years old (%)': 'from_15_to_19',\n",
    "        '20-24 years old (%)': 'from_20_to_24',\n",
    "        '25-29 years old (%)': 'from_25_to_29',\n",
    "        '30-34 years old (%)': 'from_30_to_34',\n",
    "        '15-49 years old (%)': 'from_15_to_49',\n",
    "        '50-69 years old (%)': 'from_50_to_69',\n",
    "        '70+ years old (%)': 'above_69',\n",
    "        'Age-standardized (%)': 'standardized'\n",
    "    }\n",
    ")\n",
    "\n",
    "depression_rates_by_gender = gender_groups.copy().rename(\n",
    "    columns = {\n",
    "        'Entity': 'entity',\n",
    "        'Code': 'code',\n",
    "        'Year': 'year',\n",
    "        'Prevalence in males (%)': 'prevalence_in_males',\n",
    "        'Prevalence in females (%)': 'prevalence_in_females',\n",
    "        'Population': 'population'\n",
    "    }\n",
    ")\n",
    "\n",
    "depression_and_suicide_rate_per_100000_individuals = depression_and_suicide_rate.copy().rename(\n",
    "    columns={\n",
    "        'Entity': 'entity',\n",
    "        'Code': 'code',\n",
    "        'Year': 'year',\n",
    "        'Suicide rate (deaths per 100,000 individuals)': 'suicide_rate',\n",
    "        'Depressive disorder rates (number suffering per 100,000)': 'depression_rate',\n",
    "        'Population': 'population'\n",
    "    }\n",
    ")\n",
    "\n",
    "depression_affected = affected.copy().rename(\n",
    "    columns={\n",
    "        'Entity': 'entity',\n",
    "        'Code': 'code',\n",
    "        'Year': 'year',\n",
    "        'Prevalence - Depressive disorders - Sex: Both - Age: All Ages (Number) (people suffering from depression)': 'depression_prevalence'\n",
    "    }\n",
    ")"
   ],
   "metadata": {
    "collapsed": false,
    "pycharm": {
     "name": "#%%\n"
    }
   }
  },
  {
   "cell_type": "markdown",
   "source": [
    "### Casting\n",
    "La columna <code>year</code> de las tablas <code>gender_groups</code> y <code>depression_and_suicide_rate</code> es de tipo <code>object</code> mientras que en las demás tablas es de tipo <code>int64</code>.\n",
    "\n",
    "1. Transformar los valores a números mediante la función <code>to_numeric</code>.\n",
    "2. Filtrar los registros que no tienen valores <code>NaN</code> mediante la función <code>isna</code>.\n",
    "3. Transformar los valores de <code>float64</code> a <code>int64</code> mediante la función <code>astype</code>."
   ],
   "metadata": {
    "collapsed": false,
    "pycharm": {
     "name": "#%% md\n"
    }
   }
  },
  {
   "cell_type": "code",
   "execution_count": 18,
   "outputs": [],
   "source": [
    "depression_rates_by_gender['year'] = pd.to_numeric(depression_rates_by_gender['year'], errors='coerce')\n",
    "depression_rates_by_gender = depression_rates_by_gender[depression_rates_by_gender['year'].isna() == False]\n",
    "depression_rates_by_gender['year'] = depression_rates_by_gender['year'].astype('int64')\n",
    "\n",
    "depression_and_suicide_rate_per_100000_individuals['year'] = pd.to_numeric(depression_and_suicide_rate_per_100000_individuals['year'], errors='coerce')\n",
    "depression_and_suicide_rate_per_100000_individuals = depression_and_suicide_rate_per_100000_individuals[depression_and_suicide_rate_per_100000_individuals['year'].isna() == False]\n",
    "depression_and_suicide_rate_per_100000_individuals['year'] = depression_and_suicide_rate_per_100000_individuals['year'].astype('int64')"
   ],
   "metadata": {
    "collapsed": false,
    "pycharm": {
     "name": "#%%\n"
    }
   }
  },
  {
   "cell_type": "markdown",
   "source": [
    "### Limpieza de datos"
   ],
   "metadata": {
    "collapsed": false,
    "pycharm": {
     "name": "#%% md\n"
    }
   }
  },
  {
   "cell_type": "markdown",
   "source": [
    "Para comenzar, necesitamos identificar las columnas que poseen valores <code>NaN</code>, ya que estos no permiten un correcto procesamiento de los datos.\n",
    "\n",
    "Esto se puede realizar mediante las funciones <code>isna</code> y <code>mean</code>."
   ],
   "metadata": {
    "collapsed": false,
    "pycharm": {
     "name": "#%% md\n"
    }
   }
  },
  {
   "cell_type": "markdown",
   "source": [
    "Tabla de índices de desórdenes globales"
   ],
   "metadata": {
    "collapsed": false
   }
  },
  {
   "cell_type": "code",
   "execution_count": 19,
   "outputs": [
    {
     "output_type": "execute_result",
     "data": {
      "text/plain": [
       "entity              0.000000\n",
       "code                0.151515\n",
       "year                0.000000\n",
       "schizophrenia       0.000000\n",
       "bipolar_disorder    0.000000\n",
       "eating_disorder     0.000000\n",
       "anxiety             0.000000\n",
       "drug_addiction      0.000000\n",
       "depression          0.000000\n",
       "alcoholism          0.000000\n",
       "dtype: float64"
      ]
     },
     "metadata": {},
     "execution_count": 19
    }
   ],
   "source": [
    "percentages_of_global_disorders.isna().mean()"
   ],
   "metadata": {
    "collapsed": false,
    "pycharm": {
     "name": "#%%\n"
    }
   }
  },
  {
   "cell_type": "markdown",
   "source": [
    "Tabla de índices de depresión por edad"
   ],
   "metadata": {
    "collapsed": false
   }
  },
  {
   "cell_type": "code",
   "execution_count": 20,
   "outputs": [
    {
     "output_type": "execute_result",
     "data": {
      "text/plain": [
       "entity           0.000000\n",
       "code             0.151515\n",
       "year             0.000000\n",
       "from_20_to_24    0.000000\n",
       "from_10_to_14    0.000000\n",
       "all              0.000000\n",
       "above_69         0.000000\n",
       "from_30_to_34    0.000000\n",
       "from_15_to_19    0.000000\n",
       "from_25_to_29    0.000000\n",
       "from_50_to_69    0.000000\n",
       "standardized     0.000000\n",
       "from_15_to_49    0.000000\n",
       "dtype: float64"
      ]
     },
     "metadata": {},
     "execution_count": 20
    }
   ],
   "source": [
    "depression_rates_by_age.isna().mean()"
   ],
   "metadata": {
    "collapsed": false,
    "pycharm": {
     "name": "#%%\n"
    }
   }
  },
  {
   "cell_type": "markdown",
   "source": [
    "Tabla de índices de depresión por género"
   ],
   "metadata": {
    "collapsed": false
   }
  },
  {
   "cell_type": "code",
   "execution_count": 21,
   "outputs": [
    {
     "output_type": "execute_result",
     "data": {
      "text/plain": [
       "entity                   0.000000\n",
       "code                     0.034900\n",
       "year                     0.000000\n",
       "prevalence_in_males      0.864508\n",
       "prevalence_in_females    0.864508\n",
       "population               0.019356\n",
       "dtype: float64"
      ]
     },
     "metadata": {},
     "execution_count": 21
    }
   ],
   "source": [
    "depression_rates_by_gender.isna().mean()"
   ],
   "metadata": {
    "collapsed": false,
    "pycharm": {
     "name": "#%%\n"
    }
   }
  },
  {
   "cell_type": "markdown",
   "source": [
    "Tabla de índices de depresión y suicidio por cada 100,000 individuos"
   ],
   "metadata": {
    "collapsed": false
   }
  },
  {
   "cell_type": "code",
   "execution_count": 22,
   "outputs": [
    {
     "output_type": "execute_result",
     "data": {
      "text/plain": [
       "entity             0.000000\n",
       "code               0.034900\n",
       "year               0.000000\n",
       "suicide_rate       0.864508\n",
       "depression_rate    0.864508\n",
       "population         0.019356\n",
       "dtype: float64"
      ]
     },
     "metadata": {},
     "execution_count": 22
    }
   ],
   "source": [
    "depression_and_suicide_rate_per_100000_individuals.isna().mean()"
   ],
   "metadata": {
    "collapsed": false,
    "pycharm": {
     "name": "#%%\n"
    }
   }
  },
  {
   "cell_type": "markdown",
   "source": [
    "Tabla de población afectada por la depresión"
   ],
   "metadata": {
    "collapsed": false
   }
  },
  {
   "cell_type": "code",
   "execution_count": 23,
   "outputs": [
    {
     "output_type": "execute_result",
     "data": {
      "text/plain": [
       "entity                   0.000000\n",
       "code                     0.151515\n",
       "year                     0.000000\n",
       "depression_prevalence    0.000000\n",
       "dtype: float64"
      ]
     },
     "metadata": {},
     "execution_count": 23
    }
   ],
   "source": [
    "depression_affected.isna().mean()\n"
   ],
   "metadata": {
    "collapsed": false,
    "pycharm": {
     "name": "#%%\n"
    }
   }
  },
  {
   "cell_type": "markdown",
   "source": [
    "Las tablas de nuestro conjunto de datos contienen regiones del mundo, las cuales contienen información parcial y no son de gran utilidad para este análisis.\n",
    "\n",
    "Todos estos registros pueden filtrarse mediante la función <code>isna</code> aplicada a la columna <code>code</code>, ya que esta columna no tiene valor alguno para estos registros."
   ],
   "metadata": {
    "collapsed": false,
    "pycharm": {
     "name": "#%% md\n"
    }
   }
  },
  {
   "cell_type": "code",
   "execution_count": 24,
   "outputs": [],
   "source": [
    "percentages_of_global_disorders = percentages_of_global_disorders.drop(percentages_of_global_disorders[percentages_of_global_disorders['code'].isna()].index)\n",
    "\n",
    "depression_rates_by_age = depression_rates_by_age.drop(depression_rates_by_age[depression_rates_by_age['code'].isna()].index)\n",
    "\n",
    "depression_rates_by_gender = depression_rates_by_gender.drop(depression_rates_by_gender[depression_rates_by_gender['code'].isna()].index)\n",
    "\n",
    "depression_and_suicide_rate_per_100000_individuals = depression_and_suicide_rate_per_100000_individuals.drop(depression_and_suicide_rate_per_100000_individuals[depression_and_suicide_rate_per_100000_individuals['code'].isna()].index)\n",
    "\n",
    "depression_affected = depression_affected.drop(depression_affected[depression_affected['code'].isna()].index)"
   ],
   "metadata": {
    "collapsed": false,
    "pycharm": {
     "name": "#%%\n"
    }
   }
  },
  {
   "cell_type": "markdown",
   "source": [
    "Existen registros donde la columna <code>code</code> no tiene valor alguno, por lo que se puede eliminar sin dañar la integridad de los datos.\n",
    "\n",
    "Esto se hace mediante la función <code>drop</code>."
   ],
   "metadata": {
    "collapsed": false,
    "pycharm": {
     "name": "#%% md\n"
    }
   }
  },
  {
   "cell_type": "code",
   "execution_count": 25,
   "outputs": [],
   "source": [
    "percentages_of_global_disorders = percentages_of_global_disorders.drop(columns=['code'])\n",
    "depression_rates_by_age = depression_rates_by_age.drop(columns=['code'])\n",
    "depression_rates_by_gender = depression_rates_by_gender.drop(columns=['code'])\n",
    "depression_and_suicide_rate_per_100000_individuals = depression_and_suicide_rate_per_100000_individuals.drop(columns=['code'])\n",
    "depression_affected = depression_affected.drop(columns=['code'])"
   ],
   "metadata": {
    "collapsed": false,
    "pycharm": {
     "name": "#%%\n"
    }
   }
  },
  {
   "cell_type": "markdown",
   "source": [
    "Una vez que la columna <code>year</code> de todas las tablas es de tipo <code>int64</code>, hay que filtrar los registros comprendidos entre los años <code>1990</code> y <code>2017</code> de las tablas <code>depression_rates_by_gender</code> y <code>depression_and_suicide_rate_per_100000_individuals</code>."
   ],
   "metadata": {
    "collapsed": false,
    "pycharm": {
     "name": "#%% md\n"
    }
   }
  },
  {
   "cell_type": "code",
   "execution_count": 26,
   "outputs": [],
   "source": [
    "depression_rates_by_gender = depression_rates_by_gender[depression_rates_by_gender['year'] >= 1990]\n",
    "depression_rates_by_gender = depression_rates_by_gender[depression_rates_by_gender['year'] <= 2017]\n",
    "\n",
    "depression_and_suicide_rate_per_100000_individuals = depression_and_suicide_rate_per_100000_individuals[depression_and_suicide_rate_per_100000_individuals['year'] >= 1990]\n",
    "depression_and_suicide_rate_per_100000_individuals = depression_and_suicide_rate_per_100000_individuals[depression_and_suicide_rate_per_100000_individuals['year'] <= 2017]"
   ],
   "metadata": {
    "collapsed": false,
    "pycharm": {
     "name": "#%%\n"
    }
   }
  },
  {
   "cell_type": "code",
   "execution_count": 27,
   "outputs": [
    {
     "output_type": "stream",
     "name": "stdout",
     "text": [
      "global disorders:  (5488, 9)\nage groups:  (5488, 12)\ngender groups:  (6580, 5)\ndepression and suicide rate:  (6580, 5)\naffected:  (5488, 3)\n"
     ]
    }
   ],
   "source": [
    "print('global disorders: ', percentages_of_global_disorders.shape)\n",
    "print('age groups: ', depression_rates_by_age.shape)\n",
    "print('gender groups: ', depression_rates_by_gender.shape)\n",
    "print('depression and suicide rate: ', depression_and_suicide_rate_per_100000_individuals.shape)\n",
    "print('affected: ', depression_affected.shape)"
   ],
   "metadata": {
    "collapsed": false,
    "pycharm": {
     "name": "#%%\n"
    }
   }
  },
  {
   "source": [
    "Como podemos observar, las tablas <code>depression_rates_by_gender</code> y <code>depression_and_suicide_rate_per_100000_individuals</code> aún cuentan con una mayor cantidad de registros que el resto de las tablas.\n",
    "\n",
    "Realizamos una comparación entre los valores únicos de las columnas <code>entity</code> de ambas tablas y una tabla que contiene los valores unicos compartidos de las columnas <code>entity</code> de las demas tablas, con el fin de conocer las entidades adicionales tienen ambas tablas."
   ],
   "cell_type": "markdown",
   "metadata": {}
  },
  {
   "cell_type": "code",
   "execution_count": 28,
   "metadata": {},
   "outputs": [
    {
     "output_type": "execute_result",
     "data": {
      "text/plain": [
       "6                            Anguilla\n",
       "10                              Aruba\n",
       "25    Bonaire Sint Eustatius and Saba\n",
       "29             British Virgin Islands\n",
       "38                     Cayman Islands\n",
       "dtype: object"
      ]
     },
     "metadata": {},
     "execution_count": 28
    }
   ],
   "source": [
    "global_disorders_unique_list = pd.unique(percentages_of_global_disorders['entity'])\n",
    "gender_groups_unique_list = pd.Series(pd.unique(depression_rates_by_gender['entity']))\n",
    "\n",
    "countries_not_in_all_dfs = gender_groups_unique_list[gender_groups_unique_list.apply(lambda x:x not in global_disorders_unique_list)]\n",
    "countries_not_in_all_dfs.head()"
   ]
  },
  {
   "source": [
    "Podemos observar que hay registros de países pequeños, territorios y demás dependencias.\n",
    "\n",
    "La importancia de estos registros es menor al considerar el valor de uniformidad entre cada una de las tablas obtenidas, por lo que podemos eliminarlos accediendo a la columna <code>entity</code> de las tablas."
   ],
   "cell_type": "markdown",
   "metadata": {}
  },
  {
   "cell_type": "code",
   "execution_count": 29,
   "metadata": {},
   "outputs": [
    {
     "output_type": "stream",
     "name": "stdout",
     "text": [
      "gender groups:  (5488, 5)\ndepression and suicide rate:  (5488, 5)\n"
     ]
    }
   ],
   "source": [
    "depression_rates_by_gender = depression_rates_by_gender[depression_rates_by_gender['entity'].apply(lambda x:x not in countries_not_in_all_dfs.tolist())]\n",
    "depression_and_suicide_rate_per_100000_individuals = depression_and_suicide_rate_per_100000_individuals[depression_and_suicide_rate_per_100000_individuals['entity'].apply(lambda x:x not in countries_not_in_all_dfs.tolist())]\n",
    "\n",
    "print('gender groups: ', depression_rates_by_gender.shape)\n",
    "print('depression and suicide rate: ', depression_and_suicide_rate_per_100000_individuals.shape)"
   ]
  },
  {
   "source": [
    "Una vez sea el número de filas uniforme, procedemos a comprobar que ya no existan valores <code>NaN</code> en ninguna de las tablas."
   ],
   "cell_type": "markdown",
   "metadata": {}
  },
  {
   "source": [
    "Tabla de índices de desórdenes globales"
   ],
   "cell_type": "markdown",
   "metadata": {}
  },
  {
   "cell_type": "code",
   "execution_count": 30,
   "metadata": {},
   "outputs": [
    {
     "output_type": "execute_result",
     "data": {
      "text/plain": [
       "entity              0.0\n",
       "year                0.0\n",
       "schizophrenia       0.0\n",
       "bipolar_disorder    0.0\n",
       "eating_disorder     0.0\n",
       "anxiety             0.0\n",
       "drug_addiction      0.0\n",
       "depression          0.0\n",
       "alcoholism          0.0\n",
       "dtype: float64"
      ]
     },
     "metadata": {},
     "execution_count": 30
    }
   ],
   "source": [
    "percentages_of_global_disorders.isna().mean()"
   ]
  },
  {
   "source": [
    "Tabla de índices de desórdenes globales"
   ],
   "cell_type": "markdown",
   "metadata": {}
  },
  {
   "cell_type": "code",
   "execution_count": 31,
   "metadata": {},
   "outputs": [
    {
     "output_type": "execute_result",
     "data": {
      "text/plain": [
       "entity           0.0\n",
       "year             0.0\n",
       "from_20_to_24    0.0\n",
       "from_10_to_14    0.0\n",
       "all              0.0\n",
       "above_69         0.0\n",
       "from_30_to_34    0.0\n",
       "from_15_to_19    0.0\n",
       "from_25_to_29    0.0\n",
       "from_50_to_69    0.0\n",
       "standardized     0.0\n",
       "from_15_to_49    0.0\n",
       "dtype: float64"
      ]
     },
     "metadata": {},
     "execution_count": 31
    }
   ],
   "source": [
    "depression_rates_by_age.isna().mean()"
   ]
  },
  {
   "source": [
    "Tabla de índices de depresión por género"
   ],
   "cell_type": "markdown",
   "metadata": {}
  },
  {
   "cell_type": "code",
   "execution_count": 32,
   "metadata": {},
   "outputs": [
    {
     "output_type": "execute_result",
     "data": {
      "text/plain": [
       "entity                   0.0\n",
       "year                     0.0\n",
       "prevalence_in_males      0.0\n",
       "prevalence_in_females    0.0\n",
       "population               0.0\n",
       "dtype: float64"
      ]
     },
     "metadata": {},
     "execution_count": 32
    }
   ],
   "source": [
    "depression_rates_by_gender.isna().mean()"
   ]
  },
  {
   "source": [
    "Tabla de índices de depresión y suicidio por cada 100,000 individuos"
   ],
   "cell_type": "markdown",
   "metadata": {}
  },
  {
   "cell_type": "code",
   "execution_count": 33,
   "metadata": {},
   "outputs": [
    {
     "output_type": "execute_result",
     "data": {
      "text/plain": [
       "entity             0.0\n",
       "year               0.0\n",
       "suicide_rate       0.0\n",
       "depression_rate    0.0\n",
       "population         0.0\n",
       "dtype: float64"
      ]
     },
     "metadata": {},
     "execution_count": 33
    }
   ],
   "source": [
    "depression_and_suicide_rate_per_100000_individuals.isna().mean()"
   ]
  },
  {
   "source": [
    "Tabla de población afectada por la depresión"
   ],
   "cell_type": "markdown",
   "metadata": {}
  },
  {
   "cell_type": "code",
   "execution_count": 34,
   "metadata": {},
   "outputs": [
    {
     "output_type": "execute_result",
     "data": {
      "text/plain": [
       "entity                   0.0\n",
       "year                     0.0\n",
       "depression_prevalence    0.0\n",
       "dtype: float64"
      ]
     },
     "metadata": {},
     "execution_count": 34
    }
   ],
   "source": [
    "depression_affected.isna().mean()"
   ]
  },
  {
   "source": [
    "### Merge\n",
    "\n",
    "Con el dataset limpio y uniforme, procedemos a juntar cada una de las hojas del excel en un sólo archivo csv, el cuál contenga toda la información relevante obtenida del archivo original de forma ordenada."
   ],
   "cell_type": "markdown",
   "metadata": {}
  },
  {
   "cell_type": "code",
   "execution_count": 35,
   "metadata": {},
   "outputs": [
    {
     "output_type": "execute_result",
     "data": {
      "text/plain": [
       "        entity  year  schizophrenia  bipolar_disorder  eating_disorder  \\\n",
       "0  Afghanistan  1990       0.160560          0.697779         0.101855   \n",
       "1  Afghanistan  1991       0.160312          0.697961         0.099313   \n",
       "2  Afghanistan  1992       0.160135          0.698107         0.096692   \n",
       "3  Afghanistan  1993       0.160037          0.698257         0.094336   \n",
       "4  Afghanistan  1994       0.160022          0.698469         0.092439   \n",
       "\n",
       "    anxiety  drug_addiction  depression  alcoholism  from_20_to_24  ...  \\\n",
       "0  4.828830        1.677082    4.071831    0.672404       4.417802  ...   \n",
       "1  4.829740        1.684746    4.079531    0.671768       4.433524  ...   \n",
       "2  4.831108        1.694334    4.088358    0.670644       4.453689  ...   \n",
       "3  4.830864        1.705320    4.096190    0.669738       4.464517  ...   \n",
       "4  4.829423        1.716069    4.099582    0.669260       4.462960  ...   \n",
       "\n",
       "   from_25_to_29  from_50_to_69  standardized  from_15_to_49  \\\n",
       "0       5.175856       5.917752      4.071831       4.939766   \n",
       "1       5.176729       5.927093      4.079531       4.902682   \n",
       "2       5.160249       5.945656      4.088358       4.837097   \n",
       "3       5.148767       5.966915      4.096190       4.813657   \n",
       "4       5.148227       5.975907      4.099582       4.839340   \n",
       "\n",
       "   prevalence_in_males  prevalence_in_females  population  suicide_rate  \\\n",
       "0             3.499982               4.647815  12412000.0     10.318504   \n",
       "1             3.503947               4.655772  13299000.0     10.327010   \n",
       "2             3.508912               4.662066  14486000.0     10.271411   \n",
       "3             3.513429               4.669012  15817000.0     10.376123   \n",
       "4             3.515578               4.673050  17076000.0     10.575915   \n",
       "\n",
       "   depression_rate  depression_prevalence  \n",
       "0      4039.755763          318435.813670  \n",
       "1      4046.256034          329044.773956  \n",
       "2      4053.709902          382544.572895  \n",
       "3      4060.203474          440381.507393  \n",
       "4      4062.290365          456916.645489  \n",
       "\n",
       "[5 rows x 25 columns]"
      ],
      "text/html": "<div>\n<style scoped>\n    .dataframe tbody tr th:only-of-type {\n        vertical-align: middle;\n    }\n\n    .dataframe tbody tr th {\n        vertical-align: top;\n    }\n\n    .dataframe thead th {\n        text-align: right;\n    }\n</style>\n<table border=\"1\" class=\"dataframe\">\n  <thead>\n    <tr style=\"text-align: right;\">\n      <th></th>\n      <th>entity</th>\n      <th>year</th>\n      <th>schizophrenia</th>\n      <th>bipolar_disorder</th>\n      <th>eating_disorder</th>\n      <th>anxiety</th>\n      <th>drug_addiction</th>\n      <th>depression</th>\n      <th>alcoholism</th>\n      <th>from_20_to_24</th>\n      <th>...</th>\n      <th>from_25_to_29</th>\n      <th>from_50_to_69</th>\n      <th>standardized</th>\n      <th>from_15_to_49</th>\n      <th>prevalence_in_males</th>\n      <th>prevalence_in_females</th>\n      <th>population</th>\n      <th>suicide_rate</th>\n      <th>depression_rate</th>\n      <th>depression_prevalence</th>\n    </tr>\n  </thead>\n  <tbody>\n    <tr>\n      <th>0</th>\n      <td>Afghanistan</td>\n      <td>1990</td>\n      <td>0.160560</td>\n      <td>0.697779</td>\n      <td>0.101855</td>\n      <td>4.828830</td>\n      <td>1.677082</td>\n      <td>4.071831</td>\n      <td>0.672404</td>\n      <td>4.417802</td>\n      <td>...</td>\n      <td>5.175856</td>\n      <td>5.917752</td>\n      <td>4.071831</td>\n      <td>4.939766</td>\n      <td>3.499982</td>\n      <td>4.647815</td>\n      <td>12412000.0</td>\n      <td>10.318504</td>\n      <td>4039.755763</td>\n      <td>318435.813670</td>\n    </tr>\n    <tr>\n      <th>1</th>\n      <td>Afghanistan</td>\n      <td>1991</td>\n      <td>0.160312</td>\n      <td>0.697961</td>\n      <td>0.099313</td>\n      <td>4.829740</td>\n      <td>1.684746</td>\n      <td>4.079531</td>\n      <td>0.671768</td>\n      <td>4.433524</td>\n      <td>...</td>\n      <td>5.176729</td>\n      <td>5.927093</td>\n      <td>4.079531</td>\n      <td>4.902682</td>\n      <td>3.503947</td>\n      <td>4.655772</td>\n      <td>13299000.0</td>\n      <td>10.327010</td>\n      <td>4046.256034</td>\n      <td>329044.773956</td>\n    </tr>\n    <tr>\n      <th>2</th>\n      <td>Afghanistan</td>\n      <td>1992</td>\n      <td>0.160135</td>\n      <td>0.698107</td>\n      <td>0.096692</td>\n      <td>4.831108</td>\n      <td>1.694334</td>\n      <td>4.088358</td>\n      <td>0.670644</td>\n      <td>4.453689</td>\n      <td>...</td>\n      <td>5.160249</td>\n      <td>5.945656</td>\n      <td>4.088358</td>\n      <td>4.837097</td>\n      <td>3.508912</td>\n      <td>4.662066</td>\n      <td>14486000.0</td>\n      <td>10.271411</td>\n      <td>4053.709902</td>\n      <td>382544.572895</td>\n    </tr>\n    <tr>\n      <th>3</th>\n      <td>Afghanistan</td>\n      <td>1993</td>\n      <td>0.160037</td>\n      <td>0.698257</td>\n      <td>0.094336</td>\n      <td>4.830864</td>\n      <td>1.705320</td>\n      <td>4.096190</td>\n      <td>0.669738</td>\n      <td>4.464517</td>\n      <td>...</td>\n      <td>5.148767</td>\n      <td>5.966915</td>\n      <td>4.096190</td>\n      <td>4.813657</td>\n      <td>3.513429</td>\n      <td>4.669012</td>\n      <td>15817000.0</td>\n      <td>10.376123</td>\n      <td>4060.203474</td>\n      <td>440381.507393</td>\n    </tr>\n    <tr>\n      <th>4</th>\n      <td>Afghanistan</td>\n      <td>1994</td>\n      <td>0.160022</td>\n      <td>0.698469</td>\n      <td>0.092439</td>\n      <td>4.829423</td>\n      <td>1.716069</td>\n      <td>4.099582</td>\n      <td>0.669260</td>\n      <td>4.462960</td>\n      <td>...</td>\n      <td>5.148227</td>\n      <td>5.975907</td>\n      <td>4.099582</td>\n      <td>4.839340</td>\n      <td>3.515578</td>\n      <td>4.673050</td>\n      <td>17076000.0</td>\n      <td>10.575915</td>\n      <td>4062.290365</td>\n      <td>456916.645489</td>\n    </tr>\n  </tbody>\n</table>\n<p>5 rows × 25 columns</p>\n</div>"
     },
     "metadata": {},
     "execution_count": 35
    }
   ],
   "source": [
    "first_merge = percentages_of_global_disorders.merge(depression_rates_by_age, left_on=['entity','year'],right_on=['entity','year'])\n",
    "second_merge = first_merge.merge(depression_rates_by_gender, left_on=['entity','year'], right_on=['entity','year'])\n",
    "third_merge = second_merge.merge(depression_and_suicide_rate_per_100000_individuals, left_on=['entity','year'],right_on=['entity','year'])\n",
    "df_merge = third_merge.merge(depression_affected, left_on=['entity','year'],right_on=['entity','year'])\n",
    "df_merge.columns\n",
    "df_merge = df_merge.drop(columns = ['population_y']).rename(columns={\n",
    "    'population_x': 'population'\n",
    "})\n",
    "df_merge.head()"
   ]
  },
  {
   "source": [
    "### API de Kaggle\n",
    "\n",
    "Para hacer funciones de agrupación en nuestro dataframe, utilizamos un dataset alojado en la plataforma Kaggle el cuál contiene los continentes y regiones de los distintos países del mundo. Esto nos ayudará a agrupar nuestros datos por regiones geográficas, con lo cuál esperamos realizar observaciones que nos sean de valor."
   ],
   "cell_type": "markdown",
   "metadata": {}
  },
  {
   "cell_type": "code",
   "execution_count": 42,
   "metadata": {},
   "outputs": [
    {
     "output_type": "stream",
     "name": "stdout",
     "text": [
      "country-mapping-iso-continent-region.zip: Skipping, found more recently modified local copy (use --force to force download)\nFile Name                                             Modified             Size\ncontinents2.csv                                2019-12-15 15:07:36        19700\n"
     ]
    }
   ],
   "source": [
    "import os\n",
    "os.environ['KAGGLE_CONFIG_DIR'] = \"./data\"\n",
    "!kaggle datasets download -d andradaolteanu/country-mapping-iso-continent-region\n",
    "\n",
    "file_name = \"country-mapping-iso-continent-region.zip\"\n",
    "  \n",
    "# opening the zip file in READ mode \n",
    "with ZipFile(file_name, 'r') as zip: \n",
    "    # printing all the contents of the zip file \n",
    "    zip.printdir() \n",
    "    # extracting all the files \n",
    "    zip.extractall() \n",
    "\n",
    "!cp \"country-mapping-iso-continent-region.zip\" \"./data/country-mapping-iso-continent-region.zip\"\n",
    "!cp \"continents2.csv\" \"./data/continents2.csv\"\n",
    "!rm \"continents2.csv\"\n",
    "!rm \"country-mapping-iso-continent-region.zip\""
   ]
  },
  {
   "cell_type": "code",
   "execution_count": 37,
   "metadata": {},
   "outputs": [
    {
     "output_type": "execute_result",
     "data": {
      "text/plain": [
       "           entity  year  schizophrenia  bipolar_disorder  eating_disorder  \\\n",
       "0     Afghanistan  1990       0.160560          0.697779         0.101855   \n",
       "1     Afghanistan  1991       0.160312          0.697961         0.099313   \n",
       "2     Afghanistan  1992       0.160135          0.698107         0.096692   \n",
       "3     Afghanistan  1993       0.160037          0.698257         0.094336   \n",
       "4     Afghanistan  1994       0.160022          0.698469         0.092439   \n",
       "...           ...   ...            ...               ...              ...   \n",
       "5119     Zimbabwe  2013       0.155670          0.607993         0.117248   \n",
       "5120     Zimbabwe  2014       0.155993          0.608610         0.118073   \n",
       "5121     Zimbabwe  2015       0.156465          0.609363         0.119470   \n",
       "5122     Zimbabwe  2016       0.157111          0.610234         0.121456   \n",
       "5123     Zimbabwe  2017       0.157963          0.611242         0.124443   \n",
       "\n",
       "       anxiety  drug_addiction  depression  alcoholism  from_20_to_24  ...  \\\n",
       "0     4.828830        1.677082    4.071831    0.672404       4.417802  ...   \n",
       "1     4.829740        1.684746    4.079531    0.671768       4.433524  ...   \n",
       "2     4.831108        1.694334    4.088358    0.670644       4.453689  ...   \n",
       "3     4.830864        1.705320    4.096190    0.669738       4.464517  ...   \n",
       "4     4.829423        1.716069    4.099582    0.669260       4.462960  ...   \n",
       "...        ...             ...         ...         ...            ...  ...   \n",
       "5119  3.090168        0.766280    3.128192    1.515641       2.849725  ...   \n",
       "5120  3.093964        0.768914    3.140290    1.515470       2.856874  ...   \n",
       "5121  3.098687        0.771802    3.155710    1.514751       2.868684  ...   \n",
       "5122  3.104294        0.772275    3.174134    1.513269       2.893170  ...   \n",
       "5123  3.110926        0.772648    3.192789    1.510943       2.910070  ...   \n",
       "\n",
       "      alpha-2  alpha-3  country-code     iso_3166-2  region  \\\n",
       "0          AF      AFG             4  ISO 3166-2:AF    Asia   \n",
       "1          AF      AFG             4  ISO 3166-2:AF    Asia   \n",
       "2          AF      AFG             4  ISO 3166-2:AF    Asia   \n",
       "3          AF      AFG             4  ISO 3166-2:AF    Asia   \n",
       "4          AF      AFG             4  ISO 3166-2:AF    Asia   \n",
       "...       ...      ...           ...            ...     ...   \n",
       "5119       ZW      ZWE           716  ISO 3166-2:ZW  Africa   \n",
       "5120       ZW      ZWE           716  ISO 3166-2:ZW  Africa   \n",
       "5121       ZW      ZWE           716  ISO 3166-2:ZW  Africa   \n",
       "5122       ZW      ZWE           716  ISO 3166-2:ZW  Africa   \n",
       "5123       ZW      ZWE           716  ISO 3166-2:ZW  Africa   \n",
       "\n",
       "              sub-region  intermediate-region  region-code  sub-region-code  \\\n",
       "0          Southern Asia                  NaN        142.0             34.0   \n",
       "1          Southern Asia                  NaN        142.0             34.0   \n",
       "2          Southern Asia                  NaN        142.0             34.0   \n",
       "3          Southern Asia                  NaN        142.0             34.0   \n",
       "4          Southern Asia                  NaN        142.0             34.0   \n",
       "...                  ...                  ...          ...              ...   \n",
       "5119  Sub-Saharan Africa       Eastern Africa          2.0            202.0   \n",
       "5120  Sub-Saharan Africa       Eastern Africa          2.0            202.0   \n",
       "5121  Sub-Saharan Africa       Eastern Africa          2.0            202.0   \n",
       "5122  Sub-Saharan Africa       Eastern Africa          2.0            202.0   \n",
       "5123  Sub-Saharan Africa       Eastern Africa          2.0            202.0   \n",
       "\n",
       "      intermediate-region-code  \n",
       "0                          NaN  \n",
       "1                          NaN  \n",
       "2                          NaN  \n",
       "3                          NaN  \n",
       "4                          NaN  \n",
       "...                        ...  \n",
       "5119                      14.0  \n",
       "5120                      14.0  \n",
       "5121                      14.0  \n",
       "5122                      14.0  \n",
       "5123                      14.0  \n",
       "\n",
       "[5124 rows x 36 columns]"
      ],
      "text/html": "<div>\n<style scoped>\n    .dataframe tbody tr th:only-of-type {\n        vertical-align: middle;\n    }\n\n    .dataframe tbody tr th {\n        vertical-align: top;\n    }\n\n    .dataframe thead th {\n        text-align: right;\n    }\n</style>\n<table border=\"1\" class=\"dataframe\">\n  <thead>\n    <tr style=\"text-align: right;\">\n      <th></th>\n      <th>entity</th>\n      <th>year</th>\n      <th>schizophrenia</th>\n      <th>bipolar_disorder</th>\n      <th>eating_disorder</th>\n      <th>anxiety</th>\n      <th>drug_addiction</th>\n      <th>depression</th>\n      <th>alcoholism</th>\n      <th>from_20_to_24</th>\n      <th>...</th>\n      <th>alpha-2</th>\n      <th>alpha-3</th>\n      <th>country-code</th>\n      <th>iso_3166-2</th>\n      <th>region</th>\n      <th>sub-region</th>\n      <th>intermediate-region</th>\n      <th>region-code</th>\n      <th>sub-region-code</th>\n      <th>intermediate-region-code</th>\n    </tr>\n  </thead>\n  <tbody>\n    <tr>\n      <th>0</th>\n      <td>Afghanistan</td>\n      <td>1990</td>\n      <td>0.160560</td>\n      <td>0.697779</td>\n      <td>0.101855</td>\n      <td>4.828830</td>\n      <td>1.677082</td>\n      <td>4.071831</td>\n      <td>0.672404</td>\n      <td>4.417802</td>\n      <td>...</td>\n      <td>AF</td>\n      <td>AFG</td>\n      <td>4</td>\n      <td>ISO 3166-2:AF</td>\n      <td>Asia</td>\n      <td>Southern Asia</td>\n      <td>NaN</td>\n      <td>142.0</td>\n      <td>34.0</td>\n      <td>NaN</td>\n    </tr>\n    <tr>\n      <th>1</th>\n      <td>Afghanistan</td>\n      <td>1991</td>\n      <td>0.160312</td>\n      <td>0.697961</td>\n      <td>0.099313</td>\n      <td>4.829740</td>\n      <td>1.684746</td>\n      <td>4.079531</td>\n      <td>0.671768</td>\n      <td>4.433524</td>\n      <td>...</td>\n      <td>AF</td>\n      <td>AFG</td>\n      <td>4</td>\n      <td>ISO 3166-2:AF</td>\n      <td>Asia</td>\n      <td>Southern Asia</td>\n      <td>NaN</td>\n      <td>142.0</td>\n      <td>34.0</td>\n      <td>NaN</td>\n    </tr>\n    <tr>\n      <th>2</th>\n      <td>Afghanistan</td>\n      <td>1992</td>\n      <td>0.160135</td>\n      <td>0.698107</td>\n      <td>0.096692</td>\n      <td>4.831108</td>\n      <td>1.694334</td>\n      <td>4.088358</td>\n      <td>0.670644</td>\n      <td>4.453689</td>\n      <td>...</td>\n      <td>AF</td>\n      <td>AFG</td>\n      <td>4</td>\n      <td>ISO 3166-2:AF</td>\n      <td>Asia</td>\n      <td>Southern Asia</td>\n      <td>NaN</td>\n      <td>142.0</td>\n      <td>34.0</td>\n      <td>NaN</td>\n    </tr>\n    <tr>\n      <th>3</th>\n      <td>Afghanistan</td>\n      <td>1993</td>\n      <td>0.160037</td>\n      <td>0.698257</td>\n      <td>0.094336</td>\n      <td>4.830864</td>\n      <td>1.705320</td>\n      <td>4.096190</td>\n      <td>0.669738</td>\n      <td>4.464517</td>\n      <td>...</td>\n      <td>AF</td>\n      <td>AFG</td>\n      <td>4</td>\n      <td>ISO 3166-2:AF</td>\n      <td>Asia</td>\n      <td>Southern Asia</td>\n      <td>NaN</td>\n      <td>142.0</td>\n      <td>34.0</td>\n      <td>NaN</td>\n    </tr>\n    <tr>\n      <th>4</th>\n      <td>Afghanistan</td>\n      <td>1994</td>\n      <td>0.160022</td>\n      <td>0.698469</td>\n      <td>0.092439</td>\n      <td>4.829423</td>\n      <td>1.716069</td>\n      <td>4.099582</td>\n      <td>0.669260</td>\n      <td>4.462960</td>\n      <td>...</td>\n      <td>AF</td>\n      <td>AFG</td>\n      <td>4</td>\n      <td>ISO 3166-2:AF</td>\n      <td>Asia</td>\n      <td>Southern Asia</td>\n      <td>NaN</td>\n      <td>142.0</td>\n      <td>34.0</td>\n      <td>NaN</td>\n    </tr>\n    <tr>\n      <th>...</th>\n      <td>...</td>\n      <td>...</td>\n      <td>...</td>\n      <td>...</td>\n      <td>...</td>\n      <td>...</td>\n      <td>...</td>\n      <td>...</td>\n      <td>...</td>\n      <td>...</td>\n      <td>...</td>\n      <td>...</td>\n      <td>...</td>\n      <td>...</td>\n      <td>...</td>\n      <td>...</td>\n      <td>...</td>\n      <td>...</td>\n      <td>...</td>\n      <td>...</td>\n      <td>...</td>\n    </tr>\n    <tr>\n      <th>5119</th>\n      <td>Zimbabwe</td>\n      <td>2013</td>\n      <td>0.155670</td>\n      <td>0.607993</td>\n      <td>0.117248</td>\n      <td>3.090168</td>\n      <td>0.766280</td>\n      <td>3.128192</td>\n      <td>1.515641</td>\n      <td>2.849725</td>\n      <td>...</td>\n      <td>ZW</td>\n      <td>ZWE</td>\n      <td>716</td>\n      <td>ISO 3166-2:ZW</td>\n      <td>Africa</td>\n      <td>Sub-Saharan Africa</td>\n      <td>Eastern Africa</td>\n      <td>2.0</td>\n      <td>202.0</td>\n      <td>14.0</td>\n    </tr>\n    <tr>\n      <th>5120</th>\n      <td>Zimbabwe</td>\n      <td>2014</td>\n      <td>0.155993</td>\n      <td>0.608610</td>\n      <td>0.118073</td>\n      <td>3.093964</td>\n      <td>0.768914</td>\n      <td>3.140290</td>\n      <td>1.515470</td>\n      <td>2.856874</td>\n      <td>...</td>\n      <td>ZW</td>\n      <td>ZWE</td>\n      <td>716</td>\n      <td>ISO 3166-2:ZW</td>\n      <td>Africa</td>\n      <td>Sub-Saharan Africa</td>\n      <td>Eastern Africa</td>\n      <td>2.0</td>\n      <td>202.0</td>\n      <td>14.0</td>\n    </tr>\n    <tr>\n      <th>5121</th>\n      <td>Zimbabwe</td>\n      <td>2015</td>\n      <td>0.156465</td>\n      <td>0.609363</td>\n      <td>0.119470</td>\n      <td>3.098687</td>\n      <td>0.771802</td>\n      <td>3.155710</td>\n      <td>1.514751</td>\n      <td>2.868684</td>\n      <td>...</td>\n      <td>ZW</td>\n      <td>ZWE</td>\n      <td>716</td>\n      <td>ISO 3166-2:ZW</td>\n      <td>Africa</td>\n      <td>Sub-Saharan Africa</td>\n      <td>Eastern Africa</td>\n      <td>2.0</td>\n      <td>202.0</td>\n      <td>14.0</td>\n    </tr>\n    <tr>\n      <th>5122</th>\n      <td>Zimbabwe</td>\n      <td>2016</td>\n      <td>0.157111</td>\n      <td>0.610234</td>\n      <td>0.121456</td>\n      <td>3.104294</td>\n      <td>0.772275</td>\n      <td>3.174134</td>\n      <td>1.513269</td>\n      <td>2.893170</td>\n      <td>...</td>\n      <td>ZW</td>\n      <td>ZWE</td>\n      <td>716</td>\n      <td>ISO 3166-2:ZW</td>\n      <td>Africa</td>\n      <td>Sub-Saharan Africa</td>\n      <td>Eastern Africa</td>\n      <td>2.0</td>\n      <td>202.0</td>\n      <td>14.0</td>\n    </tr>\n    <tr>\n      <th>5123</th>\n      <td>Zimbabwe</td>\n      <td>2017</td>\n      <td>0.157963</td>\n      <td>0.611242</td>\n      <td>0.124443</td>\n      <td>3.110926</td>\n      <td>0.772648</td>\n      <td>3.192789</td>\n      <td>1.510943</td>\n      <td>2.910070</td>\n      <td>...</td>\n      <td>ZW</td>\n      <td>ZWE</td>\n      <td>716</td>\n      <td>ISO 3166-2:ZW</td>\n      <td>Africa</td>\n      <td>Sub-Saharan Africa</td>\n      <td>Eastern Africa</td>\n      <td>2.0</td>\n      <td>202.0</td>\n      <td>14.0</td>\n    </tr>\n  </tbody>\n</table>\n<p>5124 rows × 36 columns</p>\n</div>"
     },
     "metadata": {},
     "execution_count": 37
    }
   ],
   "source": [
    "continents = pd.read_csv('./data/continents2.csv')\n",
    "pd.merge(df_merge, continents, left_on = 'entity',right_on = 'name')"
   ]
  }
 ],
 "metadata": {
  "kernelspec": {
   "name": "python3",
   "display_name": "Python 3.9.0 64-bit",
   "metadata": {
    "interpreter": {
     "hash": "63fd5069d213b44bf678585dea6b12cceca9941eaf7f819626cde1f2670de90d"
    }
   }
  },
  "language_info": {
   "codemirror_mode": {
    "name": "ipython",
    "version": 2
   },
   "file_extension": ".py",
   "mimetype": "text/x-python",
   "name": "python",
   "nbconvert_exporter": "python",
   "pygments_lexer": "ipython2",
   "version": "3.9.0-final"
  }
 },
 "nbformat": 4,
 "nbformat_minor": 0
}