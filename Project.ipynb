{
  "cells":[
    {
      "cell_type":"markdown",
      "source":[
        "# Análisis de desórdenes mentales en el mundo."
      ],
      "metadata":{
        
      }
    },
    {
      "cell_type":"markdown",
      "source":[
        "## Introducción"
      ],
      "metadata":{
        
      }
    },
    {
      "cell_type":"markdown",
      "source":[
        "## Justificación\n",
        "El presente proyecto busca generar un análisis de la evolución de diversos desórdenes mentales en el mundo a lo largos de las últimas décadas. Para este proyecto se hace especial énfasis en la depresión, ya que se cuenta con una base de información extremadamente bien documentada sobre este fenómeno en particular y, por otro lado, este desorden en particular se encuentra como una de las mayores causas de discapacidad en el mundo, siendo entonces su estudio y comprensión de suma importancia para un mayor entendimiento de sus causas, consecuencias, así como de sus posibles soluciones.\n",
        "\n",
        "La Organización Mundial de la Salud ha identificado fuertes vínculos entre la depresión y otros trastornos y enfermedades no transmisibles. La depresión aumenta el riesgo de trastornos por uso de sustancias y enfermedades como la diabetes y las enfermedades del corazón; lo contrario también es cierto, lo que significa que las personas con estas otras condiciones tienen un mayor riesgo de depresión.\n",
        "\n",
        "La depresión también es un factor de riesgo importante para el suicidio, que reclama cientos de miles de vidas cada año.\n",
        "\n",
        "Es por esta razón que un análisis que nos permita estudiarla resulta sumamente relevante."
      ],
      "metadata":{
        
      }
    },
    {
      "cell_type":"markdown",
      "source":[
        "## Preguntas clave\n",
        "- ¿A qué edad empiezan a manifestarse ciertos desórdenes?\n",
        "- ¿En qué zonas del mundo hay mayor prevalencia de desórdenes mentales?\n",
        "- ¿Qué tan prevalentes son estos desórdenes en países de escasos recursos? ¿Y en países de primer mundo?\n",
        "- ¿Cómo afectan estos desórdenes en relación a la edad?\n",
        "- ¿Está relacionada la depresión con el suicidio?\n",
        "- ¿Qué género tiene mayor riesgo de padecer depresión?\n",
        "- ¿Cuál es la situación de México en comparación al resto del mundo?"
      ],
      "metadata":{
        
      }
    },
    {
      "cell_type":"markdown",
      "source":[
        "## Setup"
      ],
      "metadata":{
        
      }
    },
    {
      "cell_type":"markdown",
      "source":[
        "### Instalación de las librerías"
      ],
      "metadata":{
        
      }
    },
    {
      "cell_type":"code",
      "source":[
        "# !pip install openpyxl\n",
        "# !pip install pandas\n",
        "# !pip install kaggle\n",
        "# !pip install zipfile"
      ],
      "execution_count":1,
      "outputs":[
        
      ],
      "metadata":{
        
      }
    },
    {
      "cell_type":"markdown",
      "source":[
        "### Importación de Librerías\n",
        "- Pandas\n",
        "- ZipFile\n",
        "- os"
      ],
      "metadata":{
        
      }
    },
    {
      "cell_type":"code",
      "source":[
        "import pandas as pd\n",
        "from zipfile import ZipFile \n",
        "import os"
      ],
      "execution_count":2,
      "outputs":[
        
      ],
      "metadata":{
        
      }
    },
    {
      "cell_type":"markdown",
      "source":[
        "## Desarrollo"
      ],
      "metadata":{
        
      }
    },
    {
      "cell_type":"markdown",
      "source":[
        "### Lectura de datos\n",
        "\n",
        "Debido a que nuestro dataset esta en en formato <code>.xlsx<\/code>, usualmente conocido como Excel, necesitamos utilizar funciones especializadas para leer nuestra información. Para nuestra fortuna, la librería pandas ya cuenta con métodos para realizar esta lectura.\n",
        "\n",
        "Este proceso se realiza mediante las funciones <code>read_excel<\/code> y <code>open<\/code>."
      ],
      "metadata":{
        
      }
    },
    {
      "cell_type":"code",
      "source":[
        "global_disorders = pd.read_excel(open(\".\/data\/depression.xlsx\", 'rb'), sheet_name='prevalence-by-mental-and-substa')\n",
        "education_level = pd.read_excel(open('data\/depression.xlsx', 'rb'), sheet_name='depression-by-level-of-educatio')\n",
        "age_groups = pd.read_excel(open('data\/depression.xlsx', 'rb'), sheet_name='prevalence-of-depression-by-age')\n",
        "gender_groups = pd.read_excel(open('data\/depression.xlsx', 'rb'), sheet_name='prevalence-of-depression-males-')\n",
        "depression_and_suicide_rate = pd.read_excel(open('data\/depression.xlsx', 'rb'), sheet_name='suicide-rates-vs-prevalence-of-')\n",
        "affected = pd.read_excel(open('data\/depression.xlsx', 'rb'), sheet_name='number-with-depression-by-count')"
      ],
      "execution_count":3,
      "outputs":[
        
      ],
      "metadata":{
        
      }
    },
    {
      "cell_type":"markdown",
      "source":[
        "### Visualización las dimensiones de las tablas\n",
        "\n",
        "La uniformidad de los datos es importante, ya que nos permite concatenar fácilmente datos que están relacionados entre sí a través de los valores de una o múltiples columnas.\n",
        "\n",
        "Esto se realiza mediante la función <code>shape<\/code>."
      ],
      "metadata":{
        
      }
    },
    {
      "cell_type":"code",
      "source":[
        "print('global disorders: ', global_disorders.shape)\n",
        "print('education levels', education_level.shape)\n",
        "print('age groups: ', age_groups.shape)\n",
        "print('gender groups: ', gender_groups.shape)\n",
        "print('depression and suicide rate: ', depression_and_suicide_rate.shape)\n",
        "print('affected: ', affected.shape)"
      ],
      "execution_count":4,
      "outputs":[
        {
          "name":"stdout",
          "text":[
            "global disorders:  (6468, 10)\n",
            "education levels (26, 15)\n",
            "age groups:  (6468, 13)\n",
            "gender groups:  (47807, 6)\n",
            "depression and suicide rate:  (47807, 6)\n",
            "affected:  (6468, 4)\n"
          ],
          "output_type":"stream"
        }
      ],
      "metadata":{
        
      }
    },
    {
      "cell_type":"markdown",
      "source":[
        "### Nombre y tipos de datos\n",
        "\n",
        "La consistencia entre los metadatos de un conjunto de datos permite la correcta integración entre sí.\n",
        "\n",
        "Este proceso se realiza mediante la función <code>dtypes<\/code>."
      ],
      "metadata":{
        
      }
    },
    {
      "cell_type":"markdown",
      "source":[
        "DataFrame de índices de desórdenes globales"
      ],
      "metadata":{
        
      }
    },
    {
      "cell_type":"code",
      "source":[
        "global_disorders.dtypes"
      ],
      "execution_count":5,
      "outputs":[
        {
          "data":{
            "text\/plain":[
              "Entity                        object\n",
              "Code                          object\n",
              "Year                           int64\n",
              "Schizophrenia (%)            float64\n",
              "Bipolar disorder (%)         float64\n",
              "Eating disorders (%)         float64\n",
              "Anxiety disorders (%)        float64\n",
              "Drug use disorders (%)       float64\n",
              "Depression (%)               float64\n",
              "Alcohol use disorders (%)    float64\n",
              "dtype: object"
            ]
          },
          "metadata":{
            
          },
          "output_type":"display_data"
        }
      ],
      "metadata":{
        
      }
    },
    {
      "cell_type":"markdown",
      "source":[
        "DataFrame de índices de depresión por nivel de educación"
      ],
      "metadata":{
        
      }
    },
    {
      "cell_type":"code",
      "source":[
        "education_level.dtypes"
      ],
      "execution_count":6,
      "outputs":[
        {
          "data":{
            "text\/plain":[
              "Entity                                                           object\n",
              "Code                                                             object\n",
              "Year                                                              int64\n",
              "All levels (active) (%)                                         float64\n",
              "All levels (employed) (%)                                       float64\n",
              "All levels (total) (%)                                          float64\n",
              "Below upper secondary (active) (%)                              float64\n",
              "Below upper secondary (employed) (%)                            float64\n",
              "Below upper secondary (total) (%)                               float64\n",
              "Tertiary (active) (%)                                           float64\n",
              "Tertiary (employed) (%)                                         float64\n",
              "Tertiary (total) (%)                                            float64\n",
              "Upper secondary & post-secondary non-tertiary (active) (%)      float64\n",
              "Upper secondary & post-secondary non-tertiary (employed) (%)    float64\n",
              "Upper secondary & post-secondary non-tertiary (total) (%)       float64\n",
              "dtype: object"
            ]
          },
          "metadata":{
            
          },
          "output_type":"display_data"
        }
      ],
      "metadata":{
        
      }
    },
    {
      "cell_type":"markdown",
      "source":[
        "DataFrame de índices de depresión por edad"
      ],
      "metadata":{
        
      }
    },
    {
      "cell_type":"code",
      "source":[
        "age_groups.dtypes"
      ],
      "execution_count":7,
      "outputs":[
        {
          "data":{
            "text\/plain":[
              "Entity                   object\n",
              "Code                     object\n",
              "Year                      int64\n",
              "20-24 years old (%)     float64\n",
              "10-14 years old (%)     float64\n",
              "All ages (%)            float64\n",
              "70+ years old (%)       float64\n",
              "30-34 years old (%)     float64\n",
              "15-19 years old (%)     float64\n",
              "25-29 years old (%)     float64\n",
              "50-69 years old (%)     float64\n",
              "Age-standardized (%)    float64\n",
              "15-49 years old (%)     float64\n",
              "dtype: object"
            ]
          },
          "metadata":{
            
          },
          "output_type":"display_data"
        }
      ],
      "metadata":{
        
      }
    },
    {
      "cell_type":"markdown",
      "source":[
        "DataFrame de índices de depresión por género"
      ],
      "metadata":{
        
      }
    },
    {
      "cell_type":"code",
      "source":[
        "gender_groups.dtypes"
      ],
      "execution_count":8,
      "outputs":[
        {
          "data":{
            "text\/plain":[
              "Entity                        object\n",
              "Code                          object\n",
              "Year                          object\n",
              "Prevalence in males (%)      float64\n",
              "Prevalence in females (%)    float64\n",
              "Population                   float64\n",
              "dtype: object"
            ]
          },
          "metadata":{
            
          },
          "output_type":"display_data"
        }
      ],
      "metadata":{
        
      }
    },
    {
      "cell_type":"markdown",
      "source":[
        "DataFrame de índices de depresión y suicidio por cada 100,000 individuos"
      ],
      "metadata":{
        
      }
    },
    {
      "cell_type":"code",
      "source":[
        "depression_and_suicide_rate.dtypes"
      ],
      "execution_count":9,
      "outputs":[
        {
          "data":{
            "text\/plain":[
              "Entity                                                       object\n",
              "Code                                                         object\n",
              "Year                                                         object\n",
              "Suicide rate (deaths per 100,000 individuals)               float64\n",
              "Depressive disorder rates (number suffering per 100,000)    float64\n",
              "Population                                                  float64\n",
              "dtype: object"
            ]
          },
          "metadata":{
            
          },
          "output_type":"display_data"
        }
      ],
      "metadata":{
        
      }
    },
    {
      "cell_type":"markdown",
      "source":[
        "DataFrame de población afectada por la depresión"
      ],
      "metadata":{
        
      }
    },
    {
      "cell_type":"code",
      "source":[
        "affected.dtypes"
      ],
      "execution_count":10,
      "outputs":[
        {
          "data":{
            "text\/plain":[
              "Entity                                                                                                        object\n",
              "Code                                                                                                          object\n",
              "Year                                                                                                           int64\n",
              "Prevalence - Depressive disorders - Sex: Both - Age: All Ages (Number) (people suffering from depression)    float64\n",
              "dtype: object"
            ]
          },
          "metadata":{
            
          },
          "output_type":"display_data"
        }
      ],
      "metadata":{
        
      }
    },
    {
      "cell_type":"markdown",
      "source":[
        "### Visualización de un conjunto de datos pequeño\n",
        "\n",
        "Explorar el conjunto de datos nos permite visualizar los posibles valores que adquiere cada columna y de esta forma, realizar un correcto procesamiento de datos.\n",
        "\n",
        "Este proceso se realiza mediante la función <code>head<\/code>.\n",
        "\n",
        "Ademas, es necesario crear una función que permita mostrar los valores solo con tres cifras significativas mediante la función <code>round<\/code>."
      ],
      "metadata":{
        
      }
    },
    {
      "cell_type":"code",
      "source":[
        "def round_dataframe_values(dataframe, decimals=3):\n",
        "    return round(dataframe, decimals)"
      ],
      "execution_count":11,
      "outputs":[
        
      ],
      "metadata":{
        
      }
    },
    {
      "cell_type":"markdown",
      "source":[
        "DataFrame de índices de desórdenes globales."
      ],
      "metadata":{
        
      }
    },
    {
      "cell_type":"code",
      "source":[
        "round_dataframe_values(global_disorders.head())"
      ],
      "execution_count":12,
      "outputs":[
        {
          "data":{
            "text\/html":[
              "<div>\n",
              "<style scoped>\n",
              "    .dataframe tbody tr th:only-of-type {\n",
              "        vertical-align: middle;\n",
              "    }\n",
              "\n",
              "    .dataframe tbody tr th {\n",
              "        vertical-align: top;\n",
              "    }\n",
              "\n",
              "    .dataframe thead th {\n",
              "        text-align: right;\n",
              "    }\n",
              "<\/style>\n",
              "<table border=\"1\" class=\"dataframe\">\n",
              "  <thead>\n",
              "    <tr style=\"text-align: right;\">\n",
              "      <th><\/th>\n",
              "      <th>Entity<\/th>\n",
              "      <th>Code<\/th>\n",
              "      <th>Year<\/th>\n",
              "      <th>Schizophrenia (%)<\/th>\n",
              "      <th>Bipolar disorder (%)<\/th>\n",
              "      <th>Eating disorders (%)<\/th>\n",
              "      <th>Anxiety disorders (%)<\/th>\n",
              "      <th>Drug use disorders (%)<\/th>\n",
              "      <th>Depression (%)<\/th>\n",
              "      <th>Alcohol use disorders (%)<\/th>\n",
              "    <\/tr>\n",
              "  <\/thead>\n",
              "  <tbody>\n",
              "    <tr>\n",
              "      <th>0<\/th>\n",
              "      <td>Afghanistan<\/td>\n",
              "      <td>AFG<\/td>\n",
              "      <td>1990<\/td>\n",
              "      <td>0.161<\/td>\n",
              "      <td>0.698<\/td>\n",
              "      <td>0.102<\/td>\n",
              "      <td>4.829<\/td>\n",
              "      <td>1.677<\/td>\n",
              "      <td>4.072<\/td>\n",
              "      <td>0.672<\/td>\n",
              "    <\/tr>\n",
              "    <tr>\n",
              "      <th>1<\/th>\n",
              "      <td>Afghanistan<\/td>\n",
              "      <td>AFG<\/td>\n",
              "      <td>1991<\/td>\n",
              "      <td>0.160<\/td>\n",
              "      <td>0.698<\/td>\n",
              "      <td>0.099<\/td>\n",
              "      <td>4.830<\/td>\n",
              "      <td>1.685<\/td>\n",
              "      <td>4.080<\/td>\n",
              "      <td>0.672<\/td>\n",
              "    <\/tr>\n",
              "    <tr>\n",
              "      <th>2<\/th>\n",
              "      <td>Afghanistan<\/td>\n",
              "      <td>AFG<\/td>\n",
              "      <td>1992<\/td>\n",
              "      <td>0.160<\/td>\n",
              "      <td>0.698<\/td>\n",
              "      <td>0.097<\/td>\n",
              "      <td>4.831<\/td>\n",
              "      <td>1.694<\/td>\n",
              "      <td>4.088<\/td>\n",
              "      <td>0.671<\/td>\n",
              "    <\/tr>\n",
              "    <tr>\n",
              "      <th>3<\/th>\n",
              "      <td>Afghanistan<\/td>\n",
              "      <td>AFG<\/td>\n",
              "      <td>1993<\/td>\n",
              "      <td>0.160<\/td>\n",
              "      <td>0.698<\/td>\n",
              "      <td>0.094<\/td>\n",
              "      <td>4.831<\/td>\n",
              "      <td>1.705<\/td>\n",
              "      <td>4.096<\/td>\n",
              "      <td>0.670<\/td>\n",
              "    <\/tr>\n",
              "    <tr>\n",
              "      <th>4<\/th>\n",
              "      <td>Afghanistan<\/td>\n",
              "      <td>AFG<\/td>\n",
              "      <td>1994<\/td>\n",
              "      <td>0.160<\/td>\n",
              "      <td>0.698<\/td>\n",
              "      <td>0.092<\/td>\n",
              "      <td>4.829<\/td>\n",
              "      <td>1.716<\/td>\n",
              "      <td>4.100<\/td>\n",
              "      <td>0.669<\/td>\n",
              "    <\/tr>\n",
              "  <\/tbody>\n",
              "<\/table>\n",
              "<\/div>"
            ]
          },
          "metadata":{
            
          },
          "output_type":"display_data"
        }
      ],
      "metadata":{
        
      }
    },
    {
      "cell_type":"markdown",
      "source":[
        "DataFrame de índices de depresión por nivel de educación."
      ],
      "metadata":{
        
      }
    },
    {
      "cell_type":"code",
      "source":[
        "education_level.head()"
      ],
      "execution_count":13,
      "outputs":[
        {
          "data":{
            "text\/html":[
              "<div>\n",
              "<style scoped>\n",
              "    .dataframe tbody tr th:only-of-type {\n",
              "        vertical-align: middle;\n",
              "    }\n",
              "\n",
              "    .dataframe tbody tr th {\n",
              "        vertical-align: top;\n",
              "    }\n",
              "\n",
              "    .dataframe thead th {\n",
              "        text-align: right;\n",
              "    }\n",
              "<\/style>\n",
              "<table border=\"1\" class=\"dataframe\">\n",
              "  <thead>\n",
              "    <tr style=\"text-align: right;\">\n",
              "      <th><\/th>\n",
              "      <th>Entity<\/th>\n",
              "      <th>Code<\/th>\n",
              "      <th>Year<\/th>\n",
              "      <th>All levels (active) (%)<\/th>\n",
              "      <th>All levels (employed) (%)<\/th>\n",
              "      <th>All levels (total) (%)<\/th>\n",
              "      <th>Below upper secondary (active) (%)<\/th>\n",
              "      <th>Below upper secondary (employed) (%)<\/th>\n",
              "      <th>Below upper secondary (total) (%)<\/th>\n",
              "      <th>Tertiary (active) (%)<\/th>\n",
              "      <th>Tertiary (employed) (%)<\/th>\n",
              "      <th>Tertiary (total) (%)<\/th>\n",
              "      <th>Upper secondary &amp; post-secondary non-tertiary (active) (%)<\/th>\n",
              "      <th>Upper secondary &amp; post-secondary non-tertiary (employed) (%)<\/th>\n",
              "      <th>Upper secondary &amp; post-secondary non-tertiary (total) (%)<\/th>\n",
              "    <\/tr>\n",
              "  <\/thead>\n",
              "  <tbody>\n",
              "    <tr>\n",
              "      <th>0<\/th>\n",
              "      <td>Austria<\/td>\n",
              "      <td>AUT<\/td>\n",
              "      <td>2014<\/td>\n",
              "      <td>6.5<\/td>\n",
              "      <td>4.7<\/td>\n",
              "      <td>7.7<\/td>\n",
              "      <td>15.5<\/td>\n",
              "      <td>9.0<\/td>\n",
              "      <td>15.2<\/td>\n",
              "      <td>4.3<\/td>\n",
              "      <td>3.5<\/td>\n",
              "      <td>5.5<\/td>\n",
              "      <td>5.5<\/td>\n",
              "      <td>4.2<\/td>\n",
              "      <td>6.7<\/td>\n",
              "    <\/tr>\n",
              "    <tr>\n",
              "      <th>1<\/th>\n",
              "      <td>Belgium<\/td>\n",
              "      <td>BEL<\/td>\n",
              "      <td>2014<\/td>\n",
              "      <td>5.0<\/td>\n",
              "      <td>4.1<\/td>\n",
              "      <td>7.1<\/td>\n",
              "      <td>7.1<\/td>\n",
              "      <td>4.8<\/td>\n",
              "      <td>11.6<\/td>\n",
              "      <td>3.7<\/td>\n",
              "      <td>3.3<\/td>\n",
              "      <td>4.2<\/td>\n",
              "      <td>5.7<\/td>\n",
              "      <td>5.0<\/td>\n",
              "      <td>7.5<\/td>\n",
              "    <\/tr>\n",
              "    <tr>\n",
              "      <th>2<\/th>\n",
              "      <td>Czech Republic<\/td>\n",
              "      <td>CZE<\/td>\n",
              "      <td>2014<\/td>\n",
              "      <td>3.0<\/td>\n",
              "      <td>2.6<\/td>\n",
              "      <td>4.0<\/td>\n",
              "      <td>2.1<\/td>\n",
              "      <td>2.5<\/td>\n",
              "      <td>6.0<\/td>\n",
              "      <td>1.7<\/td>\n",
              "      <td>1.7<\/td>\n",
              "      <td>2.0<\/td>\n",
              "      <td>3.5<\/td>\n",
              "      <td>3.0<\/td>\n",
              "      <td>4.4<\/td>\n",
              "    <\/tr>\n",
              "    <tr>\n",
              "      <th>3<\/th>\n",
              "      <td>Denmark<\/td>\n",
              "      <td>DNK<\/td>\n",
              "      <td>2014<\/td>\n",
              "      <td>6.7<\/td>\n",
              "      <td>5.7<\/td>\n",
              "      <td>8.3<\/td>\n",
              "      <td>10.4<\/td>\n",
              "      <td>6.5<\/td>\n",
              "      <td>15.5<\/td>\n",
              "      <td>5.7<\/td>\n",
              "      <td>4.7<\/td>\n",
              "      <td>6.7<\/td>\n",
              "      <td>7.4<\/td>\n",
              "      <td>6.9<\/td>\n",
              "      <td>8.8<\/td>\n",
              "    <\/tr>\n",
              "    <tr>\n",
              "      <th>4<\/th>\n",
              "      <td>Estonia<\/td>\n",
              "      <td>EST<\/td>\n",
              "      <td>2014<\/td>\n",
              "      <td>3.8<\/td>\n",
              "      <td>3.8<\/td>\n",
              "      <td>5.1<\/td>\n",
              "      <td>4.7<\/td>\n",
              "      <td>4.7<\/td>\n",
              "      <td>6.4<\/td>\n",
              "      <td>3.6<\/td>\n",
              "      <td>3.6<\/td>\n",
              "      <td>4.3<\/td>\n",
              "      <td>3.7<\/td>\n",
              "      <td>3.8<\/td>\n",
              "      <td>5.2<\/td>\n",
              "    <\/tr>\n",
              "  <\/tbody>\n",
              "<\/table>\n",
              "<\/div>"
            ]
          },
          "metadata":{
            
          },
          "output_type":"display_data"
        }
      ],
      "metadata":{
        
      }
    },
    {
      "cell_type":"markdown",
      "source":[
        "DataFrame de índices de depresión por edad."
      ],
      "metadata":{
        
      }
    },
    {
      "cell_type":"code",
      "source":[
        "round_dataframe_values(age_groups.head())"
      ],
      "execution_count":14,
      "outputs":[
        {
          "data":{
            "text\/html":[
              "<div>\n",
              "<style scoped>\n",
              "    .dataframe tbody tr th:only-of-type {\n",
              "        vertical-align: middle;\n",
              "    }\n",
              "\n",
              "    .dataframe tbody tr th {\n",
              "        vertical-align: top;\n",
              "    }\n",
              "\n",
              "    .dataframe thead th {\n",
              "        text-align: right;\n",
              "    }\n",
              "<\/style>\n",
              "<table border=\"1\" class=\"dataframe\">\n",
              "  <thead>\n",
              "    <tr style=\"text-align: right;\">\n",
              "      <th><\/th>\n",
              "      <th>Entity<\/th>\n",
              "      <th>Code<\/th>\n",
              "      <th>Year<\/th>\n",
              "      <th>20-24 years old (%)<\/th>\n",
              "      <th>10-14 years old (%)<\/th>\n",
              "      <th>All ages (%)<\/th>\n",
              "      <th>70+ years old (%)<\/th>\n",
              "      <th>30-34 years old (%)<\/th>\n",
              "      <th>15-19 years old (%)<\/th>\n",
              "      <th>25-29 years old (%)<\/th>\n",
              "      <th>50-69 years old (%)<\/th>\n",
              "      <th>Age-standardized (%)<\/th>\n",
              "      <th>15-49 years old (%)<\/th>\n",
              "    <\/tr>\n",
              "  <\/thead>\n",
              "  <tbody>\n",
              "    <tr>\n",
              "      <th>0<\/th>\n",
              "      <td>Afghanistan<\/td>\n",
              "      <td>AFG<\/td>\n",
              "      <td>1990<\/td>\n",
              "      <td>4.418<\/td>\n",
              "      <td>1.595<\/td>\n",
              "      <td>3.219<\/td>\n",
              "      <td>5.203<\/td>\n",
              "      <td>5.799<\/td>\n",
              "      <td>3.456<\/td>\n",
              "      <td>5.176<\/td>\n",
              "      <td>5.918<\/td>\n",
              "      <td>4.072<\/td>\n",
              "      <td>4.940<\/td>\n",
              "    <\/tr>\n",
              "    <tr>\n",
              "      <th>1<\/th>\n",
              "      <td>Afghanistan<\/td>\n",
              "      <td>AFG<\/td>\n",
              "      <td>1991<\/td>\n",
              "      <td>4.434<\/td>\n",
              "      <td>1.588<\/td>\n",
              "      <td>3.203<\/td>\n",
              "      <td>5.193<\/td>\n",
              "      <td>5.815<\/td>\n",
              "      <td>3.452<\/td>\n",
              "      <td>5.177<\/td>\n",
              "      <td>5.927<\/td>\n",
              "      <td>4.080<\/td>\n",
              "      <td>4.903<\/td>\n",
              "    <\/tr>\n",
              "    <tr>\n",
              "      <th>2<\/th>\n",
              "      <td>Afghanistan<\/td>\n",
              "      <td>AFG<\/td>\n",
              "      <td>1992<\/td>\n",
              "      <td>4.454<\/td>\n",
              "      <td>1.578<\/td>\n",
              "      <td>3.157<\/td>\n",
              "      <td>5.177<\/td>\n",
              "      <td>5.830<\/td>\n",
              "      <td>3.435<\/td>\n",
              "      <td>5.160<\/td>\n",
              "      <td>5.946<\/td>\n",
              "      <td>4.088<\/td>\n",
              "      <td>4.837<\/td>\n",
              "    <\/tr>\n",
              "    <tr>\n",
              "      <th>3<\/th>\n",
              "      <td>Afghanistan<\/td>\n",
              "      <td>AFG<\/td>\n",
              "      <td>1993<\/td>\n",
              "      <td>4.465<\/td>\n",
              "      <td>1.577<\/td>\n",
              "      <td>3.121<\/td>\n",
              "      <td>5.167<\/td>\n",
              "      <td>5.853<\/td>\n",
              "      <td>3.420<\/td>\n",
              "      <td>5.149<\/td>\n",
              "      <td>5.967<\/td>\n",
              "      <td>4.096<\/td>\n",
              "      <td>4.814<\/td>\n",
              "    <\/tr>\n",
              "    <tr>\n",
              "      <th>4<\/th>\n",
              "      <td>Afghanistan<\/td>\n",
              "      <td>AFG<\/td>\n",
              "      <td>1994<\/td>\n",
              "      <td>4.463<\/td>\n",
              "      <td>1.571<\/td>\n",
              "      <td>3.082<\/td>\n",
              "      <td>5.158<\/td>\n",
              "      <td>5.853<\/td>\n",
              "      <td>3.425<\/td>\n",
              "      <td>5.148<\/td>\n",
              "      <td>5.976<\/td>\n",
              "      <td>4.100<\/td>\n",
              "      <td>4.839<\/td>\n",
              "    <\/tr>\n",
              "  <\/tbody>\n",
              "<\/table>\n",
              "<\/div>"
            ]
          },
          "metadata":{
            
          },
          "output_type":"display_data"
        }
      ],
      "metadata":{
        
      }
    },
    {
      "cell_type":"markdown",
      "source":[
        "DataFrame de índices de depresión por género."
      ],
      "metadata":{
        
      }
    },
    {
      "cell_type":"code",
      "source":[
        "gender_groups.head()"
      ],
      "execution_count":15,
      "outputs":[
        {
          "data":{
            "text\/html":[
              "<div>\n",
              "<style scoped>\n",
              "    .dataframe tbody tr th:only-of-type {\n",
              "        vertical-align: middle;\n",
              "    }\n",
              "\n",
              "    .dataframe tbody tr th {\n",
              "        vertical-align: top;\n",
              "    }\n",
              "\n",
              "    .dataframe thead th {\n",
              "        text-align: right;\n",
              "    }\n",
              "<\/style>\n",
              "<table border=\"1\" class=\"dataframe\">\n",
              "  <thead>\n",
              "    <tr style=\"text-align: right;\">\n",
              "      <th><\/th>\n",
              "      <th>Entity<\/th>\n",
              "      <th>Code<\/th>\n",
              "      <th>Year<\/th>\n",
              "      <th>Prevalence in males (%)<\/th>\n",
              "      <th>Prevalence in females (%)<\/th>\n",
              "      <th>Population<\/th>\n",
              "    <\/tr>\n",
              "  <\/thead>\n",
              "  <tbody>\n",
              "    <tr>\n",
              "      <th>0<\/th>\n",
              "      <td>Afghanistan<\/td>\n",
              "      <td>AFG<\/td>\n",
              "      <td>1800<\/td>\n",
              "      <td>NaN<\/td>\n",
              "      <td>NaN<\/td>\n",
              "      <td>3280000.0<\/td>\n",
              "    <\/tr>\n",
              "    <tr>\n",
              "      <th>1<\/th>\n",
              "      <td>Afghanistan<\/td>\n",
              "      <td>AFG<\/td>\n",
              "      <td>1801<\/td>\n",
              "      <td>NaN<\/td>\n",
              "      <td>NaN<\/td>\n",
              "      <td>3280000.0<\/td>\n",
              "    <\/tr>\n",
              "    <tr>\n",
              "      <th>2<\/th>\n",
              "      <td>Afghanistan<\/td>\n",
              "      <td>AFG<\/td>\n",
              "      <td>1802<\/td>\n",
              "      <td>NaN<\/td>\n",
              "      <td>NaN<\/td>\n",
              "      <td>3280000.0<\/td>\n",
              "    <\/tr>\n",
              "    <tr>\n",
              "      <th>3<\/th>\n",
              "      <td>Afghanistan<\/td>\n",
              "      <td>AFG<\/td>\n",
              "      <td>1803<\/td>\n",
              "      <td>NaN<\/td>\n",
              "      <td>NaN<\/td>\n",
              "      <td>3280000.0<\/td>\n",
              "    <\/tr>\n",
              "    <tr>\n",
              "      <th>4<\/th>\n",
              "      <td>Afghanistan<\/td>\n",
              "      <td>AFG<\/td>\n",
              "      <td>1804<\/td>\n",
              "      <td>NaN<\/td>\n",
              "      <td>NaN<\/td>\n",
              "      <td>3280000.0<\/td>\n",
              "    <\/tr>\n",
              "  <\/tbody>\n",
              "<\/table>\n",
              "<\/div>"
            ]
          },
          "metadata":{
            
          },
          "output_type":"display_data"
        }
      ],
      "metadata":{
        
      }
    },
    {
      "cell_type":"markdown",
      "source":[
        "DataFrame de índices de depresión y suicidio por cada 100,000 individuos."
      ],
      "metadata":{
        
      }
    },
    {
      "cell_type":"code",
      "source":[
        "depression_and_suicide_rate.head()"
      ],
      "execution_count":16,
      "outputs":[
        {
          "data":{
            "text\/html":[
              "<div>\n",
              "<style scoped>\n",
              "    .dataframe tbody tr th:only-of-type {\n",
              "        vertical-align: middle;\n",
              "    }\n",
              "\n",
              "    .dataframe tbody tr th {\n",
              "        vertical-align: top;\n",
              "    }\n",
              "\n",
              "    .dataframe thead th {\n",
              "        text-align: right;\n",
              "    }\n",
              "<\/style>\n",
              "<table border=\"1\" class=\"dataframe\">\n",
              "  <thead>\n",
              "    <tr style=\"text-align: right;\">\n",
              "      <th><\/th>\n",
              "      <th>Entity<\/th>\n",
              "      <th>Code<\/th>\n",
              "      <th>Year<\/th>\n",
              "      <th>Suicide rate (deaths per 100,000 individuals)<\/th>\n",
              "      <th>Depressive disorder rates (number suffering per 100,000)<\/th>\n",
              "      <th>Population<\/th>\n",
              "    <\/tr>\n",
              "  <\/thead>\n",
              "  <tbody>\n",
              "    <tr>\n",
              "      <th>0<\/th>\n",
              "      <td>Afghanistan<\/td>\n",
              "      <td>AFG<\/td>\n",
              "      <td>1800<\/td>\n",
              "      <td>NaN<\/td>\n",
              "      <td>NaN<\/td>\n",
              "      <td>3280000.0<\/td>\n",
              "    <\/tr>\n",
              "    <tr>\n",
              "      <th>1<\/th>\n",
              "      <td>Afghanistan<\/td>\n",
              "      <td>AFG<\/td>\n",
              "      <td>1801<\/td>\n",
              "      <td>NaN<\/td>\n",
              "      <td>NaN<\/td>\n",
              "      <td>3280000.0<\/td>\n",
              "    <\/tr>\n",
              "    <tr>\n",
              "      <th>2<\/th>\n",
              "      <td>Afghanistan<\/td>\n",
              "      <td>AFG<\/td>\n",
              "      <td>1802<\/td>\n",
              "      <td>NaN<\/td>\n",
              "      <td>NaN<\/td>\n",
              "      <td>3280000.0<\/td>\n",
              "    <\/tr>\n",
              "    <tr>\n",
              "      <th>3<\/th>\n",
              "      <td>Afghanistan<\/td>\n",
              "      <td>AFG<\/td>\n",
              "      <td>1803<\/td>\n",
              "      <td>NaN<\/td>\n",
              "      <td>NaN<\/td>\n",
              "      <td>3280000.0<\/td>\n",
              "    <\/tr>\n",
              "    <tr>\n",
              "      <th>4<\/th>\n",
              "      <td>Afghanistan<\/td>\n",
              "      <td>AFG<\/td>\n",
              "      <td>1804<\/td>\n",
              "      <td>NaN<\/td>\n",
              "      <td>NaN<\/td>\n",
              "      <td>3280000.0<\/td>\n",
              "    <\/tr>\n",
              "  <\/tbody>\n",
              "<\/table>\n",
              "<\/div>"
            ]
          },
          "metadata":{
            
          },
          "output_type":"display_data"
        }
      ],
      "metadata":{
        
      }
    },
    {
      "cell_type":"markdown",
      "source":[
        "DataFrame de población afectada por la depresión."
      ],
      "metadata":{
        
      }
    },
    {
      "cell_type":"code",
      "source":[
        "round_dataframe_values(affected.head(), 0)"
      ],
      "execution_count":17,
      "outputs":[
        {
          "data":{
            "text\/html":[
              "<div>\n",
              "<style scoped>\n",
              "    .dataframe tbody tr th:only-of-type {\n",
              "        vertical-align: middle;\n",
              "    }\n",
              "\n",
              "    .dataframe tbody tr th {\n",
              "        vertical-align: top;\n",
              "    }\n",
              "\n",
              "    .dataframe thead th {\n",
              "        text-align: right;\n",
              "    }\n",
              "<\/style>\n",
              "<table border=\"1\" class=\"dataframe\">\n",
              "  <thead>\n",
              "    <tr style=\"text-align: right;\">\n",
              "      <th><\/th>\n",
              "      <th>Entity<\/th>\n",
              "      <th>Code<\/th>\n",
              "      <th>Year<\/th>\n",
              "      <th>Prevalence - Depressive disorders - Sex: Both - Age: All Ages (Number) (people suffering from depression)<\/th>\n",
              "    <\/tr>\n",
              "  <\/thead>\n",
              "  <tbody>\n",
              "    <tr>\n",
              "      <th>0<\/th>\n",
              "      <td>Afghanistan<\/td>\n",
              "      <td>AFG<\/td>\n",
              "      <td>1990<\/td>\n",
              "      <td>318436.0<\/td>\n",
              "    <\/tr>\n",
              "    <tr>\n",
              "      <th>1<\/th>\n",
              "      <td>Afghanistan<\/td>\n",
              "      <td>AFG<\/td>\n",
              "      <td>1991<\/td>\n",
              "      <td>329045.0<\/td>\n",
              "    <\/tr>\n",
              "    <tr>\n",
              "      <th>2<\/th>\n",
              "      <td>Afghanistan<\/td>\n",
              "      <td>AFG<\/td>\n",
              "      <td>1992<\/td>\n",
              "      <td>382545.0<\/td>\n",
              "    <\/tr>\n",
              "    <tr>\n",
              "      <th>3<\/th>\n",
              "      <td>Afghanistan<\/td>\n",
              "      <td>AFG<\/td>\n",
              "      <td>1993<\/td>\n",
              "      <td>440382.0<\/td>\n",
              "    <\/tr>\n",
              "    <tr>\n",
              "      <th>4<\/th>\n",
              "      <td>Afghanistan<\/td>\n",
              "      <td>AFG<\/td>\n",
              "      <td>1994<\/td>\n",
              "      <td>456917.0<\/td>\n",
              "    <\/tr>\n",
              "  <\/tbody>\n",
              "<\/table>\n",
              "<\/div>"
            ]
          },
          "metadata":{
            
          },
          "output_type":"display_data"
        }
      ],
      "metadata":{
        
      }
    },
    {
      "cell_type":"markdown",
      "source":[
        "La tabla <code>education_level<\/code> carece de la información necesaria para poder relacionarla con los demás DataFrames, por lo que decidimos descartarla debido a múltiples factores como:\n",
        "\n",
        "- Únicamente comprende el año 2014.\n",
        "- Contiene muy pocos registros, por lo que altera la uniformidad de los datos.\n",
        "- Comprende países de una sola región."
      ],
      "metadata":{
        
      }
    },
    {
      "cell_type":"markdown",
      "source":[
        "### Renombramiento\n",
        "\n",
        "Como pudimos observar, los nombres de las columnas no siguen la convención de nombramiento de variables <code>Snake Case<\/code>, por lo que hay que renombrar cada columna para cada una de los DataFrames mediante la función <code>rename<\/code>."
      ],
      "metadata":{
        
      }
    },
    {
      "cell_type":"code",
      "source":[
        "percentages_of_global_disorders = global_disorders.copy().rename(\n",
        "    columns={\n",
        "        'Entity': 'entity',\n",
        "        'Code': 'code',\n",
        "        'Year': 'year',\n",
        "        'Schizophrenia (%)': 'schizophrenia',\n",
        "        'Bipolar disorder (%)': 'bipolar_disorder',\n",
        "        'Eating disorders (%)': 'eating_disorder',\n",
        "        'Anxiety disorders (%)': 'anxiety',\n",
        "        'Drug use disorders (%)': 'drug_addiction',\n",
        "        'Depression (%)': 'depression',\n",
        "        'Alcohol use disorders (%)': 'alcoholism'\n",
        "    }\n",
        ")\n",
        "\n",
        "depression_rates_by_age = age_groups.copy().rename(\n",
        "    columns={\n",
        "        'Entity': 'entity',\n",
        "        'Code': 'code',\n",
        "        'Year': 'year',\n",
        "        'All ages (%)': 'all',\n",
        "        '10-14 years old (%)': 'from_10_to_14',\n",
        "        '15-19 years old (%)': 'from_15_to_19',\n",
        "        '20-24 years old (%)': 'from_20_to_24',\n",
        "        '25-29 years old (%)': 'from_25_to_29',\n",
        "        '30-34 years old (%)': 'from_30_to_34',\n",
        "        '15-49 years old (%)': 'from_15_to_49',\n",
        "        '50-69 years old (%)': 'from_50_to_69',\n",
        "        '70+ years old (%)': 'above_69',\n",
        "        'Age-standardized (%)': 'standardized'\n",
        "    }\n",
        ")\n",
        "\n",
        "depression_rates_by_gender = gender_groups.copy().rename(\n",
        "    columns = {\n",
        "        'Entity': 'entity',\n",
        "        'Code': 'code',\n",
        "        'Year': 'year',\n",
        "        'Prevalence in males (%)': 'prevalence_in_males',\n",
        "        'Prevalence in females (%)': 'prevalence_in_females',\n",
        "        'Population': 'population'\n",
        "    }\n",
        ")\n",
        "\n",
        "depression_and_suicide_rate_per_100000_individuals = depression_and_suicide_rate.copy().rename(\n",
        "    columns={\n",
        "        'Entity': 'entity',\n",
        "        'Code': 'code',\n",
        "        'Year': 'year',\n",
        "        'Suicide rate (deaths per 100,000 individuals)': 'suicide_rate',\n",
        "        'Depressive disorder rates (number suffering per 100,000)': 'depression_rate',\n",
        "        'Population': 'population'\n",
        "    }\n",
        ")\n",
        "\n",
        "depression_affected = affected.copy().rename(\n",
        "    columns={\n",
        "        'Entity': 'entity',\n",
        "        'Code': 'code',\n",
        "        'Year': 'year',\n",
        "        'Prevalence - Depressive disorders - Sex: Both - Age: All Ages (Number) (people suffering from depression)': 'depression_prevalence'\n",
        "    }\n",
        ")"
      ],
      "execution_count":18,
      "outputs":[
        
      ],
      "metadata":{
        
      }
    },
    {
      "cell_type":"markdown",
      "source":[
        "### Casting\n",
        "\n",
        "La columna <code>year<\/code> de los DataFrames <code>gender_groups<\/code> y <code>depression_and_suicide_rate<\/code> es de tipo <code>object<\/code> mientras que en los demás DataFrames es de tipo <code>int64<\/code>.\n",
        "\n",
        "1. Transformar los valores a números mediante la función <code>to_numeric<\/code>.\n",
        "2. Filtrar los registros que no tienen valores <code>NaN<\/code> mediante la función <code>isna<\/code>.\n",
        "3. Transformar los valores de <code>float64<\/code> a <code>int64<\/code> mediante la función <code>astype<\/code>."
      ],
      "metadata":{
        
      }
    },
    {
      "cell_type":"code",
      "source":[
        "depression_rates_by_gender['year'] = pd.to_numeric(depression_rates_by_gender['year'], errors='coerce')\n",
        "depression_rates_by_gender = depression_rates_by_gender[depression_rates_by_gender['year'].isna() == False]\n",
        "depression_rates_by_gender['year'] = depression_rates_by_gender['year'].astype('int64')\n",
        "\n",
        "depression_and_suicide_rate_per_100000_individuals['year'] = pd.to_numeric(depression_and_suicide_rate_per_100000_individuals['year'], errors='coerce')\n",
        "depression_and_suicide_rate_per_100000_individuals = depression_and_suicide_rate_per_100000_individuals[depression_and_suicide_rate_per_100000_individuals['year'].isna() == False]\n",
        "depression_and_suicide_rate_per_100000_individuals['year'] = depression_and_suicide_rate_per_100000_individuals['year'].astype('int64')"
      ],
      "execution_count":19,
      "outputs":[
        
      ],
      "metadata":{
        
      }
    },
    {
      "cell_type":"markdown",
      "source":[
        "### Limpieza de datos"
      ],
      "metadata":{
        
      }
    },
    {
      "cell_type":"markdown",
      "source":[
        "Es necesario identificar las columnas que poseen valores <code>NaN<\/code>, ya que los datos <code>NaN<\/code> no permiten un correcto procesamiento de los datos.\n",
        "\n",
        "Para esto, es necesario crear una función empleando las funciones <code>isna<\/code> y <code>mean<\/code>."
      ],
      "metadata":{
        
      }
    },
    {
      "cell_type":"code",
      "source":[
        "def percentage_of_nans(dataframe):\n",
        "    return dataframe.isna().mean()"
      ],
      "execution_count":20,
      "outputs":[
        
      ],
      "metadata":{
        
      }
    },
    {
      "cell_type":"markdown",
      "source":[
        "DataFrame de índices de desórdenes globales."
      ],
      "metadata":{
        
      }
    },
    {
      "cell_type":"code",
      "source":[
        "percentage_of_nans(percentages_of_global_disorders)"
      ],
      "execution_count":21,
      "outputs":[
        {
          "data":{
            "text\/plain":[
              "entity              0.000000\n",
              "code                0.151515\n",
              "year                0.000000\n",
              "schizophrenia       0.000000\n",
              "bipolar_disorder    0.000000\n",
              "eating_disorder     0.000000\n",
              "anxiety             0.000000\n",
              "drug_addiction      0.000000\n",
              "depression          0.000000\n",
              "alcoholism          0.000000\n",
              "dtype: float64"
            ]
          },
          "metadata":{
            
          },
          "output_type":"display_data"
        }
      ],
      "metadata":{
        
      }
    },
    {
      "cell_type":"markdown",
      "source":[
        "DataFrame de índices de depresión por edad."
      ],
      "metadata":{
        
      }
    },
    {
      "cell_type":"code",
      "source":[
        "percentage_of_nans(depression_rates_by_age)"
      ],
      "execution_count":22,
      "outputs":[
        {
          "data":{
            "text\/plain":[
              "entity           0.000000\n",
              "code             0.151515\n",
              "year             0.000000\n",
              "from_20_to_24    0.000000\n",
              "from_10_to_14    0.000000\n",
              "all              0.000000\n",
              "above_69         0.000000\n",
              "from_30_to_34    0.000000\n",
              "from_15_to_19    0.000000\n",
              "from_25_to_29    0.000000\n",
              "from_50_to_69    0.000000\n",
              "standardized     0.000000\n",
              "from_15_to_49    0.000000\n",
              "dtype: float64"
            ]
          },
          "metadata":{
            
          },
          "output_type":"display_data"
        }
      ],
      "metadata":{
        
      }
    },
    {
      "cell_type":"markdown",
      "source":[
        "DataFrame de índices de depresión por género."
      ],
      "metadata":{
        
      }
    },
    {
      "cell_type":"code",
      "source":[
        "percentage_of_nans(depression_rates_by_gender)"
      ],
      "execution_count":23,
      "outputs":[
        {
          "data":{
            "text\/plain":[
              "entity                   0.000000\n",
              "code                     0.034900\n",
              "year                     0.000000\n",
              "prevalence_in_males      0.864508\n",
              "prevalence_in_females    0.864508\n",
              "population               0.019356\n",
              "dtype: float64"
            ]
          },
          "metadata":{
            
          },
          "output_type":"display_data"
        }
      ],
      "metadata":{
        
      }
    },
    {
      "cell_type":"markdown",
      "source":[
        "DataFrame de índices de depresión y suicidio por cada 100,000 individuos."
      ],
      "metadata":{
        
      }
    },
    {
      "cell_type":"code",
      "source":[
        "percentage_of_nans(depression_and_suicide_rate_per_100000_individuals)"
      ],
      "execution_count":24,
      "outputs":[
        {
          "data":{
            "text\/plain":[
              "entity             0.000000\n",
              "code               0.034900\n",
              "year               0.000000\n",
              "suicide_rate       0.864508\n",
              "depression_rate    0.864508\n",
              "population         0.019356\n",
              "dtype: float64"
            ]
          },
          "metadata":{
            
          },
          "output_type":"display_data"
        }
      ],
      "metadata":{
        
      }
    },
    {
      "cell_type":"markdown",
      "source":[
        "DataFrame de población afectada por la depresión."
      ],
      "metadata":{
        
      }
    },
    {
      "cell_type":"code",
      "source":[
        "percentage_of_nans(depression_affected)"
      ],
      "execution_count":25,
      "outputs":[
        {
          "data":{
            "text\/plain":[
              "entity                   0.000000\n",
              "code                     0.151515\n",
              "year                     0.000000\n",
              "depression_prevalence    0.000000\n",
              "dtype: float64"
            ]
          },
          "metadata":{
            
          },
          "output_type":"display_data"
        }
      ],
      "metadata":{
        
      }
    },
    {
      "cell_type":"markdown",
      "source":[
        "Los DataFrames contienen regiones del mundo. Estas solo nos proporcionan información parcial, por lo que no es de gran utilidad para este análisis.\n",
        "\n",
        "Todos estos registros pueden filtrarse mediante la función <code>isna<\/code> aplicada a la columna <code>code<\/code>, ya que esta columna no tiene valor alguno para estos registros.\n",
        "\n",
        "Para esto, es necesario crear una función que haga uso de las funciones previamente mencionadas."
      ],
      "metadata":{
        
      }
    },
    {
      "cell_type":"code",
      "source":[
        "def no_code_filter(dataframe):\n",
        "    return dataframe.drop(dataframe[dataframe['code'].isna()].index)"
      ],
      "execution_count":26,
      "outputs":[
        
      ],
      "metadata":{
        
      }
    },
    {
      "cell_type":"code",
      "source":[
        "percentages_of_global_disorders = no_code_filter(percentages_of_global_disorders)\n",
        "\n",
        "depression_rates_by_age = no_code_filter(depression_rates_by_age)\n",
        "\n",
        "depression_rates_by_gender = no_code_filter(depression_rates_by_gender)\n",
        "\n",
        "depression_and_suicide_rate_per_100000_individuals = no_code_filter(depression_and_suicide_rate_per_100000_individuals)\n",
        "\n",
        "depression_affected = no_code_filter(depression_affected)"
      ],
      "execution_count":27,
      "outputs":[
        
      ],
      "metadata":{
        
      }
    },
    {
      "cell_type":"markdown",
      "source":[
        "Existen registros donde la columna <code>code<\/code> no tiene valor alguno por el momento, por lo que se puede eliminar sin dañar la integridad de los datos.\n",
        "\n",
        "Los valores únicos de las columnas <code>entity<\/code> y <code>code<\/code> se almacenan en una lista para hacer referencia a este valor más adelante.\n",
        "\n",
        "Este proceso se realiza mediante la función <code>drop<\/code>."
      ],
      "metadata":{
        
      }
    },
    {
      "cell_type":"code",
      "source":[
        "three_letter_code = pd.Series(data=depression_rates_by_age['code'].unique(), index=depression_rates_by_age['entity'].unique(), name=\"code\")\n",
        "\n",
        "percentages_of_global_disorders = percentages_of_global_disorders.drop(columns=['code'])\n",
        "depression_rates_by_age = depression_rates_by_age.drop(columns=['code'])\n",
        "depression_rates_by_gender = depression_rates_by_gender.drop(columns=['code'])\n",
        "depression_and_suicide_rate_per_100000_individuals = depression_and_suicide_rate_per_100000_individuals.drop(columns=['code'])\n",
        "depression_affected = depression_affected.drop(columns=['code'])"
      ],
      "execution_count":28,
      "outputs":[
        
      ],
      "metadata":{
        
      }
    },
    {
      "cell_type":"markdown",
      "source":[
        "Ahora, procedemos a filtrar los registros comprendidos entre los años <code>1990<\/code> y <code>2017<\/code> de los DataFrames <code>depression_rates_by_gender<\/code> y <code>depression_and_suicide_rate_per_100000_individuals<\/code>."
      ],
      "metadata":{
        
      }
    },
    {
      "cell_type":"code",
      "source":[
        "depression_rates_by_gender = depression_rates_by_gender[(depression_rates_by_gender['year'] >= 1990) & (depression_rates_by_gender['year'] <= 2017)]\n",
        "depression_and_suicide_rate_per_100000_individuals = depression_and_suicide_rate_per_100000_individuals[(depression_and_suicide_rate_per_100000_individuals['year'] >= 1990) & (depression_and_suicide_rate_per_100000_individuals['year'] <= 2017)]"
      ],
      "execution_count":29,
      "outputs":[
        
      ],
      "metadata":{
        
      }
    },
    {
      "cell_type":"markdown",
      "source":[
        "Aplicamos la función <code>shape<\/code> para visualizar el tamaño actual de los DataFrames."
      ],
      "metadata":{
        
      }
    },
    {
      "cell_type":"code",
      "source":[
        "print('percentages of global disorders: ', percentages_of_global_disorders.shape)\n",
        "print('depression rates by age: ', depression_rates_by_age.shape)\n",
        "print('depression rates by gender: ', depression_rates_by_gender.shape)\n",
        "print('depression and suicide rate per 100,000 individuals: ', depression_and_suicide_rate_per_100000_individuals.shape)\n",
        "print('depression affected: ', depression_affected.shape)"
      ],
      "execution_count":30,
      "outputs":[
        {
          "name":"stdout",
          "text":[
            "percentages of global disorders:  (5488, 9)\n",
            "depression rates by age:  (5488, 12)\n",
            "depression rates by gender:  (6580, 5)\n",
            "depression and suicide rate per 100,000 individuals:  (6580, 5)\n",
            "depression affected:  (5488, 3)\n"
          ],
          "output_type":"stream"
        }
      ],
      "metadata":{
        
      }
    },
    {
      "cell_type":"markdown",
      "source":[
        "Como podemos observar, los DataFrames <code>depression_rates_by_gender<\/code> y <code>depression_and_suicide_rate_per_100000_individuals<\/code> aún cuentan con una mayor cantidad de registros que el resto de los DataFrames.\n",
        "\n",
        "Realizamos una comparación entre los valores únicos de las columnas <code>entity<\/code> de ambos DataFrames y un DataFrame que contiene los valores únicos compartidos de las columnas <code>entity<\/code> de las demás DataFrame, con el fin de conocer las entidades adicionales tienen ambos DataFrames."
      ],
      "metadata":{
        
      }
    },
    {
      "cell_type":"code",
      "source":[
        "gender_groups_unique_list = pd.Series(pd.unique(depression_rates_by_gender['entity']))\n",
        "\n",
        "countries_not_in_all_dfs = gender_groups_unique_list[gender_groups_unique_list.apply(lambda x:x not in pd.unique(percentages_of_global_disorders['entity']))]\n",
        "countries_not_in_all_dfs"
      ],
      "execution_count":31,
      "outputs":[
        {
          "data":{
            "text\/plain":[
              "6                             Anguilla\n",
              "10                               Aruba\n",
              "25     Bonaire Sint Eustatius and Saba\n",
              "29              British Virgin Islands\n",
              "38                      Cayman Islands\n",
              "41                     Channel Islands\n",
              "47                        Cook Islands\n",
              "52                             Curacao\n",
              "67                      Faeroe Islands\n",
              "68                    Falkland Islands\n",
              "72                       French Guiana\n",
              "73                    French Polynesia\n",
              "79                           Gibraltar\n",
              "83                          Guadeloupe\n",
              "91                           Hong Kong\n",
              "99                         Isle of Man\n",
              "116                      Liechtenstein\n",
              "119                              Macao\n",
              "128                         Martinique\n",
              "131                            Mayotte\n",
              "135                             Monaco\n",
              "138                         Montserrat\n",
              "143                              Nauru\n",
              "146                      New Caledonia\n",
              "151                               Niue\n",
              "157                              Palau\n",
              "168                            Reunion\n",
              "172                       Saint Helena\n",
              "173              Saint Kitts and Nevis\n",
              "175         Saint Martin (French part)\n",
              "176          Saint Pierre and Miquelon\n",
              "179                         San Marino\n",
              "187          Sint Maarten (Dutch part)\n",
              "209                            Tokelau\n",
              "215           Turks and Caicos Islands\n",
              "216                             Tuvalu\n",
              "226                            Vatican\n",
              "229                  Wallis and Futuna\n",
              "230                     Western Sahara\n",
              "dtype: object"
            ]
          },
          "metadata":{
            
          },
          "output_type":"display_data"
        }
      ],
      "metadata":{
        
      }
    },
    {
      "cell_type":"markdown",
      "source":[
        "Podemos observar que hay registros de países pequeños, territorios y demás dependencias.\n",
        "\n",
        "La importancia de estos registros es menor al considerar el valor de uniformidad entre cada uno de los DataFrames obtenidos, por lo que podemos filtrarlos mediante la función <code>apply<\/code> aplicada a la columna <code>entity<\/code> de ambos DataFrames."
      ],
      "metadata":{
        
      }
    },
    {
      "cell_type":"code",
      "source":[
        "depression_rates_by_gender = depression_rates_by_gender[depression_rates_by_gender['entity'].apply(lambda x:x not in countries_not_in_all_dfs.tolist())]\n",
        "depression_and_suicide_rate_per_100000_individuals = depression_and_suicide_rate_per_100000_individuals[depression_and_suicide_rate_per_100000_individuals['entity'].apply(lambda x:x not in countries_not_in_all_dfs.tolist())]\n",
        "\n",
        "print('depression rates by gender: ', depression_rates_by_gender.shape)\n",
        "print('depression and suicide rate per 100,000 individuals: ', depression_and_suicide_rate_per_100000_individuals.shape)"
      ],
      "execution_count":32,
      "outputs":[
        {
          "name":"stdout",
          "text":[
            "depression rates by gender:  (5488, 5)\n",
            "depression and suicide rate per 100,000 individuals:  (5488, 5)\n"
          ],
          "output_type":"stream"
        }
      ],
      "metadata":{
        
      }
    },
    {
      "cell_type":"markdown",
      "source":[
        "Una vez que el número de filas sea uniforme, procedemos a comprobar que ya no existan valores <code>NaN<\/code> en ninguno de los DataFrames.\n",
        "\n",
        "Este proceso se realiza mediante la función <code>percentage_of_nans<\/code>."
      ],
      "metadata":{
        
      }
    },
    {
      "cell_type":"markdown",
      "source":[
        "DataFrame de índices de desórdenes globales."
      ],
      "metadata":{
        
      }
    },
    {
      "cell_type":"code",
      "source":[
        "percentage_of_nans(percentages_of_global_disorders)"
      ],
      "execution_count":33,
      "outputs":[
        {
          "data":{
            "text\/plain":[
              "entity              0.0\n",
              "year                0.0\n",
              "schizophrenia       0.0\n",
              "bipolar_disorder    0.0\n",
              "eating_disorder     0.0\n",
              "anxiety             0.0\n",
              "drug_addiction      0.0\n",
              "depression          0.0\n",
              "alcoholism          0.0\n",
              "dtype: float64"
            ]
          },
          "metadata":{
            
          },
          "output_type":"display_data"
        }
      ],
      "metadata":{
        
      }
    },
    {
      "cell_type":"markdown",
      "source":[
        "DataFrame de índices de depresión por edad."
      ],
      "metadata":{
        
      }
    },
    {
      "cell_type":"code",
      "source":[
        "percentage_of_nans(depression_rates_by_age)"
      ],
      "execution_count":34,
      "outputs":[
        {
          "data":{
            "text\/plain":[
              "entity           0.0\n",
              "year             0.0\n",
              "from_20_to_24    0.0\n",
              "from_10_to_14    0.0\n",
              "all              0.0\n",
              "above_69         0.0\n",
              "from_30_to_34    0.0\n",
              "from_15_to_19    0.0\n",
              "from_25_to_29    0.0\n",
              "from_50_to_69    0.0\n",
              "standardized     0.0\n",
              "from_15_to_49    0.0\n",
              "dtype: float64"
            ]
          },
          "metadata":{
            
          },
          "output_type":"display_data"
        }
      ],
      "metadata":{
        
      }
    },
    {
      "cell_type":"markdown",
      "source":[
        "DataFrame de índices de depresión por género."
      ],
      "metadata":{
        
      }
    },
    {
      "cell_type":"code",
      "source":[
        "percentage_of_nans(depression_rates_by_gender)"
      ],
      "execution_count":35,
      "outputs":[
        {
          "data":{
            "text\/plain":[
              "entity                   0.0\n",
              "year                     0.0\n",
              "prevalence_in_males      0.0\n",
              "prevalence_in_females    0.0\n",
              "population               0.0\n",
              "dtype: float64"
            ]
          },
          "metadata":{
            
          },
          "output_type":"display_data"
        }
      ],
      "metadata":{
        
      }
    },
    {
      "cell_type":"markdown",
      "source":[
        "DataFrame de índices de depresión y suicidio por cada 100,000 individuos."
      ],
      "metadata":{
        
      }
    },
    {
      "cell_type":"code",
      "source":[
        "percentage_of_nans(depression_and_suicide_rate_per_100000_individuals)"
      ],
      "execution_count":36,
      "outputs":[
        {
          "data":{
            "text\/plain":[
              "entity             0.0\n",
              "year               0.0\n",
              "suicide_rate       0.0\n",
              "depression_rate    0.0\n",
              "population         0.0\n",
              "dtype: float64"
            ]
          },
          "metadata":{
            
          },
          "output_type":"display_data"
        }
      ],
      "metadata":{
        
      }
    },
    {
      "cell_type":"markdown",
      "source":[
        "DataFrame de población afectada por la depresión."
      ],
      "metadata":{
        
      }
    },
    {
      "cell_type":"code",
      "source":[
        "percentage_of_nans(depression_affected)"
      ],
      "execution_count":37,
      "outputs":[
        {
          "data":{
            "text\/plain":[
              "entity                   0.0\n",
              "year                     0.0\n",
              "depression_prevalence    0.0\n",
              "dtype: float64"
            ]
          },
          "metadata":{
            
          },
          "output_type":"display_data"
        }
      ],
      "metadata":{
        
      }
    },
    {
      "cell_type":"markdown",
      "source":[
        "### Concatenación de los DataFrames\n",
        "\n",
        "Una vez que el conjunto de datos está limpio y uniforme, procedemos a concatenar las columnas de los DataFrames.\n",
        "\n",
        "Este proceso se realiza mediante la función <code>merge<\/code>, en el análisis hecho previamente se aprecia que todos los DataFrames tienen en común las columnas <code>entity<\/code> y <code>year<\/code>, por lo que son adecuadas para relacionar los DataFrames entre sí."
      ],
      "metadata":{
        
      }
    },
    {
      "cell_type":"code",
      "source":[
        "df_merge = percentages_of_global_disorders.merge(\n",
        "    depression_rates_by_age,\n",
        "    left_on=['entity','year'],\n",
        "    right_on=['entity','year']).merge(\n",
        "        depression_rates_by_gender,\n",
        "        left_on=['entity','year'],\n",
        "        right_on=['entity','year']).merge(\n",
        "            depression_and_suicide_rate_per_100000_individuals,\n",
        "            left_on=['entity','year'],\n",
        "            right_on=['entity','year']).merge(\n",
        "                depression_affected,\n",
        "                left_on=['entity','year'],\n",
        "                right_on=['entity','year'])\n",
        "df_merge.columns"
      ],
      "execution_count":38,
      "outputs":[
        {
          "data":{
            "text\/plain":[
              "Index(['entity', 'year', 'schizophrenia', 'bipolar_disorder',\n",
              "       'eating_disorder', 'anxiety', 'drug_addiction', 'depression',\n",
              "       'alcoholism', 'from_20_to_24', 'from_10_to_14', 'all', 'above_69',\n",
              "       'from_30_to_34', 'from_15_to_19', 'from_25_to_29', 'from_50_to_69',\n",
              "       'standardized', 'from_15_to_49', 'prevalence_in_males',\n",
              "       'prevalence_in_females', 'population_x', 'suicide_rate',\n",
              "       'depression_rate', 'population_y', 'depression_prevalence'],\n",
              "      dtype='object')"
            ]
          },
          "metadata":{
            
          },
          "output_type":"display_data"
        }
      ],
      "metadata":{
        
      }
    },
    {
      "cell_type":"markdown",
      "source":[
        "Como podemos observar, las columnas <code>population_x<\/code> y <code>population_y<\/code> hacen referencia a la misma columna, este duplicado se debe a que la columna <code>population<\/code> estaba presente en dos DataFrames, por lo que es necesario eliminar cualquiera de las dos columnas mediante la función <code>drop<\/code> para evitar la redundancia de datos y renombrar la otra columna mediante la función <code>rename<\/code> con el fin de preservar la legibilidad de las variables."
      ],
      "metadata":{
        
      }
    },
    {
      "cell_type":"code",
      "source":[
        "df_merge = df_merge.drop(columns=['population_y']).rename(columns={'population_x': 'population'})"
      ],
      "execution_count":39,
      "outputs":[
        
      ],
      "metadata":{
        
      }
    },
    {
      "cell_type":"markdown",
      "source":[
        "Procedemos a visualizar el conjunto de datos para comprobar que el proceso se haya llevado a cabo exitosamente."
      ],
      "metadata":{
        
      }
    },
    {
      "cell_type":"code",
      "source":[
        "round_dataframe_values(df_merge.head())"
      ],
      "execution_count":40,
      "outputs":[
        {
          "data":{
            "text\/html":[
              "<div>\n",
              "<style scoped>\n",
              "    .dataframe tbody tr th:only-of-type {\n",
              "        vertical-align: middle;\n",
              "    }\n",
              "\n",
              "    .dataframe tbody tr th {\n",
              "        vertical-align: top;\n",
              "    }\n",
              "\n",
              "    .dataframe thead th {\n",
              "        text-align: right;\n",
              "    }\n",
              "<\/style>\n",
              "<table border=\"1\" class=\"dataframe\">\n",
              "  <thead>\n",
              "    <tr style=\"text-align: right;\">\n",
              "      <th><\/th>\n",
              "      <th>entity<\/th>\n",
              "      <th>year<\/th>\n",
              "      <th>schizophrenia<\/th>\n",
              "      <th>bipolar_disorder<\/th>\n",
              "      <th>eating_disorder<\/th>\n",
              "      <th>anxiety<\/th>\n",
              "      <th>drug_addiction<\/th>\n",
              "      <th>depression<\/th>\n",
              "      <th>alcoholism<\/th>\n",
              "      <th>from_20_to_24<\/th>\n",
              "      <th>...<\/th>\n",
              "      <th>from_25_to_29<\/th>\n",
              "      <th>from_50_to_69<\/th>\n",
              "      <th>standardized<\/th>\n",
              "      <th>from_15_to_49<\/th>\n",
              "      <th>prevalence_in_males<\/th>\n",
              "      <th>prevalence_in_females<\/th>\n",
              "      <th>population<\/th>\n",
              "      <th>suicide_rate<\/th>\n",
              "      <th>depression_rate<\/th>\n",
              "      <th>depression_prevalence<\/th>\n",
              "    <\/tr>\n",
              "  <\/thead>\n",
              "  <tbody>\n",
              "    <tr>\n",
              "      <th>0<\/th>\n",
              "      <td>Afghanistan<\/td>\n",
              "      <td>1990<\/td>\n",
              "      <td>0.161<\/td>\n",
              "      <td>0.698<\/td>\n",
              "      <td>0.102<\/td>\n",
              "      <td>4.829<\/td>\n",
              "      <td>1.677<\/td>\n",
              "      <td>4.072<\/td>\n",
              "      <td>0.672<\/td>\n",
              "      <td>4.418<\/td>\n",
              "      <td>...<\/td>\n",
              "      <td>5.176<\/td>\n",
              "      <td>5.918<\/td>\n",
              "      <td>4.072<\/td>\n",
              "      <td>4.940<\/td>\n",
              "      <td>3.500<\/td>\n",
              "      <td>4.648<\/td>\n",
              "      <td>12412000.0<\/td>\n",
              "      <td>10.319<\/td>\n",
              "      <td>4039.756<\/td>\n",
              "      <td>318435.814<\/td>\n",
              "    <\/tr>\n",
              "    <tr>\n",
              "      <th>1<\/th>\n",
              "      <td>Afghanistan<\/td>\n",
              "      <td>1991<\/td>\n",
              "      <td>0.160<\/td>\n",
              "      <td>0.698<\/td>\n",
              "      <td>0.099<\/td>\n",
              "      <td>4.830<\/td>\n",
              "      <td>1.685<\/td>\n",
              "      <td>4.080<\/td>\n",
              "      <td>0.672<\/td>\n",
              "      <td>4.434<\/td>\n",
              "      <td>...<\/td>\n",
              "      <td>5.177<\/td>\n",
              "      <td>5.927<\/td>\n",
              "      <td>4.080<\/td>\n",
              "      <td>4.903<\/td>\n",
              "      <td>3.504<\/td>\n",
              "      <td>4.656<\/td>\n",
              "      <td>13299000.0<\/td>\n",
              "      <td>10.327<\/td>\n",
              "      <td>4046.256<\/td>\n",
              "      <td>329044.774<\/td>\n",
              "    <\/tr>\n",
              "    <tr>\n",
              "      <th>2<\/th>\n",
              "      <td>Afghanistan<\/td>\n",
              "      <td>1992<\/td>\n",
              "      <td>0.160<\/td>\n",
              "      <td>0.698<\/td>\n",
              "      <td>0.097<\/td>\n",
              "      <td>4.831<\/td>\n",
              "      <td>1.694<\/td>\n",
              "      <td>4.088<\/td>\n",
              "      <td>0.671<\/td>\n",
              "      <td>4.454<\/td>\n",
              "      <td>...<\/td>\n",
              "      <td>5.160<\/td>\n",
              "      <td>5.946<\/td>\n",
              "      <td>4.088<\/td>\n",
              "      <td>4.837<\/td>\n",
              "      <td>3.509<\/td>\n",
              "      <td>4.662<\/td>\n",
              "      <td>14486000.0<\/td>\n",
              "      <td>10.271<\/td>\n",
              "      <td>4053.710<\/td>\n",
              "      <td>382544.573<\/td>\n",
              "    <\/tr>\n",
              "    <tr>\n",
              "      <th>3<\/th>\n",
              "      <td>Afghanistan<\/td>\n",
              "      <td>1993<\/td>\n",
              "      <td>0.160<\/td>\n",
              "      <td>0.698<\/td>\n",
              "      <td>0.094<\/td>\n",
              "      <td>4.831<\/td>\n",
              "      <td>1.705<\/td>\n",
              "      <td>4.096<\/td>\n",
              "      <td>0.670<\/td>\n",
              "      <td>4.465<\/td>\n",
              "      <td>...<\/td>\n",
              "      <td>5.149<\/td>\n",
              "      <td>5.967<\/td>\n",
              "      <td>4.096<\/td>\n",
              "      <td>4.814<\/td>\n",
              "      <td>3.513<\/td>\n",
              "      <td>4.669<\/td>\n",
              "      <td>15817000.0<\/td>\n",
              "      <td>10.376<\/td>\n",
              "      <td>4060.203<\/td>\n",
              "      <td>440381.507<\/td>\n",
              "    <\/tr>\n",
              "    <tr>\n",
              "      <th>4<\/th>\n",
              "      <td>Afghanistan<\/td>\n",
              "      <td>1994<\/td>\n",
              "      <td>0.160<\/td>\n",
              "      <td>0.698<\/td>\n",
              "      <td>0.092<\/td>\n",
              "      <td>4.829<\/td>\n",
              "      <td>1.716<\/td>\n",
              "      <td>4.100<\/td>\n",
              "      <td>0.669<\/td>\n",
              "      <td>4.463<\/td>\n",
              "      <td>...<\/td>\n",
              "      <td>5.148<\/td>\n",
              "      <td>5.976<\/td>\n",
              "      <td>4.100<\/td>\n",
              "      <td>4.839<\/td>\n",
              "      <td>3.516<\/td>\n",
              "      <td>4.673<\/td>\n",
              "      <td>17076000.0<\/td>\n",
              "      <td>10.576<\/td>\n",
              "      <td>4062.290<\/td>\n",
              "      <td>456916.645<\/td>\n",
              "    <\/tr>\n",
              "  <\/tbody>\n",
              "<\/table>\n",
              "<p>5 rows × 25 columns<\/p>\n",
              "<\/div>"
            ]
          },
          "metadata":{
            
          },
          "output_type":"display_data"
        }
      ],
      "metadata":{
        
      }
    },
    {
      "cell_type":"markdown",
      "source":[
        "### API de Kaggle\n",
        "\n",
        "Para aplicar funciones de agrupación sobre los DataFrames, utilizamos un conjunto de datos alojado en la plataforma Kaggle, el cual contiene los continentes y regiones de los distintos países del mundo.\n",
        "\n",
        "Esto nos permite agrupar los datos por regiones geográficas y de esta forma, descubrir nuevos hallazgos."
      ],
      "metadata":{
        
      }
    },
    {
      "cell_type":"code",
      "source":[
        "os.environ['KAGGLE_CONFIG_DIR'] = \".\/data\"\n",
        "!kaggle datasets download -d andradaolteanu\/country-mapping-iso-continent-region\n",
        "\n",
        "# opening the zip file in READ mode \n",
        "with ZipFile(\"country-mapping-iso-continent-region.zip\", 'r') as zip_file:\n",
        "    # printing all the contents of the zip file \n",
        "    zip_file.printdir()\n",
        "    # extracting all the files \n",
        "    zip_file.extractall()\n",
        "\n",
        "!cp \"country-mapping-iso-continent-region.zip\" \".\/data\/country-mapping-iso-continent-region.zip\"\n",
        "!cp \"continents2.csv\" \".\/data\/continents2.csv\"\n",
        "!rm \"continents2.csv\"\n",
        "!rm \"country-mapping-iso-continent-region.zip\""
      ],
      "execution_count":41,
      "outputs":[
        {
          "name":"stdout",
          "text":[
            "Warning: Your Kaggle API key is readable by other users on this system! To fix this, you can run 'chmod 600 .\/data\/kaggle.json'\r\n",
            "Downloading country-mapping-iso-continent-region.zip to \/workspace\r\n",
            "\r  0%|                                               | 0.00\/4.96k [00:00<?, ?B\/s]\r\n",
            "\r100%|██████████████████████████████████████| 4.96k\/4.96k [00:00<00:00, 1.98MB\/s]\r\n",
            "File Name                                             Modified             Size\n",
            "continents2.csv                                2019-12-15 15:07:36        19700\n"
          ],
          "output_type":"stream"
        }
      ],
      "metadata":{
        
      }
    },
    {
      "cell_type":"markdown",
      "source":[
        "Tras realizar la descarga del dataset y moverlo a la carpeta adecuada, procedemos a leer el archivo <code>.csv<\/code> obtenido y observar que información contiene."
      ],
      "metadata":{
        
      }
    },
    {
      "cell_type":"code",
      "source":[
        "continents = pd.read_csv('.\/data\/continents2.csv')\n",
        "continents.head()"
      ],
      "execution_count":42,
      "outputs":[
        {
          "data":{
            "text\/html":[
              "<div>\n",
              "<style scoped>\n",
              "    .dataframe tbody tr th:only-of-type {\n",
              "        vertical-align: middle;\n",
              "    }\n",
              "\n",
              "    .dataframe tbody tr th {\n",
              "        vertical-align: top;\n",
              "    }\n",
              "\n",
              "    .dataframe thead th {\n",
              "        text-align: right;\n",
              "    }\n",
              "<\/style>\n",
              "<table border=\"1\" class=\"dataframe\">\n",
              "  <thead>\n",
              "    <tr style=\"text-align: right;\">\n",
              "      <th><\/th>\n",
              "      <th>name<\/th>\n",
              "      <th>alpha-2<\/th>\n",
              "      <th>alpha-3<\/th>\n",
              "      <th>country-code<\/th>\n",
              "      <th>iso_3166-2<\/th>\n",
              "      <th>region<\/th>\n",
              "      <th>sub-region<\/th>\n",
              "      <th>intermediate-region<\/th>\n",
              "      <th>region-code<\/th>\n",
              "      <th>sub-region-code<\/th>\n",
              "      <th>intermediate-region-code<\/th>\n",
              "    <\/tr>\n",
              "  <\/thead>\n",
              "  <tbody>\n",
              "    <tr>\n",
              "      <th>0<\/th>\n",
              "      <td>Afghanistan<\/td>\n",
              "      <td>AF<\/td>\n",
              "      <td>AFG<\/td>\n",
              "      <td>4<\/td>\n",
              "      <td>ISO 3166-2:AF<\/td>\n",
              "      <td>Asia<\/td>\n",
              "      <td>Southern Asia<\/td>\n",
              "      <td>NaN<\/td>\n",
              "      <td>142.0<\/td>\n",
              "      <td>34.0<\/td>\n",
              "      <td>NaN<\/td>\n",
              "    <\/tr>\n",
              "    <tr>\n",
              "      <th>1<\/th>\n",
              "      <td>Åland Islands<\/td>\n",
              "      <td>AX<\/td>\n",
              "      <td>ALA<\/td>\n",
              "      <td>248<\/td>\n",
              "      <td>ISO 3166-2:AX<\/td>\n",
              "      <td>Europe<\/td>\n",
              "      <td>Northern Europe<\/td>\n",
              "      <td>NaN<\/td>\n",
              "      <td>150.0<\/td>\n",
              "      <td>154.0<\/td>\n",
              "      <td>NaN<\/td>\n",
              "    <\/tr>\n",
              "    <tr>\n",
              "      <th>2<\/th>\n",
              "      <td>Albania<\/td>\n",
              "      <td>AL<\/td>\n",
              "      <td>ALB<\/td>\n",
              "      <td>8<\/td>\n",
              "      <td>ISO 3166-2:AL<\/td>\n",
              "      <td>Europe<\/td>\n",
              "      <td>Southern Europe<\/td>\n",
              "      <td>NaN<\/td>\n",
              "      <td>150.0<\/td>\n",
              "      <td>39.0<\/td>\n",
              "      <td>NaN<\/td>\n",
              "    <\/tr>\n",
              "    <tr>\n",
              "      <th>3<\/th>\n",
              "      <td>Algeria<\/td>\n",
              "      <td>DZ<\/td>\n",
              "      <td>DZA<\/td>\n",
              "      <td>12<\/td>\n",
              "      <td>ISO 3166-2:DZ<\/td>\n",
              "      <td>Africa<\/td>\n",
              "      <td>Northern Africa<\/td>\n",
              "      <td>NaN<\/td>\n",
              "      <td>2.0<\/td>\n",
              "      <td>15.0<\/td>\n",
              "      <td>NaN<\/td>\n",
              "    <\/tr>\n",
              "    <tr>\n",
              "      <th>4<\/th>\n",
              "      <td>American Samoa<\/td>\n",
              "      <td>AS<\/td>\n",
              "      <td>ASM<\/td>\n",
              "      <td>16<\/td>\n",
              "      <td>ISO 3166-2:AS<\/td>\n",
              "      <td>Oceania<\/td>\n",
              "      <td>Polynesia<\/td>\n",
              "      <td>NaN<\/td>\n",
              "      <td>9.0<\/td>\n",
              "      <td>61.0<\/td>\n",
              "      <td>NaN<\/td>\n",
              "    <\/tr>\n",
              "  <\/tbody>\n",
              "<\/table>\n",
              "<\/div>"
            ]
          },
          "metadata":{
            
          },
          "output_type":"display_data"
        }
      ],
      "metadata":{
        
      }
    },
    {
      "cell_type":"markdown",
      "source":[
        "Una vez realizada la descarga y lectura del conjunto de datos obtenido a través de la API de Kaggle, procedemos a realizar la integración con el conjunto de datos principal.\n",
        "\n",
        "Este proceso se realiza mediante la función <code>merge<\/code> y de igual forma que lo realizamos anteriormente, empleamos la columna <code>code<\/code> del DataFrame y la columna <code>alpha-3<\/code> del conjunto de datos obtenido a través de la API de Kaggle."
      ],
      "metadata":{
        
      }
    },
    {
      "cell_type":"code",
      "source":[
        "df_merge_with_codes = df_merge.merge(three_letter_code, left_on='entity', right_index=True)\n",
        "\n",
        "depression = df_merge_with_codes.merge(continents[['region','sub-region','alpha-3']], left_on='code', right_on='alpha-3').drop(columns=['code','alpha-3'])"
      ],
      "execution_count":43,
      "outputs":[
        
      ],
      "metadata":{
        
      }
    },
    {
      "cell_type":"markdown",
      "source":[
        "Visualizamos las dimensiones del DataFrame."
      ],
      "metadata":{
        
      }
    },
    {
      "cell_type":"code",
      "source":[
        "print(f'depression: {depression.shape}')"
      ],
      "execution_count":44,
      "outputs":[
        {
          "name":"stdout",
          "text":[
            "depression: (5460, 27)\n"
          ],
          "output_type":"stream"
        }
      ],
      "metadata":{
        
      }
    },
    {
      "cell_type":"markdown",
      "source":[
        "Comprobamos que el proceso no haya generado valores <code>NaN<\/code>."
      ],
      "metadata":{
        
      }
    },
    {
      "cell_type":"code",
      "source":[
        "percentage_of_nans(depression)"
      ],
      "execution_count":45,
      "outputs":[
        {
          "data":{
            "text\/plain":[
              "entity                   0.0\n",
              "year                     0.0\n",
              "schizophrenia            0.0\n",
              "bipolar_disorder         0.0\n",
              "eating_disorder          0.0\n",
              "anxiety                  0.0\n",
              "drug_addiction           0.0\n",
              "depression               0.0\n",
              "alcoholism               0.0\n",
              "from_20_to_24            0.0\n",
              "from_10_to_14            0.0\n",
              "all                      0.0\n",
              "above_69                 0.0\n",
              "from_30_to_34            0.0\n",
              "from_15_to_19            0.0\n",
              "from_25_to_29            0.0\n",
              "from_50_to_69            0.0\n",
              "standardized             0.0\n",
              "from_15_to_49            0.0\n",
              "prevalence_in_males      0.0\n",
              "prevalence_in_females    0.0\n",
              "population               0.0\n",
              "suicide_rate             0.0\n",
              "depression_rate          0.0\n",
              "depression_prevalence    0.0\n",
              "region                   0.0\n",
              "sub-region               0.0\n",
              "dtype: float64"
            ]
          },
          "metadata":{
            
          },
          "output_type":"display_data"
        }
      ],
      "metadata":{
        
      }
    },
    {
      "cell_type":"markdown",
      "source":[
        "Como podemos observar, hemos perdido 28 filas, lo cual equivale a un periodo de 28 años para un país.\n",
        "\n",
        "Al analizar la diferencia entre la columna <code>code<\/code> de nuestro DataFrame y la columna <code>alpha-3<\/code> del conjunto de datos obtenido de Kaggle, podemos observar que existen índices globales que no están presentes dentro del conjunto de datos <code>country-mapping-iso-continent-region<\/code>.\n",
        "\n",
        "Dejar este valor a un lado para el análisis de países es aceptable y puede ser calculado de nuevo si se necesita."
      ],
      "metadata":{
        
      }
    },
    {
      "cell_type":"code",
      "source":[
        "three_letter_code[three_letter_code.apply(lambda x: x not in continents['alpha-3'].tolist())]"
      ],
      "execution_count":46,
      "outputs":[
        {
          "data":{
            "text\/plain":[
              "World    OWID_WRL\n",
              "Name: code, dtype: object"
            ]
          },
          "metadata":{
            
          },
          "output_type":"display_data"
        }
      ],
      "metadata":{
        
      }
    },
    {
      "cell_type":"markdown",
      "source":[
        "### Almacenamiento del conjunto de datos procesado\n",
        "\n",
        "Una vez que hemos realizado la limpieza de datos y aplicado la función <code>merge<\/code> a los DataFrames, procedemos a guardar dos versiones de la información.\n",
        "\n",
        "- Conjunto de datos procesado previamente en formato <code>.csv<\/code>.\n",
        "\n",
        "- Conjunto de datos procesado previamente con múltiples pestañas en formato <code>.xlsx<\/code>.\n",
        "\n",
        "El segundo archivo tiene la finalidad de ofrecer un formato más amigable para realizar un análisis exploratorio rápido de forma manual utilizando software ofimático como Excel."
      ],
      "metadata":{
        
      }
    },
    {
      "cell_type":"code",
      "source":[
        "!mkdir -p clean_data\n",
        "\n",
        "depression.to_csv('.\/clean_data\/depression_clean.csv', index=False)\n",
        "\n",
        "with pd.ExcelWriter('.\/clean_data\/depression_clean.xlsx') as writer:\n",
        "    percentages_of_global_disorders.to_excel(writer, sheet_name='Global Percentage of Disorders', index=False)\n",
        "    depression_rates_by_age.to_excel(writer, sheet_name='Depression Rates by Age', index=False)\n",
        "    depression_rates_by_gender.to_excel(writer, sheet_name='Depression Rates by Gender', index=False)\n",
        "    depression_and_suicide_rate_per_100000_individuals.to_excel(writer, sheet_name='Rate per 100000 individuals', index=False)\n",
        "    depression_affected.to_excel(writer, sheet_name='Depression Affected', index=False)"
      ],
      "execution_count":47,
      "outputs":[
        
      ],
      "metadata":{
        
      }
    },
    {
      "cell_type":"markdown",
      "source":[
        "## Análisis del conjunto de datos procesado\n",
        "\n",
        "Antes de comenzar, declaramos las siguientes funciones, las cuales nos permitiran conocer exactamente que países pertenecen a cada región o subregión."
      ],
      "metadata":{
        
      }
    },
    {
      "cell_type":"code",
      "source":[
        "def countries_in_region(region):\n",
        "    try:\n",
        "        if True not in depression['region'].str.contains(region).tolist():\n",
        "            raise ValueError\n",
        "        return depression[depression['region'] == region]['entity'].unique().tolist()\n",
        "    except Exception as e:\n",
        "        return f\"Region {region} does not exist, please try again.\"\n",
        "\n",
        "\n",
        "def countries_in_sub_region(subregion):\n",
        "    try:\n",
        "        if True not in depression['sub-region'].str.contains(subregion).tolist():\n",
        "            raise ValueError\n",
        "        return depression[depression['sub-region'] == subregion]['entity'].unique().tolist()\n",
        "    except Exception as e:\n",
        "        return f'Sub-region {subregion} does not exist, please try again.'"
      ],
      "execution_count":48,
      "outputs":[
        
      ],
      "metadata":{
        
      }
    },
    {
      "cell_type":"markdown",
      "source":[
        "### ¿Cómo afectan estos desórdenes en relación a la edad?\n",
        "\n",
        "Con la información con la que contamos podemos realizar una agrupación que permita el análisis del transtorno de depresión, ya que este es el único desórden que cuenta con información separada por grupos de edades.\n",
        "\n",
        "Esto se realiza mediante las funciones <code>agg<\/code> y <code>mean<\/code>."
      ],
      "metadata":{
        
      }
    },
    {
      "cell_type":"code",
      "source":[
        "means_by_age = depression[['from_10_to_14','from_15_to_19','from_20_to_24','from_25_to_29','from_30_to_34','from_50_to_69','above_69','all']].agg(['mean'])\n",
        "round_dataframe_values(means_by_age)"
      ],
      "execution_count":49,
      "outputs":[
        {
          "data":{
            "text\/html":[
              "<div>\n",
              "<style scoped>\n",
              "    .dataframe tbody tr th:only-of-type {\n",
              "        vertical-align: middle;\n",
              "    }\n",
              "\n",
              "    .dataframe tbody tr th {\n",
              "        vertical-align: top;\n",
              "    }\n",
              "\n",
              "    .dataframe thead th {\n",
              "        text-align: right;\n",
              "    }\n",
              "<\/style>\n",
              "<table border=\"1\" class=\"dataframe\">\n",
              "  <thead>\n",
              "    <tr style=\"text-align: right;\">\n",
              "      <th><\/th>\n",
              "      <th>from_10_to_14<\/th>\n",
              "      <th>from_15_to_19<\/th>\n",
              "      <th>from_20_to_24<\/th>\n",
              "      <th>from_25_to_29<\/th>\n",
              "      <th>from_30_to_34<\/th>\n",
              "      <th>from_50_to_69<\/th>\n",
              "      <th>above_69<\/th>\n",
              "      <th>all<\/th>\n",
              "    <\/tr>\n",
              "  <\/thead>\n",
              "  <tbody>\n",
              "    <tr>\n",
              "      <th>mean<\/th>\n",
              "      <td>1.371<\/td>\n",
              "      <td>3.054<\/td>\n",
              "      <td>3.746<\/td>\n",
              "      <td>3.872<\/td>\n",
              "      <td>4.038<\/td>\n",
              "      <td>5.649<\/td>\n",
              "      <td>6.133<\/td>\n",
              "      <td>3.232<\/td>\n",
              "    <\/tr>\n",
              "  <\/tbody>\n",
              "<\/table>\n",
              "<\/div>"
            ]
          },
          "metadata":{
            
          },
          "output_type":"display_data"
        }
      ],
      "metadata":{
        
      }
    },
    {
      "cell_type":"markdown",
      "source":[
        "Como podemos observar, el promedio global a lo largo de los años recolectados muestra una clara tendencia a un aumento en el porcentaje de la población que sufre depresión en base a su edad.\n",
        "\n",
        "Distintas teorías se podrían atribuir a esto, como:\n",
        "\n",
        "- La muerte de la inocencia de un niño al entrar a la adolescencia.\n",
        "- El tener que renunciar a tus sueños y aspiraciones cuando cumples 20 años por un estilo de vida monótono viviendo quincena a quincena esperando solamente a que llegue el viernes para tener 48 horas de libertad y hedonismo en las cuales puedas escapar del sistema.\n",
        "- Estar atorado en un matrimonio sin amor en los 30.\n",
        "- La crisis de los 40.\n",
        "- Que los hijos se muden de la casa en los 50.\n",
        "- Que tus hijos te metan a un asilo después de los 60.\n",
        "\n",
        "Esto es sólo una teoría, debemos recolectar más datos para comprobar o desmentir estas afirmaciones."
      ],
      "metadata":{
        
      }
    },
    {
      "cell_type":"markdown",
      "source":[
        "### ¿En qué zonas del mundo hay mayor prevalencia de desórdenes mentales?\n",
        "\n",
        "Esta interrogante la podemos resolver agrupando las subregiones del mundo y obteniendo el promedio de valores a lo largo de los años.\n",
        "\n",
        "Este proceso se realiza mediante las funciones <code>groupby<\/code> y <code>mean<\/code>.\n",
        "\n",
        "Para evitar la redundancia de código, se realiza la declaración de una lista que contiene todos los desórdenes del conjunto de datos."
      ],
      "metadata":{
        
      }
    },
    {
      "cell_type":"code",
      "source":[
        "list_of_disorders = ['schizophrenia','bipolar_disorder','eating_disorder','anxiety','drug_addiction','depression','alcoholism']"
      ],
      "execution_count":50,
      "outputs":[
        
      ],
      "metadata":{
        
      }
    },
    {
      "cell_type":"code",
      "source":[
        "mental_ailments_by_sub_region = depression.groupby(['sub-region'])[list_of_disorders].mean()\n",
        "print(mental_ailments_by_sub_region.idxmax())\n",
        "print(f'Eastern European countries: {countries_in_sub_region(\"Eastern Europe\")}')\n",
        "print(f'North American countries: {countries_in_sub_region(\"Northern America\")}')"
      ],
      "execution_count":51,
      "outputs":[
        {
          "name":"stdout",
          "text":[
            "schizophrenia       Australia and New Zealand\n",
            "bipolar_disorder    Australia and New Zealand\n",
            "eating_disorder     Australia and New Zealand\n",
            "anxiety             Australia and New Zealand\n",
            "drug_addiction      Australia and New Zealand\n",
            "depression                   Northern America\n",
            "alcoholism                     Eastern Europe\n",
            "dtype: object\n",
            "Eastern European countries: ['Belarus', 'Bulgaria', 'Czech Republic', 'Hungary', 'Moldova', 'Poland', 'Romania', 'Russia', 'Slovakia', 'Ukraine']\n",
            "North American countries: ['Bermuda', 'Canada', 'Greenland', 'United States']\n"
          ],
          "output_type":"stream"
        }
      ],
      "metadata":{
        
      }
    },
    {
      "cell_type":"markdown",
      "source":[
        "Este análisis sencillo nos indica que la mayoría de los desórdenes estudiados tienen una mayor prevalencia en <code>Australia<\/code> y <code>Nueva Zelanda<\/code>, con excepción de la <code>depresión<\/code>, la cual presenta una mayor concentración en <code>Norteamérica<\/code>. Por otro lado, cumpliendo un estereotipo popular que en realidad parece tener algo de verdad, <code>Europa del Este<\/code> (región en la que se encuentra <code>Rusia<\/code>) es la región con el mayor problema de <code>alcoholismo<\/code> en el mundo."
      ],
      "metadata":{
        
      }
    },
    {
      "cell_type":"markdown",
      "source":[
        "### ¿Qué tan prevalentes son estos desórdenes en países de escasos recursos? ¿Y en países de primer mundo?\n",
        "\n",
        "Realizaremos un análisis estadístico sencillo con la finalidad de obtener información acerca de los desórdenes mentales en cada subregión.\n",
        "\n",
        "Este proceso se realiza mediante las funciones <code>groupby<\/code>, <code>mean<\/code> y <code>plot<\/code>."
      ],
      "metadata":{
        
      }
    },
    {
      "cell_type":"code",
      "source":[
        "high_vs_low_development = depression.groupby(['sub-region'])[list_of_disorders].mean()\n",
        "high_vs_low_development.plot(title='Global Disorders', xlabel='sub-region', kind='barh')"
      ],
      "execution_count":52,
      "outputs":[
        {
          "data":{
            "text\/plain":[
              "<AxesSubplot:title={'center':'Global Disorders'}, ylabel='sub-region'>"
            ],
            "image\/png":"[encoded data removed]"
          },
          "metadata":{
            "image\/png":{
              "width":0,
              "height":0
            }
          },
          "output_type":"display_data"
        }
      ],
      "metadata":{
        
      }
    },
    {
      "cell_type":"markdown",
      "source":[
        "Como podemos observar en la gráfica, los desórdenes mentales más predominantes en todas las subregiones del mundo son la <code>ansiedad<\/code> y la <code>depresión<\/code>. Estos afectan casi de igual forma a todas las subregiones, sin importar el nivel socioeconomico. "
      ],
      "metadata":{
        
      }
    },
    {
      "cell_type":"markdown",
      "source":[
        "### ¿Qué tendencia tienen en su prevalencia a lo largo de los años?\n",
        "\n",
        "La forma más sencilla de observar la evolución de los desórdenes es mediante una línea de tiempo, la cual muestre la evolución del valor promedio de cada uno a nivel global.\n",
        "\n",
        "Este proceso se realiza mediante las funciones <code>groupby<\/code>, <code>mean<\/code> y <code>plot<\/code>."
      ],
      "metadata":{
        
      }
    },
    {
      "cell_type":"code",
      "source":[
        "disorders_by_year = depression.groupby(['year'])[list_of_disorders].mean()\n",
        "disorders_by_year.plot(title='Global Disorders Prevalence', xlabel='year', ylabel='percentages', figsize=(8,8))"
      ],
      "execution_count":53,
      "outputs":[
        {
          "data":{
            "text\/plain":[
              "<AxesSubplot:title={'center':'Global Disorders Prevalence'}, xlabel='year', ylabel='percentages'>"
            ],
            "image\/png":"[encoded data removed]"
          },
          "metadata":{
            "image\/png":{
              "width":0,
              "height":0
            }
          },
          "output_type":"display_data"
        }
      ],
      "metadata":{
        
      }
    },
    {
      "cell_type":"markdown",
      "source":[
        "Como podemos observar en la gráfica, los desórdenes mentales son casi constantes. Estos han afectado al mundo y lo seguiran haciendo en los próximos años."
      ],
      "metadata":{
        
      }
    },
    {
      "cell_type":"markdown",
      "source":[
        "### ¿Está relacionada la depresión con el suicidio?\n",
        "\n",
        "Para contestar esta interrogante, procedemos a obtener los promedios de las tasas de depresión y suicidio por cada 100,000 habitantes, agrupando este valor a lo largo de los años por país. Con estos valores procedemos a observar que correlación existe entre estas variables.\n",
        "\n",
        "Este proceso se realiza mediante las funciones <code>groupby<\/code>, <code>mean<\/code>, <code>plot<\/code> y <code>max<\/code>."
      ],
      "metadata":{
        
      }
    },
    {
      "cell_type":"code",
      "source":[
        "suicide_and_depression_rates = depression.groupby(['entity'])[['suicide_rate','depression_rate']].mean()\n",
        "suicide_and_depression_rates.plot(title='Suicide Rate vs Depression Rate', x='suicide_rate', y='depression_rate', kind='scatter')\n",
        "\n",
        "# Outlier\n",
        "print(round(suicide_and_depression_rates[suicide_and_depression_rates['suicide_rate'] == suicide_and_depression_rates['suicide_rate'].max()]))\n",
        "greenland_max_population = depression[depression['entity'] == 'Greenland'].groupby(['entity'])['population'].max()['Greenland']\n",
        "print(f'Max population in Greenland: {greenland_max_population}')"
      ],
      "execution_count":54,
      "outputs":[
        {
          "name":"stdout",
          "text":[
            "           suicide_rate  depression_rate\n",
            "entity                                  \n",
            "Greenland          74.0           5954.0\n",
            "Max population in Greenland: 57000.0\n"
          ],
          "output_type":"stream"
        },
        {
          "data":{
            "image\/png":"[encoded data removed]"
          },
          "metadata":{
            "image\/png":{
              "width":0,
              "height":0
            }
          },
          "output_type":"display_data"
        }
      ],
      "metadata":{
        
      }
    },
    {
      "cell_type":"markdown",
      "source":[
        "En la gráfica anterior es posible observar una correlación positiva entre estos dos valores, aunque aun sería necesario realizar un análisis de los factores que influyen esta correlación para entender mejor su comportamiento. \n",
        "\n",
        "Otro punto de interés es el valor outlier, el cual  es <code>Groenlandia<\/code>, con tasas que exceden el doble usual. Esto se podría explicar en parte al hecho de que <code>Groenlandia<\/code> cuenta con una población sumamente pequeña, lo cual magnifica los efectos de sus tasas, o quizá el hecho que este país es sumamente frío y aislado contribuya a esto."
      ],
      "metadata":{
        
      }
    },
    {
      "cell_type":"markdown",
      "source":[
        "### ¿Qué género tiene mayor riesgo de padecer depresión?\n",
        "\n",
        "Para analizar esta pregunta, podemos obtener el promedio mundial a lo largo de los años de las columnas de prevalencia, tanto en hombre como en mujeres, y observar los resultados.\n",
        "\n",
        "Este proceso se realiza mediante las funciones <code>agg<\/code> y <code>mean<\/code>."
      ],
      "metadata":{
        
      }
    },
    {
      "cell_type":"code",
      "source":[
        "round_dataframe_values(depression[['prevalence_in_males','prevalence_in_females']].agg(['mean']))"
      ],
      "execution_count":55,
      "outputs":[
        {
          "data":{
            "text\/html":[
              "<div>\n",
              "<style scoped>\n",
              "    .dataframe tbody tr th:only-of-type {\n",
              "        vertical-align: middle;\n",
              "    }\n",
              "\n",
              "    .dataframe tbody tr th {\n",
              "        vertical-align: top;\n",
              "    }\n",
              "\n",
              "    .dataframe thead th {\n",
              "        text-align: right;\n",
              "    }\n",
              "<\/style>\n",
              "<table border=\"1\" class=\"dataframe\">\n",
              "  <thead>\n",
              "    <tr style=\"text-align: right;\">\n",
              "      <th><\/th>\n",
              "      <th>prevalence_in_males<\/th>\n",
              "      <th>prevalence_in_females<\/th>\n",
              "    <\/tr>\n",
              "  <\/thead>\n",
              "  <tbody>\n",
              "    <tr>\n",
              "      <th>mean<\/th>\n",
              "      <td>2.796<\/td>\n",
              "      <td>4.123<\/td>\n",
              "    <\/tr>\n",
              "  <\/tbody>\n",
              "<\/table>\n",
              "<\/div>"
            ]
          },
          "metadata":{
            
          },
          "output_type":"display_data"
        }
      ],
      "metadata":{
        
      }
    },
    {
      "cell_type":"markdown",
      "source":[
        "Como podemos observar, la prevalencia de la depresión en <code>mujeres<\/code> es considerablemente mayor que en <code>hombres<\/code> a nivel mundial.\n",
        "\n",
        "Un estudio interesante para complementar esta pregunta sería comparar prevalencia de suicidios, ya que la literatura indica que la tendencia encontrada en depresión es al revés al hablar de suicidios, sin embargo, no contamos con datos de suicidios separados por género.\n",
        "\n",
        "Una nota sobre lo anterior, al indagar en el tema encontramos que, en promedio, las mujeres suelen intentar cometer suicidio más a menudo que los hombres, sin embargo, más hombres mueren por suicidio que mujeres. La explicación a este fenómeno suele ser que los hombres suelen utilizar métodos más letales que las mujeres."
      ],
      "metadata":{
        
      }
    },
    {
      "cell_type":"markdown",
      "source":[
        "### ¿Cuál es la situación de México en comparación al resto del mundo?\n",
        "\n",
        "Nuestro querido <code>México<\/code> es parte de la subregión de <code>América Latina y el Caribe<\/code>, considerando los análisis anteriores, podemos decir que <code>México<\/code> se ve afectado por la <code>Ansiedad<\/code> y <code>Depresión<\/code> en igual medida que los demás países.\n",
        "\n",
        "Para corroborar dicha suposición, realizaremos un análisis estadístico únicamente para <code>México<\/code>."
      ],
      "metadata":{
        
      }
    },
    {
      "cell_type":"code",
      "source":[
        "world_depression_disorders = pd.DataFrame(depression[depression['entity'] != 'Mexico'].groupby('year')[list_of_disorders].mean().mean()).T.rename(index={0: 'World'})\n",
        "mexico_depression_disorders = pd.DataFrame(depression[depression['entity'] == 'Mexico'].groupby('year')[list_of_disorders].mean().mean()).T.rename(index={0: 'Mexico'})\n",
        "round_dataframe_values(pd.concat([world_depression_disorders, mexico_depression_disorders]))"
      ],
      "execution_count":56,
      "outputs":[
        {
          "data":{
            "text\/html":[
              "<div>\n",
              "<style scoped>\n",
              "    .dataframe tbody tr th:only-of-type {\n",
              "        vertical-align: middle;\n",
              "    }\n",
              "\n",
              "    .dataframe tbody tr th {\n",
              "        vertical-align: top;\n",
              "    }\n",
              "\n",
              "    .dataframe thead th {\n",
              "        text-align: right;\n",
              "    }\n",
              "<\/style>\n",
              "<table border=\"1\" class=\"dataframe\">\n",
              "  <thead>\n",
              "    <tr style=\"text-align: right;\">\n",
              "      <th><\/th>\n",
              "      <th>schizophrenia<\/th>\n",
              "      <th>bipolar_disorder<\/th>\n",
              "      <th>eating_disorder<\/th>\n",
              "      <th>anxiety<\/th>\n",
              "      <th>drug_addiction<\/th>\n",
              "      <th>depression<\/th>\n",
              "      <th>alcoholism<\/th>\n",
              "    <\/tr>\n",
              "  <\/thead>\n",
              "  <tbody>\n",
              "    <tr>\n",
              "      <th>World<\/th>\n",
              "      <td>0.208<\/td>\n",
              "      <td>0.717<\/td>\n",
              "      <td>0.234<\/td>\n",
              "      <td>3.952<\/td>\n",
              "      <td>0.833<\/td>\n",
              "      <td>3.478<\/td>\n",
              "      <td>1.562<\/td>\n",
              "    <\/tr>\n",
              "    <tr>\n",
              "      <th>Mexico<\/th>\n",
              "      <td>0.209<\/td>\n",
              "      <td>0.812<\/td>\n",
              "      <td>0.303<\/td>\n",
              "      <td>3.092<\/td>\n",
              "      <td>0.788<\/td>\n",
              "      <td>2.748<\/td>\n",
              "      <td>1.708<\/td>\n",
              "    <\/tr>\n",
              "  <\/tbody>\n",
              "<\/table>\n",
              "<\/div>"
            ]
          },
          "metadata":{
            
          },
          "output_type":"display_data"
        }
      ],
      "metadata":{
        
      }
    },
    {
      "cell_type":"markdown",
      "source":[
        "Como podemos observar, la población de <code>México<\/code> sufre de menor <code>Ansiedad<\/code>, <code>Drogadicción<\/code> y <code>Depresión<\/code> a comparación del resto del mundo."
      ],
      "metadata":{
        
      }
    },
    {
      "cell_type":"code",
      "source":[
        "world_depression_rates = pd.DataFrame(depression[depression['entity'] != 'Mexico'].groupby('year')[['depression_rate','suicide_rate']].mean().mean()).T.rename(index={0: 'World'})\n",
        "mexico_depression_rates = pd.DataFrame(depression[depression['entity'] == 'Mexico'].groupby('year')[['depression_rate','suicide_rate']].mean().mean()).T.rename(index={0: 'Mexico'})\n",
        "round_dataframe_values(pd.concat([world_depression_rates, mexico_depression_rates]), 0)"
      ],
      "execution_count":57,
      "outputs":[
        {
          "data":{
            "text\/html":[
              "<div>\n",
              "<style scoped>\n",
              "    .dataframe tbody tr th:only-of-type {\n",
              "        vertical-align: middle;\n",
              "    }\n",
              "\n",
              "    .dataframe tbody tr th {\n",
              "        vertical-align: top;\n",
              "    }\n",
              "\n",
              "    .dataframe thead th {\n",
              "        text-align: right;\n",
              "    }\n",
              "<\/style>\n",
              "<table border=\"1\" class=\"dataframe\">\n",
              "  <thead>\n",
              "    <tr style=\"text-align: right;\">\n",
              "      <th><\/th>\n",
              "      <th>depression_rate<\/th>\n",
              "      <th>suicide_rate<\/th>\n",
              "    <\/tr>\n",
              "  <\/thead>\n",
              "  <tbody>\n",
              "    <tr>\n",
              "      <th>World<\/th>\n",
              "      <td>3336.0<\/td>\n",
              "      <td>12.0<\/td>\n",
              "    <\/tr>\n",
              "    <tr>\n",
              "      <th>Mexico<\/th>\n",
              "      <td>2610.0<\/td>\n",
              "      <td>5.0<\/td>\n",
              "    <\/tr>\n",
              "  <\/tbody>\n",
              "<\/table>\n",
              "<\/div>"
            ]
          },
          "metadata":{
            
          },
          "output_type":"display_data"
        }
      ],
      "metadata":{
        
      }
    },
    {
      "cell_type":"markdown",
      "source":[
        "<code>México<\/code> está por debajo de la media mundial en términos de casos de depresión y casos de suicidio, apesar de ésto, es importante destacar que es una situación delicada que hay que tratar."
      ],
      "metadata":{
        
      }
    },
    {
      "cell_type":"code",
      "source":[
        "mexico_depression_disorders_rating = pd.DataFrame(depression[depression['entity'] == 'Mexico'])[['year'] + list_of_disorders].set_index('year')\n",
        "mexico_depression_disorders_rating.plot(title='Mexico Disorders', xlabel='year', ylabel='percentages')"
      ],
      "execution_count":58,
      "outputs":[
        {
          "data":{
            "text\/plain":[
              "<AxesSubplot:title={'center':'Mexico Disorders'}, xlabel='year', ylabel='percentages'>"
            ],
            "image\/png":"[encoded data removed]"
          },
          "metadata":{
            "image\/png":{
              "width":0,
              "height":0
            }
          },
          "output_type":"display_data"
        }
      ],
      "metadata":{
        
      }
    },
    {
      "cell_type":"markdown",
      "source":[
        "Al igual que en la gráfica global, podemos observar que no existen cambios especialemente drásticos en los desórdenes. Sin embargo, un fenómeno interesante en el país es la alza en los casos de ansiedad a partir del inicio del milenio, así como un ligero declive en los índices de alcoholismo al inicio de los noventas."
      ],
      "metadata":{
        
      }
    },
    {
      "cell_type":"code",
      "source":[
        "mexico_depression_depression_evolution = pd.DataFrame(depression[depression['entity'] == 'Mexico'])[['year','depression_rate']].set_index('year')\n",
        "mexico_depression_depression_evolution.plot(title='Depression Evolution in Mexico', xlabel='year', ylabel='number of cases per 100,000 individuals')"
      ],
      "execution_count":59,
      "outputs":[
        {
          "data":{
            "text\/plain":[
              "<AxesSubplot:title={'center':'Depression Evolution in Mexico'}, xlabel='year', ylabel='number of cases per 100,000 individuals'>"
            ],
            "image\/png":"[encoded data removed]"
          },
          "metadata":{
            "image\/png":{
              "width":0,
              "height":0
            }
          },
          "output_type":"display_data"
        }
      ],
      "metadata":{
        
      }
    },
    {
      "cell_type":"markdown",
      "source":[
        "Como podemos observar, los casos de depresión han aumentado considerablemente en México a lo largo de los años, esto es un riesgo ya que muchos casos de depresión terminan en suicidio."
      ],
      "metadata":{
        
      }
    },
    {
      "cell_type":"code",
      "source":[
        "mexico_suicide_evolution = pd.DataFrame(depression[depression['entity'] == 'Mexico'])[['year','suicide_rate']].set_index('year')\n",
        "mexico_suicide_evolution.plot(title='Suicide Evolution in Mexico', xlabel='year', ylabel='number of cases per 100,000 individuals')"
      ],
      "execution_count":60,
      "outputs":[
        {
          "data":{
            "text\/plain":[
              "<AxesSubplot:title={'center':'Suicide Evolution in Mexico'}, xlabel='year', ylabel='number of cases per 100,000 individuals'>"
            ],
            "image\/png":"[encoded data removed]"
          },
          "metadata":{
            "image\/png":{
              "width":0,
              "height":0
            }
          },
          "output_type":"display_data"
        }
      ],
      "metadata":{
        
      }
    },
    {
      "cell_type":"markdown",
      "source":[
        "Como podemos observar, los casos de suicidio han aumentado considerablemente en México a lo largo de los años, lo que supone un problema ya que ésto se debe a la depresión."
      ],
      "metadata":{
        
      }
    },
    {
      "cell_type":"markdown",
      "source":[
        "## Planes futuros\n",
        "\n",
        "Una vez terminado el procesamiento y análisis inicial de nuestro dataset, es hora de preguntarnos sobre que rumbo deseamos llevar este proyecto.\n",
        "\n",
        "- **Recolectar información de HAM-D (Hamilton Depression Rating Scale)**.- Recolectar esta información nos permitirá desarrollar un modelo que sea capaz de identificar de forma temprana comportamientos que sean clara señal de suicidio. Este modelo podría ser la diferencia entre la vida y la muerte de una persona que quizá no sabe que padece de depresión.\n",
        "\n",
        "- **Hacer lineas de tiempo sobre la evolución a lo largo de años.**.- Utilizando librerias de gráficos más sofisticados, se planea realizar un análisis más extenso de la evolución de las distintas estadísticas con las que contamos a lo largo de los años, agrupando en base a diversas regiones o quizá a periodos específicos de tiempo.\n",
        "\n",
        "- **Agregar información adicional de los países**.- Haciendo uso de la lista con códigos estándar de 3 dígitos de países, podemos adjuntar a nuestro dataset más información de manera sumamente sencilla. Esta información podría ser de carácter económico o social (tal como PIB o IDH) y nos serviría para entender de manera mejor las diferencias entre los diferentes países.\n",
        "\n",
        "- **Investigar las causas de la evolución de las tasas de depresión y suicidio en México**.- Una vez que observamos la evolución de estas tasas en el país, no nos queda del todo claro el porque la tasa de depresión tuvó su pico alrederor del año 2006, mientras que la de suicidio lo tuvó alrederor de 2013. Sería interesante y de suma importancia entender los motivos por los que se presentaron estas alzas durante aquellos años. "
      ],
      "metadata":{
        
      }
    },
    {
      "cell_type":"markdown",
      "source":[
        "## Referencias 📚\n",
        "\n",
        "- Dataset original: https:\/\/data.world\/vizzup\/mental-health-depression-disorder-data\n",
        "- Dataset complementario de regiones: https:\/\/www.kaggle.com\/andradaolteanu\/country-mapping-iso-continent-region\n",
        "\n",
        "- Schimelpfening, N. (2020). Differences in Suicide Among Men and Women. https:\/\/www.verywellmind.com\/gender-differences-in-suicide-methods-1067508. March 14, 2021.\n",
        "\n",
        "- George, J. (2009). The Suicide Capital of the World, why do so many Greenlanders kill themselves? https:\/\/slate.com\/news-and-politics\/2009\/10\/why-do-so-many-greenlanders-kill-themselves.html. March 14, 2021.\n",
        "\n",
        "- Farrel, H. M. (2015). What is depression? https:\/\/www.youtube.com\/watch?v=z-IR48Mb3W0. March 14, 2021.\n",
        "\n",
        "- Purriños, M. J. Escala de Hamilton ~ Hamilton Depresion Rating Scale (HDRS).https:\/\/meiga.info\/escalas\/depresion-escala-hamilton.PDF. March 14, 2021.\n",
        "\n",
        "- Ritchie H., et al. Suicide. https:\/\/ourworldindata.org\/suicide. March 14, 2021."
      ],
      "metadata":{
        
      }
    }
  ],
  "metadata":{
    
  },
  "nbformat":4,
  "nbformat_minor":0
}