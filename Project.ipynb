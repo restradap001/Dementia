{
 "cells": [
  {
   "source": [
    "# Análisis de desórdenes mentales en el mundo."
   ],
   "cell_type": "markdown",
   "metadata": {}
  },
  {
   "source": [
    "## Introducción"
   ],
   "cell_type": "markdown",
   "metadata": {}
  },
  {
   "source": [
    "## Justificación\n",
    "El presente proyecto busca generar un análisis de la evolución de diversos desórdenes mentales en el mundo a lo largos de las últimas décadas. Para este proyecto se hace especial énfasis en la depresión, ya que se cuenta con una base de información extremadamente bien documentada sobre este fenómeno en particular y, por otro lado, este desorden en particular se encuentra como la mayor causa de discapacidad en el mundo, siendo entonces su estudio y comprensión de suma importancia para un mayor entendimiento de sus causas, consecuencias, así como de sus posibles soluciones.\n",
    "\n",
    "La OMS ha identificado fuertes vínculos entre la depresión y otros trastornos y enfermedades no transmisibles. La depresión aumenta el riesgo de trastornos por uso de sustancias y enfermedades como la diabetes y las enfermedades del corazón; lo contrario también es cierto, lo que significa que las personas con estas otras condiciones tienen un mayor riesgo de depresión.\n",
    "\n",
    "La depresión también es un factor de riesgo importante para el suicidio, que reclama cientos de miles de vidas cada año.\n",
    "\n",
    "Es por esta razón que un análisis que nos permita estudiarla resulta sumamente relevante."
   ],
   "cell_type": "markdown",
   "metadata": {}
  },
  {
   "source": [
    "## Preguntas clave\n",
    "- ¿A qué edad empiezan a manifestarse ciertos desórdenes?\n",
    "- ¿En qué zonas del mundo hay mayor prevalencia de desórdenes mentales?\n",
    "- ¿Qué tan prevalentes son estos desórdenes en países desarrollados? ¿Y en países en desarrollo?\n",
    "- ¿Qué tendencia tienen en su prevalencia a lo largo de los años?\n",
    "- ¿Está relacionada la depresión con el suicidio?"
   ],
   "cell_type": "markdown",
   "metadata": {}
  },
  {
   "cell_type": "markdown",
   "source": [
    "### Instalación de las librerías"
   ],
   "metadata": {
    "collapsed": false,
    "pycharm": {
     "name": "#%% md\n"
    }
   }
  },
  {
   "cell_type": "code",
   "execution_count": 2,
   "outputs": [],
   "source": [
    "#!pip install openpyxl\n",
    "#!pip install pandas\n",
    "#!pip install numpy"
   ],
   "metadata": {
    "collapsed": false,
    "pycharm": {
     "name": "#%%\n"
    }
   }
  },
  {
   "cell_type": "markdown",
   "source": [
    "### Importación de Librerías\n",
    "- Pandas"
   ],
   "metadata": {
    "collapsed": false
   }
  },
  {
   "cell_type": "code",
   "execution_count": 3,
   "outputs": [],
   "source": [
    "import pandas as pd"
   ],
   "metadata": {
    "collapsed": false,
    "pycharm": {
     "name": "#%%\n"
    }
   }
  },
  {
   "cell_type": "markdown",
   "source": [
    "### Lectura de datos"
   ],
   "metadata": {
    "collapsed": false,
    "pycharm": {
     "name": "#%% md\n"
    }
   }
  },
  {
   "cell_type": "code",
   "execution_count": 4,
   "outputs": [],
   "source": [
    "global_disorders = pd.read_excel(open('./data/depression.xlsx', 'rb'), sheet_name='prevalence-by-mental-and-substa')\n",
    "education_level = pd.read_excel(open('./data/depression.xlsx', 'rb'), sheet_name='depression-by-level-of-educatio')\n",
    "age_groups = pd.read_excel(open('./data/depression.xlsx', 'rb'), sheet_name='prevalence-of-depression-by-age')\n",
    "gender_groups = pd.read_excel(open('./data/depression.xlsx', 'rb'), sheet_name='prevalence-of-depression-males-')\n",
    "depression_and_suicide_rate = pd.read_excel(open('./data/depression.xlsx', 'rb'), sheet_name='suicide-rates-vs-prevalence-of-')\n",
    "affected = pd.read_excel(open('./data/depression.xlsx', 'rb'), sheet_name='number-with-depression-by-count')"
   ],
   "metadata": {
    "collapsed": false,
    "pycharm": {
     "name": "#%%\n"
    }
   }
  },
  {
   "cell_type": "markdown",
   "source": [
    "### Visualización las dimensiones de las tablas\n",
    "\n",
    "La uniformidad de los datos es importante, ya que nos permite concatenar fácilmente datos que están relacionados entre sí.\n",
    "\n",
    "Esto se puede realizar mediante la función <code>shape</code>."
   ],
   "metadata": {
    "collapsed": false,
    "pycharm": {
     "name": "#%% md\n"
    }
   }
  },
  {
   "cell_type": "code",
   "execution_count": 5,
   "outputs": [
    {
     "output_type": "stream",
     "name": "stdout",
     "text": [
      "global disorders:  (6468, 10)\neducation levels (26, 15)\nage groups:  (6468, 13)\ngender groups:  (47807, 6)\ndepression and suicide rate:  (47807, 6)\naffected:  (6468, 4)\n"
     ]
    }
   ],
   "source": [
    "print('global disorders: ', global_disorders.shape)\n",
    "print('education levels', education_level.shape)\n",
    "print('age groups: ', age_groups.shape)\n",
    "print('gender groups: ', gender_groups.shape)\n",
    "print('depression and suicide rate: ', depression_and_suicide_rate.shape)\n",
    "print('affected: ', affected.shape)"
   ],
   "metadata": {
    "collapsed": false,
    "pycharm": {
     "name": "#%%\n"
    }
   }
  },
  {
   "cell_type": "markdown",
   "source": [
    "### Nombre y tipos de datos\n",
    "\n",
    "La consistencia entre los metadatos de un conjunto de datos permite la correcta integración entre sí.\n",
    "\n",
    "Esto se puede realizar mediante la función <code>dtypes</code>."
   ],
   "metadata": {
    "collapsed": false,
    "pycharm": {
     "name": "#%% md\n"
    }
   }
  },
  {
   "cell_type": "markdown",
   "source": [
    "Tabla de índices de desórdenes globales"
   ],
   "metadata": {
    "collapsed": false,
    "pycharm": {
     "name": "#%% md\n"
    }
   }
  },
  {
   "cell_type": "code",
   "execution_count": 6,
   "outputs": [
    {
     "output_type": "execute_result",
     "data": {
      "text/plain": [
       "Entity                        object\n",
       "Code                          object\n",
       "Year                           int64\n",
       "Schizophrenia (%)            float64\n",
       "Bipolar disorder (%)         float64\n",
       "Eating disorders (%)         float64\n",
       "Anxiety disorders (%)        float64\n",
       "Drug use disorders (%)       float64\n",
       "Depression (%)               float64\n",
       "Alcohol use disorders (%)    float64\n",
       "dtype: object"
      ]
     },
     "metadata": {},
     "execution_count": 6
    }
   ],
   "source": [
    "global_disorders.dtypes"
   ],
   "metadata": {
    "collapsed": false,
    "pycharm": {
     "name": "#%%\n"
    }
   }
  },
  {
   "cell_type": "markdown",
   "source": [
    "Tabla de índices de depresión por nivel de educación"
   ],
   "metadata": {
    "collapsed": false,
    "pycharm": {
     "name": "#%% md\n"
    }
   }
  },
  {
   "cell_type": "code",
   "execution_count": 7,
   "outputs": [
    {
     "output_type": "execute_result",
     "data": {
      "text/plain": [
       "Entity                                                           object\n",
       "Code                                                             object\n",
       "Year                                                              int64\n",
       "All levels (active) (%)                                         float64\n",
       "All levels (employed) (%)                                       float64\n",
       "All levels (total) (%)                                          float64\n",
       "Below upper secondary (active) (%)                              float64\n",
       "Below upper secondary (employed) (%)                            float64\n",
       "Below upper secondary (total) (%)                               float64\n",
       "Tertiary (active) (%)                                           float64\n",
       "Tertiary (employed) (%)                                         float64\n",
       "Tertiary (total) (%)                                            float64\n",
       "Upper secondary & post-secondary non-tertiary (active) (%)      float64\n",
       "Upper secondary & post-secondary non-tertiary (employed) (%)    float64\n",
       "Upper secondary & post-secondary non-tertiary (total) (%)       float64\n",
       "dtype: object"
      ]
     },
     "metadata": {},
     "execution_count": 7
    }
   ],
   "source": [
    "education_level.dtypes"
   ],
   "metadata": {
    "collapsed": false,
    "pycharm": {
     "name": "#%%\n"
    }
   }
  },
  {
   "cell_type": "markdown",
   "source": [
    "Tabla de índices de depresión por edad"
   ],
   "metadata": {
    "collapsed": false,
    "pycharm": {
     "name": "#%% md\n"
    }
   }
  },
  {
   "cell_type": "code",
   "execution_count": 8,
   "outputs": [
    {
     "output_type": "execute_result",
     "data": {
      "text/plain": [
       "Entity                   object\n",
       "Code                     object\n",
       "Year                      int64\n",
       "20-24 years old (%)     float64\n",
       "10-14 years old (%)     float64\n",
       "All ages (%)            float64\n",
       "70+ years old (%)       float64\n",
       "30-34 years old (%)     float64\n",
       "15-19 years old (%)     float64\n",
       "25-29 years old (%)     float64\n",
       "50-69 years old (%)     float64\n",
       "Age-standardized (%)    float64\n",
       "15-49 years old (%)     float64\n",
       "dtype: object"
      ]
     },
     "metadata": {},
     "execution_count": 8
    }
   ],
   "source": [
    "age_groups.dtypes"
   ],
   "metadata": {
    "collapsed": false,
    "pycharm": {
     "name": "#%%\n"
    }
   }
  },
  {
   "cell_type": "markdown",
   "source": [
    "Tabla de índices de depresión por género"
   ],
   "metadata": {
    "collapsed": false,
    "pycharm": {
     "name": "#%% md\n"
    }
   }
  },
  {
   "cell_type": "code",
   "execution_count": 9,
   "outputs": [
    {
     "output_type": "execute_result",
     "data": {
      "text/plain": [
       "Entity                        object\n",
       "Code                          object\n",
       "Year                          object\n",
       "Prevalence in males (%)      float64\n",
       "Prevalence in females (%)    float64\n",
       "Population                   float64\n",
       "dtype: object"
      ]
     },
     "metadata": {},
     "execution_count": 9
    }
   ],
   "source": [
    "gender_groups.dtypes"
   ],
   "metadata": {
    "collapsed": false,
    "pycharm": {
     "name": "#%%\n"
    }
   }
  },
  {
   "cell_type": "markdown",
   "source": [
    "Tabla de índices de depresión y suicidio por cada 100,000 individuos"
   ],
   "metadata": {
    "collapsed": false,
    "pycharm": {
     "name": "#%% md\n"
    }
   }
  },
  {
   "cell_type": "code",
   "execution_count": 10,
   "outputs": [
    {
     "output_type": "execute_result",
     "data": {
      "text/plain": [
       "Entity                                                       object\n",
       "Code                                                         object\n",
       "Year                                                         object\n",
       "Suicide rate (deaths per 100,000 individuals)               float64\n",
       "Depressive disorder rates (number suffering per 100,000)    float64\n",
       "Population                                                  float64\n",
       "dtype: object"
      ]
     },
     "metadata": {},
     "execution_count": 10
    }
   ],
   "source": [
    "depression_and_suicide_rate.dtypes"
   ],
   "metadata": {
    "collapsed": false,
    "pycharm": {
     "name": "#%%\n"
    }
   }
  },
  {
   "cell_type": "markdown",
   "source": [
    "Tabla de población afectada por la depresión"
   ],
   "metadata": {
    "collapsed": false,
    "pycharm": {
     "name": "#%% md\n"
    }
   }
  },
  {
   "cell_type": "code",
   "execution_count": 11,
   "outputs": [
    {
     "output_type": "execute_result",
     "data": {
      "text/plain": [
       "Entity                                                                                                        object\n",
       "Code                                                                                                          object\n",
       "Year                                                                                                           int64\n",
       "Prevalence - Depressive disorders - Sex: Both - Age: All Ages (Number) (people suffering from depression)    float64\n",
       "dtype: object"
      ]
     },
     "metadata": {},
     "execution_count": 11
    }
   ],
   "source": [
    "affected.dtypes"
   ],
   "metadata": {
    "collapsed": false,
    "pycharm": {
     "name": "#%%\n"
    }
   }
  },
  {
   "cell_type": "markdown",
   "source": [
    "### Visualización de un conjunto de datos pequeño\n",
    "\n",
    "Explorar el conjunto de datos nos permite visualizar los posibles valores que adquiere cada columna y de esta forma, realizar un correcto procesamiento de datos.\n",
    "\n",
    "Esto se puede realizar mediante la función <code>head</code>."
   ],
   "metadata": {
    "collapsed": false
   }
  },
  {
   "cell_type": "markdown",
   "source": [
    "Tabla de índices de desórdenes globales"
   ],
   "metadata": {
    "collapsed": false
   }
  },
  {
   "cell_type": "code",
   "execution_count": 12,
   "outputs": [
    {
     "output_type": "execute_result",
     "data": {
      "text/plain": [
       "        Entity Code  Year  Schizophrenia (%)  Bipolar disorder (%)  \\\n",
       "0  Afghanistan  AFG  1990           0.160560              0.697779   \n",
       "1  Afghanistan  AFG  1991           0.160312              0.697961   \n",
       "2  Afghanistan  AFG  1992           0.160135              0.698107   \n",
       "3  Afghanistan  AFG  1993           0.160037              0.698257   \n",
       "4  Afghanistan  AFG  1994           0.160022              0.698469   \n",
       "\n",
       "   Eating disorders (%)  Anxiety disorders (%)  Drug use disorders (%)  \\\n",
       "0              0.101855               4.828830                1.677082   \n",
       "1              0.099313               4.829740                1.684746   \n",
       "2              0.096692               4.831108                1.694334   \n",
       "3              0.094336               4.830864                1.705320   \n",
       "4              0.092439               4.829423                1.716069   \n",
       "\n",
       "   Depression (%)  Alcohol use disorders (%)  \n",
       "0        4.071831                   0.672404  \n",
       "1        4.079531                   0.671768  \n",
       "2        4.088358                   0.670644  \n",
       "3        4.096190                   0.669738  \n",
       "4        4.099582                   0.669260  "
      ],
      "text/html": "<div>\n<style scoped>\n    .dataframe tbody tr th:only-of-type {\n        vertical-align: middle;\n    }\n\n    .dataframe tbody tr th {\n        vertical-align: top;\n    }\n\n    .dataframe thead th {\n        text-align: right;\n    }\n</style>\n<table border=\"1\" class=\"dataframe\">\n  <thead>\n    <tr style=\"text-align: right;\">\n      <th></th>\n      <th>Entity</th>\n      <th>Code</th>\n      <th>Year</th>\n      <th>Schizophrenia (%)</th>\n      <th>Bipolar disorder (%)</th>\n      <th>Eating disorders (%)</th>\n      <th>Anxiety disorders (%)</th>\n      <th>Drug use disorders (%)</th>\n      <th>Depression (%)</th>\n      <th>Alcohol use disorders (%)</th>\n    </tr>\n  </thead>\n  <tbody>\n    <tr>\n      <th>0</th>\n      <td>Afghanistan</td>\n      <td>AFG</td>\n      <td>1990</td>\n      <td>0.160560</td>\n      <td>0.697779</td>\n      <td>0.101855</td>\n      <td>4.828830</td>\n      <td>1.677082</td>\n      <td>4.071831</td>\n      <td>0.672404</td>\n    </tr>\n    <tr>\n      <th>1</th>\n      <td>Afghanistan</td>\n      <td>AFG</td>\n      <td>1991</td>\n      <td>0.160312</td>\n      <td>0.697961</td>\n      <td>0.099313</td>\n      <td>4.829740</td>\n      <td>1.684746</td>\n      <td>4.079531</td>\n      <td>0.671768</td>\n    </tr>\n    <tr>\n      <th>2</th>\n      <td>Afghanistan</td>\n      <td>AFG</td>\n      <td>1992</td>\n      <td>0.160135</td>\n      <td>0.698107</td>\n      <td>0.096692</td>\n      <td>4.831108</td>\n      <td>1.694334</td>\n      <td>4.088358</td>\n      <td>0.670644</td>\n    </tr>\n    <tr>\n      <th>3</th>\n      <td>Afghanistan</td>\n      <td>AFG</td>\n      <td>1993</td>\n      <td>0.160037</td>\n      <td>0.698257</td>\n      <td>0.094336</td>\n      <td>4.830864</td>\n      <td>1.705320</td>\n      <td>4.096190</td>\n      <td>0.669738</td>\n    </tr>\n    <tr>\n      <th>4</th>\n      <td>Afghanistan</td>\n      <td>AFG</td>\n      <td>1994</td>\n      <td>0.160022</td>\n      <td>0.698469</td>\n      <td>0.092439</td>\n      <td>4.829423</td>\n      <td>1.716069</td>\n      <td>4.099582</td>\n      <td>0.669260</td>\n    </tr>\n  </tbody>\n</table>\n</div>"
     },
     "metadata": {},
     "execution_count": 12
    }
   ],
   "source": [
    "global_disorders.head()"
   ],
   "metadata": {
    "collapsed": false,
    "pycharm": {
     "name": "#%%\n"
    }
   }
  },
  {
   "cell_type": "markdown",
   "source": [
    "Tabla de índices de depresión por nivel de educación"
   ],
   "metadata": {
    "collapsed": false
   }
  },
  {
   "cell_type": "code",
   "execution_count": 13,
   "outputs": [
    {
     "output_type": "execute_result",
     "data": {
      "text/plain": [
       "           Entity Code  Year  All levels (active) (%)  \\\n",
       "0         Austria  AUT  2014                      6.5   \n",
       "1         Belgium  BEL  2014                      5.0   \n",
       "2  Czech Republic  CZE  2014                      3.0   \n",
       "3         Denmark  DNK  2014                      6.7   \n",
       "4         Estonia  EST  2014                      3.8   \n",
       "\n",
       "   All levels (employed) (%)  All levels (total) (%)  \\\n",
       "0                        4.7                     7.7   \n",
       "1                        4.1                     7.1   \n",
       "2                        2.6                     4.0   \n",
       "3                        5.7                     8.3   \n",
       "4                        3.8                     5.1   \n",
       "\n",
       "   Below upper secondary (active) (%)  Below upper secondary (employed) (%)  \\\n",
       "0                                15.5                                   9.0   \n",
       "1                                 7.1                                   4.8   \n",
       "2                                 2.1                                   2.5   \n",
       "3                                10.4                                   6.5   \n",
       "4                                 4.7                                   4.7   \n",
       "\n",
       "   Below upper secondary (total) (%)  Tertiary (active) (%)  \\\n",
       "0                               15.2                    4.3   \n",
       "1                               11.6                    3.7   \n",
       "2                                6.0                    1.7   \n",
       "3                               15.5                    5.7   \n",
       "4                                6.4                    3.6   \n",
       "\n",
       "   Tertiary (employed) (%)  Tertiary (total) (%)  \\\n",
       "0                      3.5                   5.5   \n",
       "1                      3.3                   4.2   \n",
       "2                      1.7                   2.0   \n",
       "3                      4.7                   6.7   \n",
       "4                      3.6                   4.3   \n",
       "\n",
       "   Upper secondary & post-secondary non-tertiary (active) (%)  \\\n",
       "0                                                5.5            \n",
       "1                                                5.7            \n",
       "2                                                3.5            \n",
       "3                                                7.4            \n",
       "4                                                3.7            \n",
       "\n",
       "   Upper secondary & post-secondary non-tertiary (employed) (%)  \\\n",
       "0                                                4.2              \n",
       "1                                                5.0              \n",
       "2                                                3.0              \n",
       "3                                                6.9              \n",
       "4                                                3.8              \n",
       "\n",
       "   Upper secondary & post-secondary non-tertiary (total) (%)  \n",
       "0                                                6.7          \n",
       "1                                                7.5          \n",
       "2                                                4.4          \n",
       "3                                                8.8          \n",
       "4                                                5.2          "
      ],
      "text/html": "<div>\n<style scoped>\n    .dataframe tbody tr th:only-of-type {\n        vertical-align: middle;\n    }\n\n    .dataframe tbody tr th {\n        vertical-align: top;\n    }\n\n    .dataframe thead th {\n        text-align: right;\n    }\n</style>\n<table border=\"1\" class=\"dataframe\">\n  <thead>\n    <tr style=\"text-align: right;\">\n      <th></th>\n      <th>Entity</th>\n      <th>Code</th>\n      <th>Year</th>\n      <th>All levels (active) (%)</th>\n      <th>All levels (employed) (%)</th>\n      <th>All levels (total) (%)</th>\n      <th>Below upper secondary (active) (%)</th>\n      <th>Below upper secondary (employed) (%)</th>\n      <th>Below upper secondary (total) (%)</th>\n      <th>Tertiary (active) (%)</th>\n      <th>Tertiary (employed) (%)</th>\n      <th>Tertiary (total) (%)</th>\n      <th>Upper secondary &amp; post-secondary non-tertiary (active) (%)</th>\n      <th>Upper secondary &amp; post-secondary non-tertiary (employed) (%)</th>\n      <th>Upper secondary &amp; post-secondary non-tertiary (total) (%)</th>\n    </tr>\n  </thead>\n  <tbody>\n    <tr>\n      <th>0</th>\n      <td>Austria</td>\n      <td>AUT</td>\n      <td>2014</td>\n      <td>6.5</td>\n      <td>4.7</td>\n      <td>7.7</td>\n      <td>15.5</td>\n      <td>9.0</td>\n      <td>15.2</td>\n      <td>4.3</td>\n      <td>3.5</td>\n      <td>5.5</td>\n      <td>5.5</td>\n      <td>4.2</td>\n      <td>6.7</td>\n    </tr>\n    <tr>\n      <th>1</th>\n      <td>Belgium</td>\n      <td>BEL</td>\n      <td>2014</td>\n      <td>5.0</td>\n      <td>4.1</td>\n      <td>7.1</td>\n      <td>7.1</td>\n      <td>4.8</td>\n      <td>11.6</td>\n      <td>3.7</td>\n      <td>3.3</td>\n      <td>4.2</td>\n      <td>5.7</td>\n      <td>5.0</td>\n      <td>7.5</td>\n    </tr>\n    <tr>\n      <th>2</th>\n      <td>Czech Republic</td>\n      <td>CZE</td>\n      <td>2014</td>\n      <td>3.0</td>\n      <td>2.6</td>\n      <td>4.0</td>\n      <td>2.1</td>\n      <td>2.5</td>\n      <td>6.0</td>\n      <td>1.7</td>\n      <td>1.7</td>\n      <td>2.0</td>\n      <td>3.5</td>\n      <td>3.0</td>\n      <td>4.4</td>\n    </tr>\n    <tr>\n      <th>3</th>\n      <td>Denmark</td>\n      <td>DNK</td>\n      <td>2014</td>\n      <td>6.7</td>\n      <td>5.7</td>\n      <td>8.3</td>\n      <td>10.4</td>\n      <td>6.5</td>\n      <td>15.5</td>\n      <td>5.7</td>\n      <td>4.7</td>\n      <td>6.7</td>\n      <td>7.4</td>\n      <td>6.9</td>\n      <td>8.8</td>\n    </tr>\n    <tr>\n      <th>4</th>\n      <td>Estonia</td>\n      <td>EST</td>\n      <td>2014</td>\n      <td>3.8</td>\n      <td>3.8</td>\n      <td>5.1</td>\n      <td>4.7</td>\n      <td>4.7</td>\n      <td>6.4</td>\n      <td>3.6</td>\n      <td>3.6</td>\n      <td>4.3</td>\n      <td>3.7</td>\n      <td>3.8</td>\n      <td>5.2</td>\n    </tr>\n  </tbody>\n</table>\n</div>"
     },
     "metadata": {},
     "execution_count": 13
    }
   ],
   "source": [
    "education_level.head()"
   ],
   "metadata": {
    "collapsed": false,
    "pycharm": {
     "name": "#%%\n"
    }
   }
  },
  {
   "cell_type": "markdown",
   "source": [
    "Tabla de índices de depresión por edad"
   ],
   "metadata": {
    "collapsed": false
   }
  },
  {
   "cell_type": "code",
   "execution_count": 14,
   "outputs": [
    {
     "output_type": "execute_result",
     "data": {
      "text/plain": [
       "        Entity Code  Year  20-24 years old (%)  10-14 years old (%)  \\\n",
       "0  Afghanistan  AFG  1990             4.417802             1.594676   \n",
       "1  Afghanistan  AFG  1991             4.433524             1.588356   \n",
       "2  Afghanistan  AFG  1992             4.453689             1.577980   \n",
       "3  Afghanistan  AFG  1993             4.464517             1.577201   \n",
       "4  Afghanistan  AFG  1994             4.462960             1.570846   \n",
       "\n",
       "   All ages (%)  70+ years old (%)  30-34 years old (%)  15-19 years old (%)  \\\n",
       "0      3.218871           5.202803             5.799034             3.455708   \n",
       "1      3.203468           5.192849             5.814828             3.451880   \n",
       "2      3.156559           5.176872             5.829745             3.434982   \n",
       "3      3.120655           5.167355             5.853060             3.420210   \n",
       "4      3.082179           5.157549             5.852851             3.425222   \n",
       "\n",
       "   25-29 years old (%)  50-69 years old (%)  Age-standardized (%)  \\\n",
       "0             5.175856             5.917752              4.071831   \n",
       "1             5.176729             5.927093              4.079531   \n",
       "2             5.160249             5.945656              4.088358   \n",
       "3             5.148767             5.966915              4.096190   \n",
       "4             5.148227             5.975907              4.099582   \n",
       "\n",
       "   15-49 years old (%)  \n",
       "0             4.939766  \n",
       "1             4.902682  \n",
       "2             4.837097  \n",
       "3             4.813657  \n",
       "4             4.839340  "
      ],
      "text/html": "<div>\n<style scoped>\n    .dataframe tbody tr th:only-of-type {\n        vertical-align: middle;\n    }\n\n    .dataframe tbody tr th {\n        vertical-align: top;\n    }\n\n    .dataframe thead th {\n        text-align: right;\n    }\n</style>\n<table border=\"1\" class=\"dataframe\">\n  <thead>\n    <tr style=\"text-align: right;\">\n      <th></th>\n      <th>Entity</th>\n      <th>Code</th>\n      <th>Year</th>\n      <th>20-24 years old (%)</th>\n      <th>10-14 years old (%)</th>\n      <th>All ages (%)</th>\n      <th>70+ years old (%)</th>\n      <th>30-34 years old (%)</th>\n      <th>15-19 years old (%)</th>\n      <th>25-29 years old (%)</th>\n      <th>50-69 years old (%)</th>\n      <th>Age-standardized (%)</th>\n      <th>15-49 years old (%)</th>\n    </tr>\n  </thead>\n  <tbody>\n    <tr>\n      <th>0</th>\n      <td>Afghanistan</td>\n      <td>AFG</td>\n      <td>1990</td>\n      <td>4.417802</td>\n      <td>1.594676</td>\n      <td>3.218871</td>\n      <td>5.202803</td>\n      <td>5.799034</td>\n      <td>3.455708</td>\n      <td>5.175856</td>\n      <td>5.917752</td>\n      <td>4.071831</td>\n      <td>4.939766</td>\n    </tr>\n    <tr>\n      <th>1</th>\n      <td>Afghanistan</td>\n      <td>AFG</td>\n      <td>1991</td>\n      <td>4.433524</td>\n      <td>1.588356</td>\n      <td>3.203468</td>\n      <td>5.192849</td>\n      <td>5.814828</td>\n      <td>3.451880</td>\n      <td>5.176729</td>\n      <td>5.927093</td>\n      <td>4.079531</td>\n      <td>4.902682</td>\n    </tr>\n    <tr>\n      <th>2</th>\n      <td>Afghanistan</td>\n      <td>AFG</td>\n      <td>1992</td>\n      <td>4.453689</td>\n      <td>1.577980</td>\n      <td>3.156559</td>\n      <td>5.176872</td>\n      <td>5.829745</td>\n      <td>3.434982</td>\n      <td>5.160249</td>\n      <td>5.945656</td>\n      <td>4.088358</td>\n      <td>4.837097</td>\n    </tr>\n    <tr>\n      <th>3</th>\n      <td>Afghanistan</td>\n      <td>AFG</td>\n      <td>1993</td>\n      <td>4.464517</td>\n      <td>1.577201</td>\n      <td>3.120655</td>\n      <td>5.167355</td>\n      <td>5.853060</td>\n      <td>3.420210</td>\n      <td>5.148767</td>\n      <td>5.966915</td>\n      <td>4.096190</td>\n      <td>4.813657</td>\n    </tr>\n    <tr>\n      <th>4</th>\n      <td>Afghanistan</td>\n      <td>AFG</td>\n      <td>1994</td>\n      <td>4.462960</td>\n      <td>1.570846</td>\n      <td>3.082179</td>\n      <td>5.157549</td>\n      <td>5.852851</td>\n      <td>3.425222</td>\n      <td>5.148227</td>\n      <td>5.975907</td>\n      <td>4.099582</td>\n      <td>4.839340</td>\n    </tr>\n  </tbody>\n</table>\n</div>"
     },
     "metadata": {},
     "execution_count": 14
    }
   ],
   "source": [
    "age_groups.head()"
   ],
   "metadata": {
    "collapsed": false,
    "pycharm": {
     "name": "#%%\n"
    }
   }
  },
  {
   "cell_type": "markdown",
   "source": [
    "Tabla de índices de depresión por género"
   ],
   "metadata": {
    "collapsed": false
   }
  },
  {
   "cell_type": "code",
   "execution_count": 15,
   "outputs": [
    {
     "output_type": "execute_result",
     "data": {
      "text/plain": [
       "        Entity Code  Year  Prevalence in males (%)  Prevalence in females (%)  \\\n",
       "0  Afghanistan  AFG  1800                      NaN                        NaN   \n",
       "1  Afghanistan  AFG  1801                      NaN                        NaN   \n",
       "2  Afghanistan  AFG  1802                      NaN                        NaN   \n",
       "3  Afghanistan  AFG  1803                      NaN                        NaN   \n",
       "4  Afghanistan  AFG  1804                      NaN                        NaN   \n",
       "\n",
       "   Population  \n",
       "0   3280000.0  \n",
       "1   3280000.0  \n",
       "2   3280000.0  \n",
       "3   3280000.0  \n",
       "4   3280000.0  "
      ],
      "text/html": "<div>\n<style scoped>\n    .dataframe tbody tr th:only-of-type {\n        vertical-align: middle;\n    }\n\n    .dataframe tbody tr th {\n        vertical-align: top;\n    }\n\n    .dataframe thead th {\n        text-align: right;\n    }\n</style>\n<table border=\"1\" class=\"dataframe\">\n  <thead>\n    <tr style=\"text-align: right;\">\n      <th></th>\n      <th>Entity</th>\n      <th>Code</th>\n      <th>Year</th>\n      <th>Prevalence in males (%)</th>\n      <th>Prevalence in females (%)</th>\n      <th>Population</th>\n    </tr>\n  </thead>\n  <tbody>\n    <tr>\n      <th>0</th>\n      <td>Afghanistan</td>\n      <td>AFG</td>\n      <td>1800</td>\n      <td>NaN</td>\n      <td>NaN</td>\n      <td>3280000.0</td>\n    </tr>\n    <tr>\n      <th>1</th>\n      <td>Afghanistan</td>\n      <td>AFG</td>\n      <td>1801</td>\n      <td>NaN</td>\n      <td>NaN</td>\n      <td>3280000.0</td>\n    </tr>\n    <tr>\n      <th>2</th>\n      <td>Afghanistan</td>\n      <td>AFG</td>\n      <td>1802</td>\n      <td>NaN</td>\n      <td>NaN</td>\n      <td>3280000.0</td>\n    </tr>\n    <tr>\n      <th>3</th>\n      <td>Afghanistan</td>\n      <td>AFG</td>\n      <td>1803</td>\n      <td>NaN</td>\n      <td>NaN</td>\n      <td>3280000.0</td>\n    </tr>\n    <tr>\n      <th>4</th>\n      <td>Afghanistan</td>\n      <td>AFG</td>\n      <td>1804</td>\n      <td>NaN</td>\n      <td>NaN</td>\n      <td>3280000.0</td>\n    </tr>\n  </tbody>\n</table>\n</div>"
     },
     "metadata": {},
     "execution_count": 15
    }
   ],
   "source": [
    "gender_groups.head()"
   ],
   "metadata": {
    "collapsed": false,
    "pycharm": {
     "name": "#%%\n"
    }
   }
  },
  {
   "cell_type": "markdown",
   "source": [
    "Tabla de índices de depresión y suicidio por cada 100,000 individuos"
   ],
   "metadata": {
    "collapsed": false
   }
  },
  {
   "cell_type": "code",
   "execution_count": 16,
   "outputs": [
    {
     "output_type": "execute_result",
     "data": {
      "text/plain": [
       "        Entity Code  Year  Suicide rate (deaths per 100,000 individuals)  \\\n",
       "0  Afghanistan  AFG  1800                                            NaN   \n",
       "1  Afghanistan  AFG  1801                                            NaN   \n",
       "2  Afghanistan  AFG  1802                                            NaN   \n",
       "3  Afghanistan  AFG  1803                                            NaN   \n",
       "4  Afghanistan  AFG  1804                                            NaN   \n",
       "\n",
       "   Depressive disorder rates (number suffering per 100,000)  Population  \n",
       "0                                                NaN          3280000.0  \n",
       "1                                                NaN          3280000.0  \n",
       "2                                                NaN          3280000.0  \n",
       "3                                                NaN          3280000.0  \n",
       "4                                                NaN          3280000.0  "
      ],
      "text/html": "<div>\n<style scoped>\n    .dataframe tbody tr th:only-of-type {\n        vertical-align: middle;\n    }\n\n    .dataframe tbody tr th {\n        vertical-align: top;\n    }\n\n    .dataframe thead th {\n        text-align: right;\n    }\n</style>\n<table border=\"1\" class=\"dataframe\">\n  <thead>\n    <tr style=\"text-align: right;\">\n      <th></th>\n      <th>Entity</th>\n      <th>Code</th>\n      <th>Year</th>\n      <th>Suicide rate (deaths per 100,000 individuals)</th>\n      <th>Depressive disorder rates (number suffering per 100,000)</th>\n      <th>Population</th>\n    </tr>\n  </thead>\n  <tbody>\n    <tr>\n      <th>0</th>\n      <td>Afghanistan</td>\n      <td>AFG</td>\n      <td>1800</td>\n      <td>NaN</td>\n      <td>NaN</td>\n      <td>3280000.0</td>\n    </tr>\n    <tr>\n      <th>1</th>\n      <td>Afghanistan</td>\n      <td>AFG</td>\n      <td>1801</td>\n      <td>NaN</td>\n      <td>NaN</td>\n      <td>3280000.0</td>\n    </tr>\n    <tr>\n      <th>2</th>\n      <td>Afghanistan</td>\n      <td>AFG</td>\n      <td>1802</td>\n      <td>NaN</td>\n      <td>NaN</td>\n      <td>3280000.0</td>\n    </tr>\n    <tr>\n      <th>3</th>\n      <td>Afghanistan</td>\n      <td>AFG</td>\n      <td>1803</td>\n      <td>NaN</td>\n      <td>NaN</td>\n      <td>3280000.0</td>\n    </tr>\n    <tr>\n      <th>4</th>\n      <td>Afghanistan</td>\n      <td>AFG</td>\n      <td>1804</td>\n      <td>NaN</td>\n      <td>NaN</td>\n      <td>3280000.0</td>\n    </tr>\n  </tbody>\n</table>\n</div>"
     },
     "metadata": {},
     "execution_count": 16
    }
   ],
   "source": [
    "depression_and_suicide_rate.head()"
   ],
   "metadata": {
    "collapsed": false,
    "pycharm": {
     "name": "#%%\n"
    }
   }
  },
  {
   "cell_type": "markdown",
   "source": [
    "Tabla de población afectada por la depresión"
   ],
   "metadata": {
    "collapsed": false
   }
  },
  {
   "cell_type": "code",
   "execution_count": 17,
   "outputs": [
    {
     "output_type": "execute_result",
     "data": {
      "text/plain": [
       "        Entity Code  Year  \\\n",
       "0  Afghanistan  AFG  1990   \n",
       "1  Afghanistan  AFG  1991   \n",
       "2  Afghanistan  AFG  1992   \n",
       "3  Afghanistan  AFG  1993   \n",
       "4  Afghanistan  AFG  1994   \n",
       "\n",
       "   Prevalence - Depressive disorders - Sex: Both - Age: All Ages (Number) (people suffering from depression)  \n",
       "0                                      318435.813670                                                          \n",
       "1                                      329044.773956                                                          \n",
       "2                                      382544.572895                                                          \n",
       "3                                      440381.507393                                                          \n",
       "4                                      456916.645489                                                          "
      ],
      "text/html": "<div>\n<style scoped>\n    .dataframe tbody tr th:only-of-type {\n        vertical-align: middle;\n    }\n\n    .dataframe tbody tr th {\n        vertical-align: top;\n    }\n\n    .dataframe thead th {\n        text-align: right;\n    }\n</style>\n<table border=\"1\" class=\"dataframe\">\n  <thead>\n    <tr style=\"text-align: right;\">\n      <th></th>\n      <th>Entity</th>\n      <th>Code</th>\n      <th>Year</th>\n      <th>Prevalence - Depressive disorders - Sex: Both - Age: All Ages (Number) (people suffering from depression)</th>\n    </tr>\n  </thead>\n  <tbody>\n    <tr>\n      <th>0</th>\n      <td>Afghanistan</td>\n      <td>AFG</td>\n      <td>1990</td>\n      <td>318435.813670</td>\n    </tr>\n    <tr>\n      <th>1</th>\n      <td>Afghanistan</td>\n      <td>AFG</td>\n      <td>1991</td>\n      <td>329044.773956</td>\n    </tr>\n    <tr>\n      <th>2</th>\n      <td>Afghanistan</td>\n      <td>AFG</td>\n      <td>1992</td>\n      <td>382544.572895</td>\n    </tr>\n    <tr>\n      <th>3</th>\n      <td>Afghanistan</td>\n      <td>AFG</td>\n      <td>1993</td>\n      <td>440381.507393</td>\n    </tr>\n    <tr>\n      <th>4</th>\n      <td>Afghanistan</td>\n      <td>AFG</td>\n      <td>1994</td>\n      <td>456916.645489</td>\n    </tr>\n  </tbody>\n</table>\n</div>"
     },
     "metadata": {},
     "execution_count": 17
    }
   ],
   "source": [
    "affected.head()"
   ],
   "metadata": {
    "collapsed": false,
    "pycharm": {
     "name": "#%%\n"
    }
   }
  },
  {
   "cell_type": "markdown",
   "source": [
    "### Renombramiento\n",
    "Como pudimos observar, los nombres de las columnas no siguen la convención <code>Snake Case</code>, por lo que hay que renombrar cada columna para cada una de las tablas mediante la función <code>rename</code>."
   ],
   "metadata": {
    "collapsed": false,
    "pycharm": {
     "name": "#%% md\n"
    }
   }
  },
  {
   "cell_type": "code",
   "execution_count": 18,
   "outputs": [],
   "source": [
    "percentages_of_global_disorders = global_disorders.copy().rename(\n",
    "    columns={\n",
    "        'Entity': 'entity',\n",
    "        'Code': 'code',\n",
    "        'Year': 'year',\n",
    "        'Schizophrenia (%)': 'schizophrenia',\n",
    "        'Bipolar disorder (%)': 'bipolar_disorder',\n",
    "        'Eating disorders (%)': 'eating_disorder',\n",
    "        'Anxiety disorders (%)': 'anxiety',\n",
    "        'Drug use disorders (%)': 'drug_addiction',\n",
    "        'Depression (%)': 'depression',\n",
    "        'Alcohol use disorders (%)': 'alcoholism'\n",
    "    }\n",
    ")\n",
    "\n",
    "depression_rates_by_age = age_groups.copy().rename(\n",
    "    columns={\n",
    "        'Entity': 'entity',\n",
    "        'Code': 'code',\n",
    "        'Year': 'year',\n",
    "        'All ages (%)': 'all',\n",
    "        '10-14 years old (%)': 'from_10_to_14',\n",
    "        '15-19 years old (%)': 'from_15_to_19',\n",
    "        '20-24 years old (%)': 'from_20_to_24',\n",
    "        '25-29 years old (%)': 'from_25_to_29',\n",
    "        '30-34 years old (%)': 'from_30_to_34',\n",
    "        '15-49 years old (%)': 'from_15_to_49',\n",
    "        '50-69 years old (%)': 'from_50_to_69',\n",
    "        '70+ years old (%)': 'above_69',\n",
    "        'Age-standardized (%)': 'standardized'\n",
    "    }\n",
    ")\n",
    "\n",
    "depression_rates_by_gender = gender_groups.copy().rename(\n",
    "    columns = {\n",
    "        'Entity': 'entity',\n",
    "        'Code': 'code',\n",
    "        'Year': 'year',\n",
    "        'Prevalence in males (%)': 'prevalence_in_males',\n",
    "        'Prevalence in females (%)': 'prevalence_in_females',\n",
    "        'Population': 'population'\n",
    "    }\n",
    ")\n",
    "\n",
    "depression_and_suicide_rate_per_100000_individuals = depression_and_suicide_rate.copy().rename(\n",
    "    columns={\n",
    "        'Entity': 'entity',\n",
    "        'Code': 'code',\n",
    "        'Year': 'year',\n",
    "        'Suicide rate (deaths per 100,000 individuals)': 'suicide_rate',\n",
    "        'Depressive disorder rates (number suffering per 100,000)': 'depression_rate',\n",
    "        'Population': 'population'\n",
    "    }\n",
    ")\n",
    "\n",
    "depression_affected = affected.copy().rename(\n",
    "    columns={\n",
    "        'Entity': 'entity',\n",
    "        'Code': 'code',\n",
    "        'Year': 'year',\n",
    "        'Prevalence - Depressive disorders - Sex: Both - Age: All Ages (Number) (people suffering from depression)': 'depression_prevalence'\n",
    "    }\n",
    ")"
   ],
   "metadata": {
    "collapsed": false,
    "pycharm": {
     "name": "#%%\n"
    }
   }
  },
  {
   "cell_type": "markdown",
   "source": [
    "### Casting\n",
    "La columna <code>year</code> de las tablas <code>gender_groups</code> y <code>depression_and_suicide_rate</code> es de tipo <code>object</code> mientras que en las demás tablas es de tipo <code>int64</code>.\n",
    "\n",
    "1. Transformar los valores a números mediante la función <code>to_numeric</code>.\n",
    "2. Filtrar los registros que no tienen valores <code>NaN</code> mediante la función <code>isna</code>.\n",
    "3. Transformar los valores de <code>float64</code> a <code>int64</code> mediante la función <code>astype</code>."
   ],
   "metadata": {
    "collapsed": false,
    "pycharm": {
     "name": "#%% md\n"
    }
   }
  },
  {
   "cell_type": "code",
   "execution_count": 19,
   "outputs": [],
   "source": [
    "depression_rates_by_gender['year'] = pd.to_numeric(depression_rates_by_gender['year'], errors='coerce')\n",
    "depression_rates_by_gender = depression_rates_by_gender[depression_rates_by_gender['year'].isna() == False]\n",
    "depression_rates_by_gender['year'] = depression_rates_by_gender['year'].astype('int64')\n",
    "\n",
    "depression_and_suicide_rate_per_100000_individuals['year'] = pd.to_numeric(depression_and_suicide_rate_per_100000_individuals['year'], errors='coerce')\n",
    "depression_and_suicide_rate_per_100000_individuals = depression_and_suicide_rate_per_100000_individuals[depression_and_suicide_rate_per_100000_individuals['year'].isna() == False]\n",
    "depression_and_suicide_rate_per_100000_individuals['year'] = depression_and_suicide_rate_per_100000_individuals['year'].astype('int64')"
   ],
   "metadata": {
    "collapsed": false,
    "pycharm": {
     "name": "#%%\n"
    }
   }
  },
  {
   "cell_type": "markdown",
   "source": [
    "### Limpieza de datos"
   ],
   "metadata": {
    "collapsed": false,
    "pycharm": {
     "name": "#%% md\n"
    }
   }
  },
  {
   "cell_type": "markdown",
   "source": [
    "Para comenzar, necesitamos identificar las columnas que poseen valores <code>NaN</code>, ya que estos no permiten un correcto procesamiento de los datos.\n",
    "\n",
    "Esto se puede realizar mediante las funciones <code>isna</code> y <code>mean</code>."
   ],
   "metadata": {
    "collapsed": false,
    "pycharm": {
     "name": "#%% md\n"
    }
   }
  },
  {
   "cell_type": "markdown",
   "source": [
    "Tabla de índices de desórdenes globales"
   ],
   "metadata": {
    "collapsed": false
   }
  },
  {
   "cell_type": "code",
   "execution_count": 20,
   "outputs": [
    {
     "output_type": "execute_result",
     "data": {
      "text/plain": [
       "entity              0.000000\n",
       "code                0.151515\n",
       "year                0.000000\n",
       "schizophrenia       0.000000\n",
       "bipolar_disorder    0.000000\n",
       "eating_disorder     0.000000\n",
       "anxiety             0.000000\n",
       "drug_addiction      0.000000\n",
       "depression          0.000000\n",
       "alcoholism          0.000000\n",
       "dtype: float64"
      ]
     },
     "metadata": {},
     "execution_count": 20
    }
   ],
   "source": [
    "percentages_of_global_disorders.isna().mean()"
   ],
   "metadata": {
    "collapsed": false,
    "pycharm": {
     "name": "#%%\n"
    }
   }
  },
  {
   "cell_type": "markdown",
   "source": [
    "Tabla de índices de depresión por edad"
   ],
   "metadata": {
    "collapsed": false
   }
  },
  {
   "cell_type": "code",
   "execution_count": 21,
   "outputs": [
    {
     "output_type": "execute_result",
     "data": {
      "text/plain": [
       "entity           0.000000\n",
       "code             0.151515\n",
       "year             0.000000\n",
       "from_20_to_24    0.000000\n",
       "from_10_to_14    0.000000\n",
       "all              0.000000\n",
       "above_69         0.000000\n",
       "from_30_to_34    0.000000\n",
       "from_15_to_19    0.000000\n",
       "from_25_to_29    0.000000\n",
       "from_50_to_69    0.000000\n",
       "standardized     0.000000\n",
       "from_15_to_49    0.000000\n",
       "dtype: float64"
      ]
     },
     "metadata": {},
     "execution_count": 21
    }
   ],
   "source": [
    "depression_rates_by_age.isna().mean()"
   ],
   "metadata": {
    "collapsed": false,
    "pycharm": {
     "name": "#%%\n"
    }
   }
  },
  {
   "cell_type": "markdown",
   "source": [
    "Tabla de índices de depresión por género"
   ],
   "metadata": {
    "collapsed": false
   }
  },
  {
   "cell_type": "code",
   "execution_count": 22,
   "outputs": [
    {
     "output_type": "execute_result",
     "data": {
      "text/plain": [
       "entity                   0.000000\n",
       "code                     0.034900\n",
       "year                     0.000000\n",
       "prevalence_in_males      0.864508\n",
       "prevalence_in_females    0.864508\n",
       "population               0.019356\n",
       "dtype: float64"
      ]
     },
     "metadata": {},
     "execution_count": 22
    }
   ],
   "source": [
    "depression_rates_by_gender.isna().mean()"
   ],
   "metadata": {
    "collapsed": false,
    "pycharm": {
     "name": "#%%\n"
    }
   }
  },
  {
   "cell_type": "markdown",
   "source": [
    "Tabla de índices de depresión y suicidio por cada 100,000 individuos"
   ],
   "metadata": {
    "collapsed": false
   }
  },
  {
   "cell_type": "code",
   "execution_count": 23,
   "outputs": [
    {
     "output_type": "execute_result",
     "data": {
      "text/plain": [
       "entity             0.000000\n",
       "code               0.034900\n",
       "year               0.000000\n",
       "suicide_rate       0.864508\n",
       "depression_rate    0.864508\n",
       "population         0.019356\n",
       "dtype: float64"
      ]
     },
     "metadata": {},
     "execution_count": 23
    }
   ],
   "source": [
    "depression_and_suicide_rate_per_100000_individuals.isna().mean()"
   ],
   "metadata": {
    "collapsed": false,
    "pycharm": {
     "name": "#%%\n"
    }
   }
  },
  {
   "cell_type": "markdown",
   "source": [
    "Tabla de población afectada por la depresión"
   ],
   "metadata": {
    "collapsed": false
   }
  },
  {
   "cell_type": "code",
   "execution_count": 24,
   "outputs": [
    {
     "output_type": "execute_result",
     "data": {
      "text/plain": [
       "entity                   0.000000\n",
       "code                     0.151515\n",
       "year                     0.000000\n",
       "depression_prevalence    0.000000\n",
       "dtype: float64"
      ]
     },
     "metadata": {},
     "execution_count": 24
    }
   ],
   "source": [
    "depression_affected.isna().mean()\n"
   ],
   "metadata": {
    "collapsed": false,
    "pycharm": {
     "name": "#%%\n"
    }
   }
  },
  {
   "cell_type": "markdown",
   "source": [
    "Las tablas de nuestro conjunto de datos contienen regiones del mundo, las cuales contienen información parcial y no son de gran utilidad para este análisis.\n",
    "\n",
    "Todos estos registros pueden filtrarse mediante la función <code>isna</code> aplicada a la columna <code>code</code>, ya que esta columna no tiene valor alguno para estos registros."
   ],
   "metadata": {
    "collapsed": false,
    "pycharm": {
     "name": "#%% md\n"
    }
   }
  },
  {
   "cell_type": "code",
   "execution_count": 25,
   "outputs": [],
   "source": [
    "percentages_of_global_disorders = percentages_of_global_disorders.drop(percentages_of_global_disorders[percentages_of_global_disorders['code'].isna()].index)\n",
    "\n",
    "depression_rates_by_age = depression_rates_by_age.drop(depression_rates_by_age[depression_rates_by_age['code'].isna()].index)\n",
    "\n",
    "depression_rates_by_gender = depression_rates_by_gender.drop(depression_rates_by_gender[depression_rates_by_gender['code'].isna()].index)\n",
    "\n",
    "depression_and_suicide_rate_per_100000_individuals = depression_and_suicide_rate_per_100000_individuals.drop(depression_and_suicide_rate_per_100000_individuals[depression_and_suicide_rate_per_100000_individuals['code'].isna()].index)\n",
    "\n",
    "depression_affected = depression_affected.drop(depression_affected[depression_affected['code'].isna()].index)"
   ],
   "metadata": {
    "collapsed": false,
    "pycharm": {
     "name": "#%%\n"
    }
   }
  },
  {
   "cell_type": "markdown",
   "source": [
    "Existen registros donde la columna <code>code</code> no tiene valor alguno, por lo que se puede eliminar sin dañar la integridad de los datos.\n",
    "\n",
    "Esto se hace mediante la función <code>drop</code>."
   ],
   "metadata": {
    "collapsed": false,
    "pycharm": {
     "name": "#%% md\n"
    }
   }
  },
  {
   "cell_type": "code",
   "execution_count": 26,
   "outputs": [],
   "source": [
    "percentages_of_global_disorders = percentages_of_global_disorders.drop(columns=['code'])\n",
    "depression_rates_by_age = depression_rates_by_age.drop(columns=['code'])\n",
    "depression_rates_by_gender = depression_rates_by_gender.drop(columns=['code'])\n",
    "depression_and_suicide_rate_per_100000_individuals = depression_and_suicide_rate_per_100000_individuals.drop(columns=['code'])\n",
    "depression_affected = depression_affected.drop(columns=['code'])"
   ],
   "metadata": {
    "collapsed": false,
    "pycharm": {
     "name": "#%%\n"
    }
   }
  },
  {
   "cell_type": "markdown",
   "source": [
    "Una vez que la columna <code>year</code> de todas las tablas es de tipo <code>int64</code>, hay que filtrar los registros comprendidos entre los años <code>1990</code> y <code>2017</code> de las tablas <code>depression_rates_by_gender</code> y <code>depression_and_suicide_rate_per_100000_individuals</code>."
   ],
   "metadata": {
    "collapsed": false,
    "pycharm": {
     "name": "#%% md\n"
    }
   }
  },
  {
   "cell_type": "code",
   "execution_count": 27,
   "outputs": [],
   "source": [
    "depression_rates_by_gender = depression_rates_by_gender[depression_rates_by_gender['year'] >= 1990]\n",
    "depression_rates_by_gender = depression_rates_by_gender[depression_rates_by_gender['year'] <= 2017]\n",
    "\n",
    "depression_and_suicide_rate_per_100000_individuals = depression_and_suicide_rate_per_100000_individuals[depression_and_suicide_rate_per_100000_individuals['year'] >= 1990]\n",
    "depression_and_suicide_rate_per_100000_individuals = depression_and_suicide_rate_per_100000_individuals[depression_and_suicide_rate_per_100000_individuals['year'] <= 2017]"
   ],
   "metadata": {
    "collapsed": false,
    "pycharm": {
     "name": "#%%\n"
    }
   }
  },
  {
   "cell_type": "code",
   "execution_count": 28,
   "outputs": [
    {
     "output_type": "stream",
     "name": "stdout",
     "text": [
      "global disorders:  (5488, 9)\nage groups:  (5488, 12)\ngender groups:  (6580, 5)\ndepression and suicide rate:  (6580, 5)\naffected:  (5488, 3)\n"
     ]
    }
   ],
   "source": [
    "print('global disorders: ', percentages_of_global_disorders.shape)\n",
    "print('age groups: ', depression_rates_by_age.shape)\n",
    "print('gender groups: ', depression_rates_by_gender.shape)\n",
    "print('depression and suicide rate: ', depression_and_suicide_rate_per_100000_individuals.shape)\n",
    "print('affected: ', depression_affected.shape)"
   ],
   "metadata": {
    "collapsed": false,
    "pycharm": {
     "name": "#%%\n"
    }
   }
  },
  {
   "source": [
    "Como podemos observar, este no es el caso, ya que los dataframes de <code>depression_rates_by_gender</code> y <code>depression_and_suicide_rate_per_100000_individuals</code> aun cuentan con una mayor cantidad de filas que el resto de los datos. Para saber cualés son estos datos extras, hacemos una comparación entre los valores únicos de las columnas de <code>entity</code> de un dataframe con 5488 filas y otro con 6580 filas, con el fin de saber que entidades extras tienen estos dos datasets."
   ],
   "cell_type": "markdown",
   "metadata": {}
  },
  {
   "cell_type": "code",
   "execution_count": 29,
   "metadata": {},
   "outputs": [
    {
     "output_type": "execute_result",
     "data": {
      "text/plain": [
       "6                            Anguilla\n",
       "10                              Aruba\n",
       "25    Bonaire Sint Eustatius and Saba\n",
       "29             British Virgin Islands\n",
       "38                     Cayman Islands\n",
       "dtype: object"
      ]
     },
     "metadata": {},
     "execution_count": 29
    }
   ],
   "source": [
    "global_disorders_unique_list = pd.unique(percentages_of_global_disorders['entity'])\n",
    "gender_groups_unique_list = pd.Series(pd.unique(depression_rates_by_gender['entity']))\n",
    "\n",
    "countries_not_in_all_dfs = gender_groups_unique_list[gender_groups_unique_list.apply(lambda x:x not in global_disorders_unique_list)]\n",
    "countries_not_in_all_dfs.head()"
   ]
  },
  {
   "source": [
    "Podemos observar que estas filas extras consisten en países pequeños, territorios y demás dependencias. La importancia de estos datos es de menor importancia al considerar el valor de uniformidad entre cada uno de los dataframes obtenidos. Con esto en mente eliminamos estas <code>entity</code> de los dataframes."
   ],
   "cell_type": "markdown",
   "metadata": {}
  },
  {
   "cell_type": "code",
   "execution_count": 33,
   "metadata": {},
   "outputs": [
    {
     "output_type": "stream",
     "name": "stdout",
     "text": [
      "gender groups:  (5488, 5)\ndepression and suicide rate:  (5488, 5)\n"
     ]
    }
   ],
   "source": [
    "depression_rates_by_gender = depression_rates_by_gender[depression_rates_by_gender['entity'].apply(lambda x:x not in countries_not_in_all_dfs.tolist())]\n",
    "depression_and_suicide_rate_per_100000_individuals = depression_and_suicide_rate_per_100000_individuals[depression_and_suicide_rate_per_100000_individuals['entity'].apply(lambda x:x not in countries_not_in_all_dfs.tolist())]\n",
    "\n",
    "print('gender groups: ', depression_rates_by_gender.shape)\n",
    "print('depression and suicide rate: ', depression_and_suicide_rate_per_100000_individuals.shape)"
   ]
  },
  {
   "source": [
    "Con los dataframes con un número de filas uniforme, verificamos que ya no existan valores <code>NaN</code> en ninguno de los dataframes."
   ],
   "cell_type": "markdown",
   "metadata": {}
  },
  {
   "source": [
    "<code>percentages_of_global_disorders</code>"
   ],
   "cell_type": "markdown",
   "metadata": {}
  },
  {
   "cell_type": "code",
   "execution_count": 35,
   "metadata": {},
   "outputs": [
    {
     "output_type": "execute_result",
     "data": {
      "text/plain": [
       "entity              0.0\n",
       "year                0.0\n",
       "schizophrenia       0.0\n",
       "bipolar_disorder    0.0\n",
       "eating_disorder     0.0\n",
       "anxiety             0.0\n",
       "drug_addiction      0.0\n",
       "depression          0.0\n",
       "alcoholism          0.0\n",
       "dtype: float64"
      ]
     },
     "metadata": {},
     "execution_count": 35
    }
   ],
   "source": [
    "percentages_of_global_disorders.isna().mean()"
   ]
  },
  {
   "source": [
    "<code>depression_rates_by_age</code>"
   ],
   "cell_type": "markdown",
   "metadata": {}
  },
  {
   "cell_type": "code",
   "execution_count": 36,
   "metadata": {},
   "outputs": [
    {
     "output_type": "execute_result",
     "data": {
      "text/plain": [
       "entity           0.0\n",
       "year             0.0\n",
       "from_20_to_24    0.0\n",
       "from_10_to_14    0.0\n",
       "all              0.0\n",
       "above_69         0.0\n",
       "from_30_to_34    0.0\n",
       "from_15_to_19    0.0\n",
       "from_25_to_29    0.0\n",
       "from_50_to_69    0.0\n",
       "standardized     0.0\n",
       "from_15_to_49    0.0\n",
       "dtype: float64"
      ]
     },
     "metadata": {},
     "execution_count": 36
    }
   ],
   "source": [
    "depression_rates_by_age.isna().mean()"
   ]
  },
  {
   "source": [
    "<code>depression_rates_by_gender</code>"
   ],
   "cell_type": "markdown",
   "metadata": {}
  },
  {
   "cell_type": "code",
   "execution_count": 37,
   "metadata": {},
   "outputs": [
    {
     "output_type": "execute_result",
     "data": {
      "text/plain": [
       "entity                   0.0\n",
       "year                     0.0\n",
       "prevalence_in_males      0.0\n",
       "prevalence_in_females    0.0\n",
       "population               0.0\n",
       "dtype: float64"
      ]
     },
     "metadata": {},
     "execution_count": 37
    }
   ],
   "source": [
    "depression_rates_by_gender.isna().mean()"
   ]
  },
  {
   "source": [
    "<code>depression_and_suicide_rate_per_100000_individuals</code>"
   ],
   "cell_type": "markdown",
   "metadata": {}
  },
  {
   "cell_type": "code",
   "execution_count": 38,
   "metadata": {},
   "outputs": [
    {
     "output_type": "execute_result",
     "data": {
      "text/plain": [
       "entity             0.0\n",
       "year               0.0\n",
       "suicide_rate       0.0\n",
       "depression_rate    0.0\n",
       "population         0.0\n",
       "dtype: float64"
      ]
     },
     "metadata": {},
     "execution_count": 38
    }
   ],
   "source": [
    "depression_and_suicide_rate_per_100000_individuals.isna().mean()"
   ]
  },
  {
   "source": [
    "<code>depression_affected</code>"
   ],
   "cell_type": "markdown",
   "metadata": {}
  },
  {
   "cell_type": "code",
   "execution_count": 39,
   "metadata": {},
   "outputs": [
    {
     "output_type": "execute_result",
     "data": {
      "text/plain": [
       "entity                   0.0\n",
       "year                     0.0\n",
       "depression_prevalence    0.0\n",
       "dtype: float64"
      ]
     },
     "metadata": {},
     "execution_count": 39
    }
   ],
   "source": [
    "depression_affected.isna().mean()"
   ]
  },
  {
   "source": [
    "## Nota: Añadir continente usando la API de kaggle\n",
    "https://www.kaggle.com/statchaitya/country-to-continent"
   ],
   "cell_type": "markdown",
   "metadata": {}
  }
 ],
 "metadata": {
  "kernelspec": {
   "name": "python3",
   "display_name": "Python 3.9.0 64-bit",
   "metadata": {
    "interpreter": {
     "hash": "63fd5069d213b44bf678585dea6b12cceca9941eaf7f819626cde1f2670de90d"
    }
   }
  },
  "language_info": {
   "codemirror_mode": {
    "name": "ipython",
    "version": 2
   },
   "file_extension": ".py",
   "mimetype": "text/x-python",
   "name": "python",
   "nbconvert_exporter": "python",
   "pygments_lexer": "ipython2",
   "version": "3.9.0-final"
  }
 },
 "nbformat": 4,
 "nbformat_minor": 0
}