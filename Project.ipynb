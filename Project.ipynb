{
 "cells": [
  {
   "source": [
    "# Análisis de desordenes mentales en el mundo."
   ],
   "cell_type": "markdown",
   "metadata": {}
  },
  {
   "source": [
    "## Introducción"
   ],
   "cell_type": "markdown",
   "metadata": {}
  },
  {
   "cell_type": "code",
   "execution_count": null,
   "metadata": {},
   "outputs": [],
   "source": [
    "El ana"
   ]
  },
  {
   "source": [
    "## Justificación"
   ],
   "cell_type": "markdown",
   "metadata": {}
  },
  {
   "source": [
    "El presente proyecto busca generar un análisis de la evolución de diversos desordenes mentales en el mundo a lo largos de las últimas decadas. Para este proyecto se hace especial enfásis en la depresión, ya que se cuenta con una base de información extremadamente bien documentada sobre este fenómeno en particular y, por otro lado, este desorden en particular se encuentra como la mayor causa de discapacidad en el mundo, siendo entonces su estudio y comprensión de suma importancia para un mayor entendimiento de sus causas, consecuencias, así como de sus posibles soluciones."
   ],
   "cell_type": "markdown",
   "metadata": {}
  },
  {
   "cell_type": "markdown",
   "source": [
    "### Instalación de las librerias"
   ],
   "metadata": {
    "collapsed": false,
    "pycharm": {
     "name": "#%% md\n"
    }
   }
  },
  {
   "cell_type": "code",
   "execution_count": 5,
   "outputs": [
    {
     "output_type": "stream",
     "name": "stdout",
     "text": [
      "Requirement already satisfied: openpyxl in c:\\python39\\lib\\site-packages (3.0.6)\n",
      "Requirement already satisfied: et-xmlfile in c:\\python39\\lib\\site-packages (from openpyxl) (1.0.1)\n",
      "Requirement already satisfied: jdcal in c:\\python39\\lib\\site-packages (from openpyxl) (1.4.1)\n",
      "WARNING: You are using pip version 20.2.3; however, version 21.0.1 is available.\n",
      "You should consider upgrading via the 'c:\\python39\\python.exe -m pip install --upgrade pip' command.\n",
      "Requirement already satisfied: pandas in c:\\python39\\lib\\site-packages (1.2.3)\n",
      "Requirement already satisfied: numpy>=1.16.5 in c:\\python39\\lib\\site-packages (from pandas) (1.20.1)\n",
      "Requirement already satisfied: pytz>=2017.3 in c:\\python39\\lib\\site-packages (from pandas) (2021.1)\n",
      "Requirement already satisfied: python-dateutil>=2.7.3 in c:\\python39\\lib\\site-packages (from pandas) (2.8.1)\n",
      "Requirement already satisfied: six>=1.5 in c:\\python39\\lib\\site-packages (from python-dateutil>=2.7.3->pandas) (1.15.0)\n",
      "WARNING: You are using pip version 20.2.3; however, version 21.0.1 is available.\n",
      "You should consider upgrading via the 'c:\\python39\\python.exe -m pip install --upgrade pip' command.\n",
      "Requirement already satisfied: numpy in c:\\python39\\lib\\site-packages (1.20.1)\n",
      "WARNING: You are using pip version 20.2.3; however, version 21.0.1 is available.\n",
      "You should consider upgrading via the 'c:\\python39\\python.exe -m pip install --upgrade pip' command.\n",
      "Requirement already satisfied: requests in c:\\python39\\lib\\site-packages (2.25.1)\n",
      "Requirement already satisfied: certifi>=2017.4.17 in c:\\python39\\lib\\site-packages (from requests) (2020.12.5)\n",
      "Requirement already satisfied: idna<3,>=2.5 in c:\\python39\\lib\\site-packages (from requests) (2.10)\n",
      "Requirement already satisfied: chardet<5,>=3.0.2 in c:\\python39\\lib\\site-packages (from requests) (4.0.0)\n",
      "Requirement already satisfied: urllib3<1.27,>=1.21.1 in c:\\python39\\lib\\site-packages (from requests) (1.26.3)\n",
      "WARNING: You are using pip version 20.2.3; however, version 21.0.1 is available.\n",
      "You should consider upgrading via the 'c:\\python39\\python.exe -m pip install --upgrade pip' command.\n"
     ]
    }
   ],
   "source": [
    "!pip install openpyxl\n",
    "!pip install pandas\n",
    "!pip install numpy\n",
    "!pip install requests"
   ],
   "metadata": {
    "collapsed": false,
    "pycharm": {
     "name": "#%%\n"
    }
   }
  },
  {
   "cell_type": "markdown",
   "source": [
    "### Importación de Librerias\n",
    "- Numpy\n",
    "- Pandas\n",
    "- Request\n",
    "- Openpyxl"
   ],
   "metadata": {
    "collapsed": false
   }
  },
  {
   "cell_type": "code",
   "execution_count": 2,
   "outputs": [],
   "source": [
    "import pandas as pd\n",
    "import numpy as np\n",
    "import requests"
   ],
   "metadata": {
    "collapsed": false,
    "pycharm": {
     "name": "#%%\n"
    }
   }
  },
  {
   "cell_type": "markdown",
   "source": [
    "### Lectura de datos"
   ],
   "metadata": {
    "collapsed": false,
    "pycharm": {
     "name": "#%% md\n"
    }
   }
  },
  {
   "cell_type": "code",
   "execution_count": 4,
   "outputs": [],
   "source": [
    "depression_data_global_disorders = pd.read_excel(\n",
    "    open('./data/depression.xlsx', 'rb'),\n",
    "    sheet_name='prevalence-by-mental-and-substa', engine='openpyxl')\n",
    "depression_data_education_level = pd.read_excel(\n",
    "    open('./data/depression.xlsx', 'rb'),\n",
    "    sheet_name='depression-by-level-of-educatio', engine='openpyxl')\n",
    "depression_data_age_groups = pd.read_excel(\n",
    "    open('./data/depression.xlsx', 'rb'),\n",
    "    sheet_name='prevalence-of-depression-by-age', engine='openpyxl')\n",
    "depression_data_gender_groups = pd.read_excel(\n",
    "    open('./data/depression.xlsx', 'rb'),\n",
    "    sheet_name='prevalence-of-depression-males-', engine='openpyxl')\n",
    "depression_data_suicide_and_depressive_rate = pd.read_excel(\n",
    "    open('./data/depression.xlsx', 'rb'),\n",
    "    sheet_name='suicide-rates-vs-prevalence-of-', engine='openpyxl')\n",
    "depression_data_affected = pd.read_excel(\n",
    "    open('./data/depression.xlsx', 'rb'),\n",
    "    sheet_name='number-with-depression-by-count', engine='openpyxl')"
   ],
   "metadata": {
    "collapsed": false,
    "pycharm": {
     "name": "#%%\n"
    }
   }
  },
  {
   "cell_type": "markdown",
   "source": [
    "### Visualización las dimensiones de las tablas"
   ],
   "metadata": {
    "collapsed": false,
    "pycharm": {
     "name": "#%% md\n"
    }
   }
  },
  {
   "cell_type": "code",
   "execution_count": 5,
   "outputs": [
    {
     "output_type": "stream",
     "name": "stdout",
     "text": [
      "global disorders:  (6468, 10)\neducation levels:  (26, 15)\nage groups:  (6468, 13)\ngender groups:  (47807, 6)\nsuicide and depressive rates:  (47807, 6)\naffecteds:  (6468, 4)\n"
     ]
    }
   ],
   "source": [
    "print('global disorders: ', depression_data_global_disorders.shape)\n",
    "print('education levels: ', depression_data_education_level.shape)\n",
    "print('age groups: ', depression_data_age_groups.shape)\n",
    "print('gender groups: ', depression_data_gender_groups.shape)\n",
    "print('suicide and depressive rates: ', depression_data_suicide_and_depressive_rate.shape)\n",
    "print('affecteds: ', depression_data_affected.shape)"
   ],
   "metadata": {
    "collapsed": false,
    "pycharm": {
     "name": "#%%\n"
    }
   }
  },
  {
   "cell_type": "markdown",
   "source": [
    "### Visualización del nombre de las columnas"
   ],
   "metadata": {
    "collapsed": false,
    "pycharm": {
     "name": "#%% md\n"
    }
   }
  },
  {
   "cell_type": "code",
   "execution_count": 45,
   "outputs": [
    {
     "name": "stdout",
     "output_type": "stream",
     "text": [
      "Index(['Entity', 'Code', 'Year', 'Schizophrenia (%)', 'Bipolar disorder (%)',\n",
      "       'Eating disorders (%)', 'Anxiety disorders (%)',\n",
      "       'Drug use disorders (%)', 'Depression (%)',\n",
      "       'Alcohol use disorders (%)'],\n",
      "      dtype='object')\n"
     ]
    }
   ],
   "source": [
    "print(depression_data_global_disorders.columns)"
   ],
   "metadata": {
    "collapsed": false,
    "pycharm": {
     "name": "#%%\n"
    }
   }
  },
  {
   "cell_type": "code",
   "execution_count": 46,
   "outputs": [
    {
     "name": "stdout",
     "output_type": "stream",
     "text": [
      "Index(['Entity', 'Code', 'Year', 'All levels (active) (%)',\n",
      "       'All levels (employed) (%)', 'All levels (total) (%)',\n",
      "       'Below upper secondary (active) (%)',\n",
      "       'Below upper secondary (employed) (%)',\n",
      "       'Below upper secondary (total) (%)', 'Tertiary (active) (%)',\n",
      "       'Tertiary (employed) (%)', 'Tertiary (total) (%)',\n",
      "       'Upper secondary & post-secondary non-tertiary (active) (%)',\n",
      "       'Upper secondary & post-secondary non-tertiary (employed) (%)',\n",
      "       'Upper secondary & post-secondary non-tertiary (total) (%)'],\n",
      "      dtype='object')\n"
     ]
    }
   ],
   "source": [
    "print(depression_data_education_level.columns)"
   ],
   "metadata": {
    "collapsed": false,
    "pycharm": {
     "name": "#%%\n"
    }
   }
  },
  {
   "cell_type": "code",
   "execution_count": 47,
   "outputs": [
    {
     "name": "stdout",
     "output_type": "stream",
     "text": [
      "Index(['Entity', 'Code', 'Year', '20-24 years old (%)', '10-14 years old (%)',\n",
      "       'All ages (%)', '70+ years old (%)', '30-34 years old (%)',\n",
      "       '15-19 years old (%)', '25-29 years old (%)', '50-69 years old (%)',\n",
      "       'Age-standardized (%)', '15-49 years old (%)'],\n",
      "      dtype='object')\n"
     ]
    }
   ],
   "source": [
    "print(depression_data_age_groups.columns)"
   ],
   "metadata": {
    "collapsed": false,
    "pycharm": {
     "name": "#%%\n"
    }
   }
  },
  {
   "cell_type": "code",
   "execution_count": 48,
   "outputs": [
    {
     "name": "stdout",
     "output_type": "stream",
     "text": [
      "Index(['Entity', 'Code', 'Year', 'Prevalence in males (%)',\n",
      "       'Prevalence in females (%)', 'Population'],\n",
      "      dtype='object')\n"
     ]
    }
   ],
   "source": [
    "print(depression_data_gender_groups.columns)"
   ],
   "metadata": {
    "collapsed": false,
    "pycharm": {
     "name": "#%%\n"
    }
   }
  },
  {
   "cell_type": "code",
   "execution_count": 49,
   "outputs": [
    {
     "name": "stdout",
     "output_type": "stream",
     "text": [
      "Index(['Entity', 'Code', 'Year',\n",
      "       'Suicide rate (deaths per 100,000 individuals)',\n",
      "       'Depressive disorder rates (number suffering per 100,000)',\n",
      "       'Population'],\n",
      "      dtype='object')\n"
     ]
    }
   ],
   "source": [
    "print(depression_data_suicide_and_depressive_rate.columns)"
   ],
   "metadata": {
    "collapsed": false,
    "pycharm": {
     "name": "#%%\n"
    }
   }
  },
  {
   "cell_type": "code",
   "execution_count": 50,
   "outputs": [
    {
     "name": "stdout",
     "output_type": "stream",
     "text": [
      "Index(['Entity', 'Code', 'Year',\n",
      "       'Prevalence - Depressive disorders - Sex: Both - Age: All Ages (Number) (people suffering from depression)'],\n",
      "      dtype='object')\n"
     ]
    }
   ],
   "source": [
    "print(depression_data_affected.columns)"
   ],
   "metadata": {
    "collapsed": false,
    "pycharm": {
     "name": "#%%\n"
    }
   }
  },
  {
   "cell_type": "markdown",
   "source": [
    "### Tipos de datos"
   ],
   "metadata": {
    "collapsed": false,
    "pycharm": {
     "name": "#%% md\n"
    }
   }
  },
  {
   "cell_type": "code",
   "execution_count": 39,
   "outputs": [
    {
     "name": "stdout",
     "output_type": "stream",
     "text": [
      "Entity                        object\n",
      "Code                          object\n",
      "Year                           int64\n",
      "Schizophrenia (%)            float64\n",
      "Bipolar disorder (%)         float64\n",
      "Eating disorders (%)         float64\n",
      "Anxiety disorders (%)        float64\n",
      "Drug use disorders (%)       float64\n",
      "Depression (%)               float64\n",
      "Alcohol use disorders (%)    float64\n",
      "dtype: object\n"
     ]
    }
   ],
   "source": [
    "print(depression_data_global_disorders.dtypes)"
   ],
   "metadata": {
    "collapsed": false,
    "pycharm": {
     "name": "#%%\n"
    }
   }
  },
  {
   "cell_type": "code",
   "execution_count": 40,
   "outputs": [
    {
     "name": "stdout",
     "output_type": "stream",
     "text": [
      "Entity                                                           object\n",
      "Code                                                             object\n",
      "Year                                                              int64\n",
      "All levels (active) (%)                                         float64\n",
      "All levels (employed) (%)                                       float64\n",
      "All levels (total) (%)                                          float64\n",
      "Below upper secondary (active) (%)                              float64\n",
      "Below upper secondary (employed) (%)                            float64\n",
      "Below upper secondary (total) (%)                               float64\n",
      "Tertiary (active) (%)                                           float64\n",
      "Tertiary (employed) (%)                                         float64\n",
      "Tertiary (total) (%)                                            float64\n",
      "Upper secondary & post-secondary non-tertiary (active) (%)      float64\n",
      "Upper secondary & post-secondary non-tertiary (employed) (%)    float64\n",
      "Upper secondary & post-secondary non-tertiary (total) (%)       float64\n",
      "dtype: object\n"
     ]
    }
   ],
   "source": [
    "print(depression_data_education_level.dtypes)"
   ],
   "metadata": {
    "collapsed": false,
    "pycharm": {
     "name": "#%%\n"
    }
   }
  },
  {
   "cell_type": "code",
   "execution_count": 41,
   "outputs": [
    {
     "name": "stdout",
     "output_type": "stream",
     "text": [
      "Entity                   object\n",
      "Code                     object\n",
      "Year                      int64\n",
      "20-24 years old (%)     float64\n",
      "10-14 years old (%)     float64\n",
      "All ages (%)            float64\n",
      "70+ years old (%)       float64\n",
      "30-34 years old (%)     float64\n",
      "15-19 years old (%)     float64\n",
      "25-29 years old (%)     float64\n",
      "50-69 years old (%)     float64\n",
      "Age-standardized (%)    float64\n",
      "15-49 years old (%)     float64\n",
      "dtype: object\n"
     ]
    }
   ],
   "source": [
    "print(depression_data_age_groups.dtypes)"
   ],
   "metadata": {
    "collapsed": false,
    "pycharm": {
     "name": "#%%\n"
    }
   }
  },
  {
   "cell_type": "code",
   "execution_count": 42,
   "outputs": [
    {
     "name": "stdout",
     "output_type": "stream",
     "text": [
      "Entity                        object\n",
      "Code                          object\n",
      "Year                          object\n",
      "Prevalence in males (%)      float64\n",
      "Prevalence in females (%)    float64\n",
      "Population                   float64\n",
      "dtype: object\n"
     ]
    }
   ],
   "source": [
    "print(depression_data_gender_groups.dtypes)"
   ],
   "metadata": {
    "collapsed": false,
    "pycharm": {
     "name": "#%%\n"
    }
   }
  },
  {
   "cell_type": "code",
   "execution_count": 43,
   "outputs": [
    {
     "name": "stdout",
     "output_type": "stream",
     "text": [
      "Entity                                                       object\n",
      "Code                                                         object\n",
      "Year                                                         object\n",
      "Suicide rate (deaths per 100,000 individuals)               float64\n",
      "Depressive disorder rates (number suffering per 100,000)    float64\n",
      "Population                                                  float64\n",
      "dtype: object\n"
     ]
    }
   ],
   "source": [
    "print(depression_data_suicide_and_depressive_rate.dtypes)"
   ],
   "metadata": {
    "collapsed": false,
    "pycharm": {
     "name": "#%%\n"
    }
   }
  },
  {
   "cell_type": "code",
   "execution_count": 44,
   "outputs": [
    {
     "name": "stdout",
     "output_type": "stream",
     "text": [
      "Entity                                                                                                        object\n",
      "Code                                                                                                          object\n",
      "Year                                                                                                           int64\n",
      "Prevalence - Depressive disorders - Sex: Both - Age: All Ages (Number) (people suffering from depression)    float64\n",
      "dtype: object\n"
     ]
    }
   ],
   "source": [
    "print(depression_data_affected.dtypes)"
   ],
   "metadata": {
    "collapsed": false,
    "pycharm": {
     "name": "#%%\n"
    }
   }
  },
  {
   "cell_type": "markdown",
   "source": [
    "### Visualización de un conjunto pequeño de los datos"
   ],
   "metadata": {
    "collapsed": false,
    "pycharm": {
     "name": "#%% md\n"
    }
   }
  },
  {
   "cell_type": "code",
   "execution_count": 50,
   "outputs": [],
   "source": [],
   "metadata": {
    "collapsed": false,
    "pycharm": {
     "name": "#%%\n"
    }
   }
  },
  {
   "cell_type": "markdown",
   "source": [
    "## Limpieza de datos"
   ],
   "metadata": {
    "collapsed": false,
    "pycharm": {
     "name": "#%% md\n"
    }
   }
  },
  {
   "cell_type": "code",
   "execution_count": null,
   "outputs": [],
   "source": [],
   "metadata": {
    "collapsed": false,
    "pycharm": {
     "name": "#%%\n"
    }
   }
  },
  {
   "source": [
    "## Nota: Añadir continente usando la API de kaggle \n",
    "https://www.kaggle.com/statchaitya/country-to-continent"
   ],
   "cell_type": "markdown",
   "metadata": {}
  },
  {
   "cell_type": "code",
   "execution_count": null,
   "metadata": {},
   "outputs": [],
   "source": []
  }
 ],
 "metadata": {
  "kernelspec": {
   "name": "python3",
   "display_name": "Python 3.9.0 64-bit",
   "metadata": {
    "interpreter": {
     "hash": "63fd5069d213b44bf678585dea6b12cceca9941eaf7f819626cde1f2670de90d"
    }
   }
  },
  "language_info": {
   "codemirror_mode": {
    "name": "ipython",
    "version": 2
   },
   "file_extension": ".py",
   "mimetype": "text/x-python",
   "name": "python",
   "nbconvert_exporter": "python",
   "pygments_lexer": "ipython2",
   "version": "3.9.0-final"
  }
 },
 "nbformat": 4,
 "nbformat_minor": 0
}