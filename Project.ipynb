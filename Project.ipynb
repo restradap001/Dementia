{
 "cells": [
  {
   "cell_type": "markdown",
   "source": [
    "## Instalación de las librerias"
   ],
   "metadata": {
    "collapsed": false,
    "pycharm": {
     "name": "#%% md\n"
    }
   }
  },
  {
   "cell_type": "code",
   "execution_count": 16,
   "outputs": [
    {
     "name": "stdout",
     "output_type": "stream",
     "text": [
      "Collecting openpyxl\n",
      "  Downloading https://files.pythonhosted.org/packages/d4/c5/1a5f82b3020bfb27f21b302f96c8ae6a34475070015d1b1e0b197a97e2af/openpyxl-3.0.6-py2.py3-none-any.whl (242kB)\n",
      "Collecting jdcal (from openpyxl)\n",
      "  Downloading https://files.pythonhosted.org/packages/f0/da/572cbc0bc582390480bbd7c4e93d14dc46079778ed915b505dc494b37c57/jdcal-1.4.1-py2.py3-none-any.whl\n",
      "Collecting et-xmlfile (from openpyxl)\n",
      "  Downloading https://files.pythonhosted.org/packages/22/28/a99c42aea746e18382ad9fb36f64c1c1f04216f41797f2f0fa567da11388/et_xmlfile-1.0.1.tar.gz\n",
      "Building wheels for collected packages: et-xmlfile\n",
      "  Building wheel for et-xmlfile (setup.py): started\n",
      "  Building wheel for et-xmlfile (setup.py): finished with status 'done'\n",
      "  Created wheel for et-xmlfile: filename=et_xmlfile-1.0.1-cp38-none-any.whl size=8921 sha256=b7ad0e690c2b271d7f7c94ce7f421675643e5815f851426b6d7250837366c06a\n",
      "  Stored in directory: C:\\Users\\Ricardo Estrada\\AppData\\Local\\pip\\Cache\\wheels\\2a\\77\\35\\0da0965a057698121fc7d8c5a7a9955cdbfb3cc4e2423cad39\n",
      "Successfully built et-xmlfile\n",
      "Installing collected packages: jdcal, et-xmlfile, openpyxl\n",
      "Successfully installed et-xmlfile-1.0.1 jdcal-1.4.1 openpyxl-3.0.6\n"
     ]
    },
    {
     "name": "stderr",
     "output_type": "stream",
     "text": [
      "WARNING: You are using pip version 19.2.3, however version 21.0.1 is available.\n",
      "You should consider upgrading via the 'python -m pip install --upgrade pip' command.\n"
     ]
    }
   ],
   "source": [
    "!pip install openpyxl"
   ],
   "metadata": {
    "collapsed": false,
    "pycharm": {
     "name": "#%%\n"
    }
   }
  },
  {
   "cell_type": "markdown",
   "source": [
    "## Importación de Librerias\n",
    "- Numpy\n",
    "- Pandas"
   ],
   "metadata": {
    "collapsed": false
   }
  },
  {
   "cell_type": "code",
   "execution_count": 8,
   "outputs": [],
   "source": [
    "import pandas as pd\n",
    "import numpy as np"
   ],
   "metadata": {
    "collapsed": false,
    "pycharm": {
     "name": "#%%\n"
    }
   }
  },
  {
   "cell_type": "markdown",
   "source": [
    "## Lectura de datos"
   ],
   "metadata": {
    "collapsed": false,
    "pycharm": {
     "name": "#%% md\n"
    }
   }
  },
  {
   "cell_type": "code",
   "execution_count": 17,
   "outputs": [],
   "source": [
    "depression_data_global_disorders = pd.read_excel(\n",
    "    open('./data/depression.xlsx', 'rb'),\n",
    "    sheet_name='prevalence-by-mental-and-substa')\n",
    "depression_data_education_level = pd.read_excel(\n",
    "    open('./data/depression.xlsx', 'rb'),\n",
    "    sheet_name='depression-by-level-of-educatio')\n",
    "depression_data_age_groups = pd.read_excel(\n",
    "    open('./data/depression.xlsx', 'rb'),\n",
    "    sheet_name='prevalence-of-depression-by-age')\n",
    "depression_data_gender_groups = pd.read_excel(\n",
    "    open('./data/depression.xlsx', 'rb'),\n",
    "    sheet_name='prevalence-of-depression-males-')\n",
    "depression_data_ = pd.read_excel(\n",
    "    open('./data/depression.xlsx', 'rb'),\n",
    "    sheet_name='suicide-rates-vs-prevalence-of-')\n",
    "depression_data_affected = pd.read_excel(\n",
    "    open('./data/depression.xlsx', 'rb'),\n",
    "    sheet_name='number-with-depression-by-count')"
   ],
   "metadata": {
    "collapsed": false,
    "pycharm": {
     "name": "#%%\n"
    }
   }
  },
  {
   "cell_type": "markdown",
   "source": [
    "## Dimensiones"
   ],
   "metadata": {
    "collapsed": false,
    "pycharm": {
     "name": "#%% md\n"
    }
   }
  },
  {
   "cell_type": "code",
   "execution_count": 18,
   "outputs": [
    {
     "name": "stdout",
     "output_type": "stream",
     "text": [
      "(6468, 10)\n"
     ]
    }
   ],
   "source": [
    "print(depression_data_global_disorders.shape)"
   ],
   "metadata": {
    "collapsed": false,
    "pycharm": {
     "name": "#%%\n"
    }
   }
  },
  {
   "cell_type": "markdown",
   "source": [
    "## Nombre de las columnas"
   ],
   "metadata": {
    "collapsed": false,
    "pycharm": {
     "name": "#%% md\n"
    }
   }
  },
  {
   "cell_type": "code",
   "execution_count": 19,
   "outputs": [
    {
     "name": "stdout",
     "output_type": "stream",
     "text": [
      "Index(['Entity', 'Code', 'Year', 'Schizophrenia (%)', 'Bipolar disorder (%)',\n",
      "       'Eating disorders (%)', 'Anxiety disorders (%)',\n",
      "       'Drug use disorders (%)', 'Depression (%)',\n",
      "       'Alcohol use disorders (%)'],\n",
      "      dtype='object')\n"
     ]
    }
   ],
   "source": [
    "print(depression_data_global_disorders.columns)"
   ],
   "metadata": {
    "collapsed": false,
    "pycharm": {
     "name": "#%%\n"
    }
   }
  },
  {
   "cell_type": "markdown",
   "source": [
    "## Tipos de datos"
   ],
   "metadata": {
    "collapsed": false,
    "pycharm": {
     "name": "#%% md\n"
    }
   }
  },
  {
   "cell_type": "code",
   "execution_count": 20,
   "outputs": [
    {
     "name": "stdout",
     "output_type": "stream",
     "text": [
      "Entity                        object\n",
      "Code                          object\n",
      "Year                           int64\n",
      "Schizophrenia (%)            float64\n",
      "Bipolar disorder (%)         float64\n",
      "Eating disorders (%)         float64\n",
      "Anxiety disorders (%)        float64\n",
      "Drug use disorders (%)       float64\n",
      "Depression (%)               float64\n",
      "Alcohol use disorders (%)    float64\n",
      "dtype: object\n"
     ]
    }
   ],
   "source": [
    "print(depression_data_global_disorders.dtypes)"
   ],
   "metadata": {
    "collapsed": false,
    "pycharm": {
     "name": "#%%\n"
    }
   }
  },
  {
   "cell_type": "markdown",
   "source": [
    "## Visualización de los datos"
   ],
   "metadata": {
    "collapsed": false,
    "pycharm": {
     "name": "#%% md\n"
    }
   }
  },
  {
   "cell_type": "code",
   "execution_count": 21,
   "outputs": [
    {
     "name": "stdout",
     "output_type": "stream",
     "text": [
      "        Entity Code  Year  Schizophrenia (%)  Bipolar disorder (%)  \\\n",
      "0  Afghanistan  AFG  1990           0.160560              0.697779   \n",
      "1  Afghanistan  AFG  1991           0.160312              0.697961   \n",
      "2  Afghanistan  AFG  1992           0.160135              0.698107   \n",
      "3  Afghanistan  AFG  1993           0.160037              0.698257   \n",
      "4  Afghanistan  AFG  1994           0.160022              0.698469   \n",
      "5  Afghanistan  AFG  1995           0.160076              0.698695   \n",
      "6  Afghanistan  AFG  1996           0.160249              0.698914   \n",
      "7  Afghanistan  AFG  1997           0.160554              0.699127   \n",
      "8  Afghanistan  AFG  1998           0.160931              0.699372   \n",
      "9  Afghanistan  AFG  1999           0.161311              0.699674   \n",
      "\n",
      "   Eating disorders (%)  Anxiety disorders (%)  Drug use disorders (%)  \\\n",
      "0              0.101855               4.828830                1.677082   \n",
      "1              0.099313               4.829740                1.684746   \n",
      "2              0.096692               4.831108                1.694334   \n",
      "3              0.094336               4.830864                1.705320   \n",
      "4              0.092439               4.829423                1.716069   \n",
      "5              0.090980               4.828337                1.728112   \n",
      "6              0.089709               4.828083                1.737643   \n",
      "7              0.088372               4.827726                1.746891   \n",
      "8              0.087330               4.826971                1.756963   \n",
      "9              0.086267               4.826413                1.770791   \n",
      "\n",
      "   Depression (%)  Alcohol use disorders (%)  \n",
      "0        4.071831                   0.672404  \n",
      "1        4.079531                   0.671768  \n",
      "2        4.088358                   0.670644  \n",
      "3        4.096190                   0.669738  \n",
      "4        4.099582                   0.669260  \n",
      "5        4.104207                   0.668746  \n",
      "6        4.107500                   0.667727  \n",
      "7        4.110834                   0.666220  \n",
      "8        4.114438                   0.664676  \n",
      "9        4.117633                   0.663428  \n"
     ]
    }
   ],
   "source": [
    "print(depression_data_global_disorders.head(10)) #Tabla"
   ],
   "metadata": {
    "collapsed": false,
    "pycharm": {
     "name": "#%%\n"
    }
   }
  }
 ],
 "metadata": {
  "kernelspec": {
   "display_name": "Python 3",
   "language": "python",
   "name": "python3"
  },
  "language_info": {
   "codemirror_mode": {
    "name": "ipython",
    "version": 2
   },
   "file_extension": ".py",
   "mimetype": "text/x-python",
   "name": "python",
   "nbconvert_exporter": "python",
   "pygments_lexer": "ipython2",
   "version": "2.7.6"
  }
 },
 "nbformat": 4,
 "nbformat_minor": 0
}