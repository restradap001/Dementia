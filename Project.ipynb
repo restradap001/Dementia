{
 "cells": [
  {
   "cell_type": "markdown",
   "source": [
    "### Instalación de las librerias"
   ],
   "metadata": {
    "collapsed": false,
    "pycharm": {
     "name": "#%% md\n"
    }
   }
  },
  {
   "cell_type": "code",
   "execution_count": 16,
   "outputs": [
    {
     "name": "stdout",
     "output_type": "stream",
     "text": [
      "Collecting openpyxl\n",
      "  Downloading https://files.pythonhosted.org/packages/d4/c5/1a5f82b3020bfb27f21b302f96c8ae6a34475070015d1b1e0b197a97e2af/openpyxl-3.0.6-py2.py3-none-any.whl (242kB)\n",
      "Collecting jdcal (from openpyxl)\n",
      "  Downloading https://files.pythonhosted.org/packages/f0/da/572cbc0bc582390480bbd7c4e93d14dc46079778ed915b505dc494b37c57/jdcal-1.4.1-py2.py3-none-any.whl\n",
      "Collecting et-xmlfile (from openpyxl)\n",
      "  Downloading https://files.pythonhosted.org/packages/22/28/a99c42aea746e18382ad9fb36f64c1c1f04216f41797f2f0fa567da11388/et_xmlfile-1.0.1.tar.gz\n",
      "Building wheels for collected packages: et-xmlfile\n",
      "  Building wheel for et-xmlfile (setup.py): started\n",
      "  Building wheel for et-xmlfile (setup.py): finished with status 'done'\n",
      "  Created wheel for et-xmlfile: filename=et_xmlfile-1.0.1-cp38-none-any.whl size=8921 sha256=b7ad0e690c2b271d7f7c94ce7f421675643e5815f851426b6d7250837366c06a\n",
      "  Stored in directory: C:\\Users\\Ricardo Estrada\\AppData\\Local\\pip\\Cache\\wheels\\2a\\77\\35\\0da0965a057698121fc7d8c5a7a9955cdbfb3cc4e2423cad39\n",
      "Successfully built et-xmlfile\n",
      "Installing collected packages: jdcal, et-xmlfile, openpyxl\n",
      "Successfully installed et-xmlfile-1.0.1 jdcal-1.4.1 openpyxl-3.0.6\n"
     ]
    },
    {
     "name": "stderr",
     "output_type": "stream",
     "text": [
      "WARNING: You are using pip version 19.2.3, however version 21.0.1 is available.\n",
      "You should consider upgrading via the 'python -m pip install --upgrade pip' command.\n"
     ]
    }
   ],
   "source": [
    "!pip install openpyxl\n",
    "!pip install pandas\n",
    "!pip install numpy"
   ],
   "metadata": {
    "collapsed": false,
    "pycharm": {
     "name": "#%%\n"
    }
   }
  },
  {
   "cell_type": "markdown",
   "source": [
    "### Importación de Librerias\n",
    "- Numpy\n",
    "- Pandas"
   ],
   "metadata": {
    "collapsed": false
   }
  },
  {
   "cell_type": "code",
   "execution_count": 8,
   "outputs": [],
   "source": [
    "import pandas as pd\n",
    "# import numpy as np"
   ],
   "metadata": {
    "collapsed": false,
    "pycharm": {
     "name": "#%%\n"
    }
   }
  },
  {
   "cell_type": "markdown",
   "source": [
    "### Lectura de datos"
   ],
   "metadata": {
    "collapsed": false,
    "pycharm": {
     "name": "#%% md\n"
    }
   }
  },
  {
   "cell_type": "code",
   "execution_count": 22,
   "outputs": [],
   "source": [
    "depression_data_global_disorders = pd.read_excel(\n",
    "    open('./data/depression.xlsx', 'rb'),\n",
    "    sheet_name='prevalence-by-mental-and-substa')\n",
    "depression_data_education_level = pd.read_excel(\n",
    "    open('./data/depression.xlsx', 'rb'),\n",
    "    sheet_name='depression-by-level-of-educatio')\n",
    "depression_data_age_groups = pd.read_excel(\n",
    "    open('./data/depression.xlsx', 'rb'),\n",
    "    sheet_name='prevalence-of-depression-by-age')\n",
    "depression_data_gender_groups = pd.read_excel(\n",
    "    open('./data/depression.xlsx', 'rb'),\n",
    "    sheet_name='prevalence-of-depression-males-')\n",
    "depression_data_suicide_and_depressive_rate = pd.read_excel(\n",
    "    open('./data/depression.xlsx', 'rb'),\n",
    "    sheet_name='suicide-rates-vs-prevalence-of-')\n",
    "depression_data_affected = pd.read_excel(\n",
    "    open('./data/depression.xlsx', 'rb'),\n",
    "    sheet_name='number-with-depression-by-count')"
   ],
   "metadata": {
    "collapsed": false,
    "pycharm": {
     "name": "#%%\n"
    }
   }
  },
  {
   "cell_type": "markdown",
   "source": [
    "### Visualización las dimensiones de las tablas"
   ],
   "metadata": {
    "collapsed": false,
    "pycharm": {
     "name": "#%% md\n"
    }
   }
  },
  {
   "cell_type": "code",
   "execution_count": 33,
   "outputs": [
    {
     "name": "stdout",
     "output_type": "stream",
     "text": [
      "global disorders:  (6468, 10)\n",
      "education level:  (26, 15)\n",
      "age groups:  (6468, 13)\n",
      "gender groups:  (47807, 6)\n",
      "suicide and depressive rate:  (47807, 6)\n",
      "affected:  (6468, 4)\n"
     ]
    }
   ],
   "source": [
    "print('global disorders: ', depression_data_global_disorders.shape)\n",
    "print('education levels: ', depression_data_education_level.shape)\n",
    "print('age groups: ', depression_data_age_groups.shape)\n",
    "print('gender groups: ', depression_data_gender_groups.shape)\n",
    "print('suicide and depressive rates: ', depression_data_suicide_and_depressive_rate.shape)\n",
    "print('affecteds: ', depression_data_affected.shape)"
   ],
   "metadata": {
    "collapsed": false,
    "pycharm": {
     "name": "#%%\n"
    }
   }
  },
  {
   "cell_type": "markdown",
   "source": [
    "### Visualización del nombre de las columnas"
   ],
   "metadata": {
    "collapsed": false,
    "pycharm": {
     "name": "#%% md\n"
    }
   }
  },
  {
   "cell_type": "code",
   "execution_count": 45,
   "outputs": [
    {
     "name": "stdout",
     "output_type": "stream",
     "text": [
      "Index(['Entity', 'Code', 'Year', 'Schizophrenia (%)', 'Bipolar disorder (%)',\n",
      "       'Eating disorders (%)', 'Anxiety disorders (%)',\n",
      "       'Drug use disorders (%)', 'Depression (%)',\n",
      "       'Alcohol use disorders (%)'],\n",
      "      dtype='object')\n"
     ]
    }
   ],
   "source": [
    "print(depression_data_global_disorders.columns)"
   ],
   "metadata": {
    "collapsed": false,
    "pycharm": {
     "name": "#%%\n"
    }
   }
  },
  {
   "cell_type": "code",
   "execution_count": 46,
   "outputs": [
    {
     "name": "stdout",
     "output_type": "stream",
     "text": [
      "Index(['Entity', 'Code', 'Year', 'All levels (active) (%)',\n",
      "       'All levels (employed) (%)', 'All levels (total) (%)',\n",
      "       'Below upper secondary (active) (%)',\n",
      "       'Below upper secondary (employed) (%)',\n",
      "       'Below upper secondary (total) (%)', 'Tertiary (active) (%)',\n",
      "       'Tertiary (employed) (%)', 'Tertiary (total) (%)',\n",
      "       'Upper secondary & post-secondary non-tertiary (active) (%)',\n",
      "       'Upper secondary & post-secondary non-tertiary (employed) (%)',\n",
      "       'Upper secondary & post-secondary non-tertiary (total) (%)'],\n",
      "      dtype='object')\n"
     ]
    }
   ],
   "source": [
    "print(depression_data_education_level.columns)"
   ],
   "metadata": {
    "collapsed": false,
    "pycharm": {
     "name": "#%%\n"
    }
   }
  },
  {
   "cell_type": "code",
   "execution_count": 47,
   "outputs": [
    {
     "name": "stdout",
     "output_type": "stream",
     "text": [
      "Index(['Entity', 'Code', 'Year', '20-24 years old (%)', '10-14 years old (%)',\n",
      "       'All ages (%)', '70+ years old (%)', '30-34 years old (%)',\n",
      "       '15-19 years old (%)', '25-29 years old (%)', '50-69 years old (%)',\n",
      "       'Age-standardized (%)', '15-49 years old (%)'],\n",
      "      dtype='object')\n"
     ]
    }
   ],
   "source": [
    "print(depression_data_age_groups.columns)"
   ],
   "metadata": {
    "collapsed": false,
    "pycharm": {
     "name": "#%%\n"
    }
   }
  },
  {
   "cell_type": "code",
   "execution_count": 48,
   "outputs": [
    {
     "name": "stdout",
     "output_type": "stream",
     "text": [
      "Index(['Entity', 'Code', 'Year', 'Prevalence in males (%)',\n",
      "       'Prevalence in females (%)', 'Population'],\n",
      "      dtype='object')\n"
     ]
    }
   ],
   "source": [
    "print(depression_data_gender_groups.columns)"
   ],
   "metadata": {
    "collapsed": false,
    "pycharm": {
     "name": "#%%\n"
    }
   }
  },
  {
   "cell_type": "code",
   "execution_count": 49,
   "outputs": [
    {
     "name": "stdout",
     "output_type": "stream",
     "text": [
      "Index(['Entity', 'Code', 'Year',\n",
      "       'Suicide rate (deaths per 100,000 individuals)',\n",
      "       'Depressive disorder rates (number suffering per 100,000)',\n",
      "       'Population'],\n",
      "      dtype='object')\n"
     ]
    }
   ],
   "source": [
    "print(depression_data_suicide_and_depressive_rate.columns)"
   ],
   "metadata": {
    "collapsed": false,
    "pycharm": {
     "name": "#%%\n"
    }
   }
  },
  {
   "cell_type": "code",
   "execution_count": 50,
   "outputs": [
    {
     "name": "stdout",
     "output_type": "stream",
     "text": [
      "Index(['Entity', 'Code', 'Year',\n",
      "       'Prevalence - Depressive disorders - Sex: Both - Age: All Ages (Number) (people suffering from depression)'],\n",
      "      dtype='object')\n"
     ]
    }
   ],
   "source": [
    "print(depression_data_affected.columns)"
   ],
   "metadata": {
    "collapsed": false,
    "pycharm": {
     "name": "#%%\n"
    }
   }
  },
  {
   "cell_type": "markdown",
   "source": [
    "### Tipos de datos"
   ],
   "metadata": {
    "collapsed": false,
    "pycharm": {
     "name": "#%% md\n"
    }
   }
  },
  {
   "cell_type": "code",
   "execution_count": 39,
   "outputs": [
    {
     "name": "stdout",
     "output_type": "stream",
     "text": [
      "Entity                        object\n",
      "Code                          object\n",
      "Year                           int64\n",
      "Schizophrenia (%)            float64\n",
      "Bipolar disorder (%)         float64\n",
      "Eating disorders (%)         float64\n",
      "Anxiety disorders (%)        float64\n",
      "Drug use disorders (%)       float64\n",
      "Depression (%)               float64\n",
      "Alcohol use disorders (%)    float64\n",
      "dtype: object\n"
     ]
    }
   ],
   "source": [
    "print(depression_data_global_disorders.dtypes)"
   ],
   "metadata": {
    "collapsed": false,
    "pycharm": {
     "name": "#%%\n"
    }
   }
  },
  {
   "cell_type": "code",
   "execution_count": 40,
   "outputs": [
    {
     "name": "stdout",
     "output_type": "stream",
     "text": [
      "Entity                                                           object\n",
      "Code                                                             object\n",
      "Year                                                              int64\n",
      "All levels (active) (%)                                         float64\n",
      "All levels (employed) (%)                                       float64\n",
      "All levels (total) (%)                                          float64\n",
      "Below upper secondary (active) (%)                              float64\n",
      "Below upper secondary (employed) (%)                            float64\n",
      "Below upper secondary (total) (%)                               float64\n",
      "Tertiary (active) (%)                                           float64\n",
      "Tertiary (employed) (%)                                         float64\n",
      "Tertiary (total) (%)                                            float64\n",
      "Upper secondary & post-secondary non-tertiary (active) (%)      float64\n",
      "Upper secondary & post-secondary non-tertiary (employed) (%)    float64\n",
      "Upper secondary & post-secondary non-tertiary (total) (%)       float64\n",
      "dtype: object\n"
     ]
    }
   ],
   "source": [
    "print(depression_data_education_level.dtypes)"
   ],
   "metadata": {
    "collapsed": false,
    "pycharm": {
     "name": "#%%\n"
    }
   }
  },
  {
   "cell_type": "code",
   "execution_count": 41,
   "outputs": [
    {
     "name": "stdout",
     "output_type": "stream",
     "text": [
      "Entity                   object\n",
      "Code                     object\n",
      "Year                      int64\n",
      "20-24 years old (%)     float64\n",
      "10-14 years old (%)     float64\n",
      "All ages (%)            float64\n",
      "70+ years old (%)       float64\n",
      "30-34 years old (%)     float64\n",
      "15-19 years old (%)     float64\n",
      "25-29 years old (%)     float64\n",
      "50-69 years old (%)     float64\n",
      "Age-standardized (%)    float64\n",
      "15-49 years old (%)     float64\n",
      "dtype: object\n"
     ]
    }
   ],
   "source": [
    "print(depression_data_age_groups.dtypes)"
   ],
   "metadata": {
    "collapsed": false,
    "pycharm": {
     "name": "#%%\n"
    }
   }
  },
  {
   "cell_type": "code",
   "execution_count": 42,
   "outputs": [
    {
     "name": "stdout",
     "output_type": "stream",
     "text": [
      "Entity                        object\n",
      "Code                          object\n",
      "Year                          object\n",
      "Prevalence in males (%)      float64\n",
      "Prevalence in females (%)    float64\n",
      "Population                   float64\n",
      "dtype: object\n"
     ]
    }
   ],
   "source": [
    "print(depression_data_gender_groups.dtypes)"
   ],
   "metadata": {
    "collapsed": false,
    "pycharm": {
     "name": "#%%\n"
    }
   }
  },
  {
   "cell_type": "code",
   "execution_count": 43,
   "outputs": [
    {
     "name": "stdout",
     "output_type": "stream",
     "text": [
      "Entity                                                       object\n",
      "Code                                                         object\n",
      "Year                                                         object\n",
      "Suicide rate (deaths per 100,000 individuals)               float64\n",
      "Depressive disorder rates (number suffering per 100,000)    float64\n",
      "Population                                                  float64\n",
      "dtype: object\n"
     ]
    }
   ],
   "source": [
    "print(depression_data_suicide_and_depressive_rate.dtypes)"
   ],
   "metadata": {
    "collapsed": false,
    "pycharm": {
     "name": "#%%\n"
    }
   }
  },
  {
   "cell_type": "code",
   "execution_count": 44,
   "outputs": [
    {
     "name": "stdout",
     "output_type": "stream",
     "text": [
      "Entity                                                                                                        object\n",
      "Code                                                                                                          object\n",
      "Year                                                                                                           int64\n",
      "Prevalence - Depressive disorders - Sex: Both - Age: All Ages (Number) (people suffering from depression)    float64\n",
      "dtype: object\n"
     ]
    }
   ],
   "source": [
    "print(depression_data_affected.dtypes)"
   ],
   "metadata": {
    "collapsed": false,
    "pycharm": {
     "name": "#%%\n"
    }
   }
  },
  {
   "cell_type": "markdown",
   "source": [
    "### Visualización de un conjunto pequeño de los datos"
   ],
   "metadata": {
    "collapsed": false,
    "pycharm": {
     "name": "#%% md\n"
    }
   }
  },
  {
   "cell_type": "code",
   "execution_count": 50,
   "outputs": [],
   "source": [],
   "metadata": {
    "collapsed": false,
    "pycharm": {
     "name": "#%%\n"
    }
   }
  },
  {
   "cell_type": "markdown",
   "source": [
    "## Limpieza de datos"
   ],
   "metadata": {
    "collapsed": false,
    "pycharm": {
     "name": "#%% md\n"
    }
   }
  },
  {
   "cell_type": "code",
   "execution_count": null,
   "outputs": [],
   "source": [],
   "metadata": {
    "collapsed": false,
    "pycharm": {
     "name": "#%%\n"
    }
   }
  }
 ],
 "metadata": {
  "kernelspec": {
   "display_name": "Python 3",
   "language": "python",
   "name": "python3"
  },
  "language_info": {
   "codemirror_mode": {
    "name": "ipython",
    "version": 2
   },
   "file_extension": ".py",
   "mimetype": "text/x-python",
   "name": "python",
   "nbconvert_exporter": "python",
   "pygments_lexer": "ipython2",
   "version": "2.7.6"
  }
 },
 "nbformat": 4,
 "nbformat_minor": 0
}